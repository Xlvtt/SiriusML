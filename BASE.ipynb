{
 "cells": [
  {
   "cell_type": "markdown",
   "source": [
    "Предложили варианты.\n",
    "Начну я с первого боевого подхода - fine-tuning (T5 от Google, RuBert, GPT)\n",
    "\n",
    "Подходы:\n",
    "1. Поиск токенов в вопросе - бейзлайн. \n",
    "2. Дальше подумать, как можно научить модель отвечать на вопросы без контекста\n",
    "- Гуглинг (строим базу знаний, модель выбирает наиболее релевантный текст, а дальше накатываем модель 1)\n",
    "- Менее оптимизирвоанный вариант ест весь здоровенный текст в качестве контекста\n",
    "        - "
   ],
   "metadata": {
    "collapsed": false
   },
   "id": "8bb6eaff4fcc73e4"
  },
  {
   "cell_type": "markdown",
   "source": [
    "### Поиск токенов ответа\n",
    "\n",
    "##### Описание решения\n",
    "В таргете даны позиция начала и конца ответа, попробуем научить модель выделять эти позиции. \n",
    "Сведем к задаче классификации. Для каждого токена модель будет предсказывать вероятность начала ответа в нем и вероятности конца ответа в нем.\n",
    "Модель выдает вектор вероятностей размерности длины последовательности. Далее нужно замаскировать позиции, соответствующие токенам вопроса и служебным токенам, после чего прогнать через софтмакс.\n",
    "\n",
    "\n",
    "##### Обучение\n",
    "Пока идея - приделать две независимых головы для начала и для конца и учить модель на сумму их лоссов\n",
    "\n",
    "\n",
    "##### Инференс\n",
    "Вычислим веротяности всех пар, где start_pos <= end_pos, а из них выберем самую вероятную (хотя считать веротяности независимыми странно)\n",
    "Можно загрузить в бота текст для поиска ответа отдельной командой, а далее задавать к тексту вопросы.\n",
    "\n",
    "А может стоит и ответ к вопросу присобачить.\n",
    "\n",
    "Может ли модель сильно полагаться на то, что после вопроса есть токен [SEP]?\n"
   ],
   "metadata": {
    "collapsed": false
   },
   "id": "b655186955089528"
  },
  {
   "cell_type": "code",
   "outputs": [],
   "source": [
    "import subprocess\n",
    "import matplotlib.pyplot as plt\n",
    "import numpy as np\n",
    "import datasets\n",
    "from datasets import load_dataset\n",
    "from tqdm import tqdm\n",
    "from tokenizers import Tokenizer\n",
    "from transformers import BertTokenizer, BertTokenizerFast"
   ],
   "metadata": {
    "collapsed": false,
    "ExecuteTime": {
     "end_time": "2024-09-29T15:00:19.859234Z",
     "start_time": "2024-09-29T15:00:19.855414Z"
    }
   },
   "id": "62a828a2507c496a",
   "execution_count": 3
  },
  {
   "cell_type": "code",
   "outputs": [],
   "source": [
    "ds = load_dataset(\"kuznetsoffandrey/sberquad\")"
   ],
   "metadata": {
    "collapsed": false,
    "ExecuteTime": {
     "end_time": "2024-09-29T15:00:35.399082Z",
     "start_time": "2024-09-29T15:00:19.994126Z"
    }
   },
   "id": "785ad50c7a990cf6",
   "execution_count": 4
  },
  {
   "cell_type": "code",
   "outputs": [
    {
     "name": "stdout",
     "output_type": "stream",
     "text": [
      "Context:  В протерозойских отложениях органические остатки встречаются намного чаще, чем в архейских. Они представлены известковыми выделениями сине-зелёных водорослей, ходами червей, остатками кишечнополостных. Кроме известковых водорослей, к числу древнейших растительных остатков относятся скопления графито-углистого вещества, образовавшегося в результате разложения Corycium enigmaticum. В кремнистых сланцах железорудной формации Канады найдены нитевидные водоросли, грибные нити и формы, близкие современным кокколитофоридам. В железистых кварцитах Северной Америки и Сибири обнаружены железистые продукты жизнедеятельности бактерий.\n",
      "Question:  чем представлены органические остатки?\n",
      "Answer:  {'text': ['известковыми выделениями сине-зелёных водорослей'], 'answer_start': [109]}\n"
     ]
    }
   ],
   "source": [
    "train_set = ds[\"train\"]\n",
    "valid_set = ds[\"validation\"]\n",
    "test_set = ds[\"test\"]\n",
    "\n",
    "print(\"Context: \", train_set[0][\"context\"])\n",
    "print(\"Question: \", train_set[0][\"question\"])\n",
    "print(\"Answer: \", train_set[0][\"answers\"])"
   ],
   "metadata": {
    "collapsed": false,
    "ExecuteTime": {
     "end_time": "2024-09-29T15:00:35.404566Z",
     "start_time": "2024-09-29T15:00:35.400088Z"
    }
   },
   "id": "a6295a8f417aa03c",
   "execution_count": 5
  },
  {
   "cell_type": "markdown",
   "source": [
    "Проверим, что ответы для всех датасетов определены однозначно"
   ],
   "metadata": {
    "collapsed": false
   },
   "id": "f95de8f5d194f714"
  },
  {
   "cell_type": "code",
   "outputs": [],
   "source": [
    "assert len(train_set.filter(lambda x: len(x[\"answers\"][\"text\"]) != 1)) == 0\n",
    "assert len(valid_set.filter(lambda x: len(x[\"answers\"][\"text\"]) != 1)) == 0\n",
    "assert len(test_set.filter(lambda x: len(x[\"answers\"][\"text\"]) != 1)) == 0\n"
   ],
   "metadata": {
    "collapsed": false,
    "ExecuteTime": {
     "end_time": "2024-09-29T15:04:05.903880Z",
     "start_time": "2024-09-29T15:04:05.892320Z"
    }
   },
   "id": "6632f44bf08b549f",
   "execution_count": 6
  },
  {
   "cell_type": "markdown",
   "source": [
    "Начнем с модели rubert-base-cased (токенизирует все слова с учетом регистра)\n",
    "1. Обучался на русской википедии\n",
    "2. 12 слоев энкодера, 12 голов аттеншена\n",
    "3. В качестве tokenizer использовался WordPiece на 30к токенов в словаре"
   ],
   "metadata": {
    "collapsed": false
   },
   "id": "3821df186ccb34d8"
  },
  {
   "cell_type": "code",
   "outputs": [],
   "source": [
    "MAX_LENGTH = 256\n",
    "DOC_STRIDE = 64\n",
    "BATCH_SIZE = 128\n",
    "NUM_EPOCHS = 3\n",
    "MODEL_CHECKPOINT = \"cointegrated/rubert-tiny\" #\"DeepPavlov/rubert-base-cased\""
   ],
   "metadata": {
    "collapsed": false,
    "ExecuteTime": {
     "end_time": "2024-09-29T15:04:06.280462Z",
     "start_time": "2024-09-29T15:04:06.277143Z"
    }
   },
   "id": "c3e2167aaa323338",
   "execution_count": 7
  },
  {
   "cell_type": "markdown",
   "source": [
    "Нужно получить те же токены, которые использовались при обучении берта.\n",
    "\n",
    "clean_up_tokenization_spaces  — должна ли модель очищать пробелы, которые были добавлены при разделении входного текста в процессе токенизации.\n",
    "do_lower_case - преобразовывает все токены в нижний регистр при токенизации (а что происходит, если в словаре они в верхнем регистре?)"
   ],
   "metadata": {
    "collapsed": false
   },
   "id": "645aa9d13cb68960"
  },
  {
   "cell_type": "code",
   "outputs": [
    {
     "data": {
      "text/plain": "CompletedProcess(args=['powershell', '-Command', 'wget https://huggingface.co/cointegrated/rubert-tiny/resolve/main/vocab.txt -OutFile vocab.txt'], returncode=0, stdout=b'', stderr=b'')"
     },
     "execution_count": 8,
     "metadata": {},
     "output_type": "execute_result"
    }
   ],
   "source": [
    "subprocess.run([\"powershell\", \"-Command\", f\"wget https://huggingface.co/{MODEL_CHECKPOINT}/resolve/main/vocab.txt -OutFile vocab.txt\"], capture_output=True)"
   ],
   "metadata": {
    "collapsed": false,
    "ExecuteTime": {
     "end_time": "2024-09-29T15:04:07.943678Z",
     "start_time": "2024-09-29T15:04:06.899494Z"
    }
   },
   "id": "c6d0a9e39333ddaf",
   "execution_count": 8
  },
  {
   "cell_type": "code",
   "outputs": [
    {
     "data": {
      "text/plain": "BertTokenizerFast(name_or_path='', vocab_size=29564, model_max_length=1000000000000000019884624838656, is_fast=True, padding_side='right', truncation_side='right', special_tokens={'unk_token': '[UNK]', 'sep_token': '[SEP]', 'pad_token': '[PAD]', 'cls_token': '[CLS]', 'mask_token': '[MASK]'}, clean_up_tokenization_spaces=True),  added_tokens_decoder={\n\t0: AddedToken(\"[PAD]\", rstrip=False, lstrip=False, single_word=False, normalized=False, special=True),\n\t1: AddedToken(\"[UNK]\", rstrip=False, lstrip=False, single_word=False, normalized=False, special=True),\n\t2: AddedToken(\"[CLS]\", rstrip=False, lstrip=False, single_word=False, normalized=False, special=True),\n\t3: AddedToken(\"[SEP]\", rstrip=False, lstrip=False, single_word=False, normalized=False, special=True),\n\t4: AddedToken(\"[MASK]\", rstrip=False, lstrip=False, single_word=False, normalized=False, special=True),\n}"
     },
     "execution_count": 9,
     "metadata": {},
     "output_type": "execute_result"
    }
   ],
   "source": [
    "tokenizer = BertTokenizerFast(\"vocab.txt\", do_lower_case=False, clean_up_tokenization_spaces=True, padding_side=\"right\")\n",
    "tokenizer"
   ],
   "metadata": {
    "collapsed": false,
    "ExecuteTime": {
     "end_time": "2024-09-29T15:04:07.983570Z",
     "start_time": "2024-09-29T15:04:07.944683Z"
    }
   },
   "id": "497c8c3e809ee087",
   "execution_count": 9
  },
  {
   "cell_type": "markdown",
   "source": [
    "- Мы можем обрезать тексты, но тогда ответ можем не попасть к вопросу. Разобьем текст на k пересекающихся окон.\n",
    "- Если ответа там нет или он обрезан, положим start=end и пустую строку в качестве ответа. Для этого используем параметр return_overflowing_tokens.\n",
    "- return_offsets_mapping нужен, чтобы возвращать индексы начала и конца каждого токена в словарь в параметр offset_mapping, в нем для каждого токена его [l, r) индексы в исходном тексте"
   ],
   "metadata": {
    "collapsed": false
   },
   "id": "6d7ae20a5e26fbd8"
  },
  {
   "cell_type": "code",
   "outputs": [
    {
     "name": "stdout",
     "output_type": "stream",
     "text": [
      "[CLS] чем представлены органические остатки? [SEP] В протерозойских отложениях органические остатки встречаются намного чаще, чем в ар [SEP]\n",
      "[CLS] чем представлены органические остатки? [SEP] встречаются намного чаще, чем в архейских. Они представлены известковыми выделения [SEP]\n",
      "[CLS] чем представлены органические остатки? [SEP] известковыми выделениями сине - зелёных водорослей, ход [SEP]\n",
      "[CLS] чем представлены органические остатки? [SEP]елёных водорослей, ходами червей, остатками кишечнополос [SEP]\n",
      "[CLS] чем представлены органические остатки? [SEP] остатками кишечнополостных. Кроме известковых водорослей, к [SEP]\n",
      "[CLS] чем представлены органические остатки? [SEP]стковых водорослей, к числу древнейших растительных остатков относятся [SEP]\n",
      "[CLS] чем представлены органические остатки? [SEP]ших растительных остатков относятся скопления графито - углистого вещества, образ [SEP]\n",
      "[CLS] чем представлены органические остатки? [SEP] - углистого вещества, образовавшегося в результате разложения Corycium enig [SEP]\n",
      "[CLS] чем представлены органические остатки? [SEP] разложения Corycium enigmaticum. В кремнистых сланцах желе [SEP]\n",
      "[CLS] чем представлены органические остатки? [SEP]ремнистых сланцах железорудной формации Канады найдены нитевидные вод [SEP]\n",
      "[CLS] чем представлены органические остатки? [SEP] Канады найдены нитевидные водоросли, грибные нити и формы, близкие сов [SEP]\n",
      "[CLS] чем представлены органические остатки? [SEP] нити и формы, близкие современным кокколитофоридам. В желе [SEP]\n",
      "[CLS] чем представлены органические остатки? [SEP]офоридам. В железистых кварцитах Северной Америки и Сибири обнару [SEP]\n",
      "[CLS] чем представлены органические остатки? [SEP]тах Северной Америки и Сибири обнаружены железистые продукты жизнедеятельно [SEP]\n",
      "[CLS] чем представлены органические остатки? [SEP]е продукты жизнедеятельности бактерий. [SEP]\n"
     ]
    }
   ],
   "source": [
    "context = train_set[0][\"context\"]\n",
    "question = train_set[0][\"question\"]\n",
    "\n",
    "inputs : dict = tokenizer(question, context, max_length=32, truncation=\"only_second\", stride=8, return_overflowing_tokens=True, return_offsets_mapping=True)\n",
    "\n",
    "for ids in inputs[\"input_ids\"]:\n",
    "    print(tokenizer.decode(ids))"
   ],
   "metadata": {
    "collapsed": false,
    "ExecuteTime": {
     "end_time": "2024-09-29T15:04:07.992713Z",
     "start_time": "2024-09-29T15:04:07.984584Z"
    }
   },
   "id": "5eb9e538e6b369df",
   "execution_count": 10
  },
  {
   "cell_type": "code",
   "outputs": [
    {
     "data": {
      "text/plain": "True"
     },
     "execution_count": 11,
     "metadata": {},
     "output_type": "execute_result"
    }
   ],
   "source": [
    "len(inputs[\"input_ids\"][0]) == len(inputs[\"offset_mapping\"][0])"
   ],
   "metadata": {
    "collapsed": false,
    "ExecuteTime": {
     "end_time": "2024-09-29T15:04:07.998824Z",
     "start_time": "2024-09-29T15:04:07.993718Z"
    }
   },
   "id": "400eb7e98b97ee17",
   "execution_count": 11
  },
  {
   "cell_type": "code",
   "outputs": [
    {
     "data": {
      "text/plain": "['id', 'title', 'context', 'question', 'answers']"
     },
     "execution_count": 12,
     "metadata": {},
     "output_type": "execute_result"
    }
   ],
   "source": [
    "train_set.column_names"
   ],
   "metadata": {
    "collapsed": false,
    "ExecuteTime": {
     "end_time": "2024-09-29T15:04:08.007318Z",
     "start_time": "2024-09-29T15:04:07.999832Z"
    }
   },
   "id": "eab025d14fbe8712",
   "execution_count": 12
  },
  {
   "cell_type": "code",
   "outputs": [
    {
     "data": {
      "text/plain": "{'id': 62310,\n 'title': 'SberChallenge',\n 'context': 'В протерозойских отложениях органические остатки встречаются намного чаще, чем в архейских. Они представлены известковыми выделениями сине-зелёных водорослей, ходами червей, остатками кишечнополостных. Кроме известковых водорослей, к числу древнейших растительных остатков относятся скопления графито-углистого вещества, образовавшегося в результате разложения Corycium enigmaticum. В кремнистых сланцах железорудной формации Канады найдены нитевидные водоросли, грибные нити и формы, близкие современным кокколитофоридам. В железистых кварцитах Северной Америки и Сибири обнаружены железистые продукты жизнедеятельности бактерий.',\n 'question': 'чем представлены органические остатки?',\n 'answers': {'text': ['известковыми выделениями сине-зелёных водорослей'],\n  'answer_start': [109]}}"
     },
     "execution_count": 13,
     "metadata": {},
     "output_type": "execute_result"
    }
   ],
   "source": [
    "train_set[0]"
   ],
   "metadata": {
    "collapsed": false,
    "ExecuteTime": {
     "end_time": "2024-09-29T15:04:08.045764Z",
     "start_time": "2024-09-29T15:04:08.040327Z"
    }
   },
   "id": "3d8d3cf3f7c0e5de",
   "execution_count": 13
  },
  {
   "cell_type": "markdown",
   "source": [
    "Напишем функцию для препроцессинга:\n",
    "1. Обрежем, западдим и токенизируем последовательности\n",
    "2. Запишем в таргет индекс токена-начала и индекс токена-конца"
   ],
   "metadata": {
    "collapsed": false
   },
   "id": "bb230a7d72e2d5f5"
  },
  {
   "cell_type": "code",
   "outputs": [
    {
     "data": {
      "text/plain": "'В протерозойских отложениях органические остатки встречаются намного чаще, чем в архейских. Они представлены известковыми выделениями сине-зелёных водорослей, ходами червей, остатками кишечнополостных. Кроме известковых водорослей, к числу древнейших растительных остатков относятся скопления графито-углистого вещества, образовавшегося в результате разложения Corycium enigmaticum. В кремнистых сланцах железорудной формации Канады найдены нитевидные водоросли, грибные нити и формы, близкие современным кокколитофоридам. В железистых кварцитах Северной Америки и Сибири обнаружены железистые продукты жизнедеятельности бактерий.'"
     },
     "execution_count": 14,
     "metadata": {},
     "output_type": "execute_result"
    }
   ],
   "source": [
    "train_set[0][\"context\"]"
   ],
   "metadata": {
    "collapsed": false,
    "ExecuteTime": {
     "end_time": "2024-09-29T15:04:09.115754Z",
     "start_time": "2024-09-29T15:04:09.109467Z"
    }
   },
   "id": "2da4895dd13cb004",
   "execution_count": 14
  },
  {
   "cell_type": "code",
   "outputs": [
    {
     "name": "stdout",
     "output_type": "stream",
     "text": [
      "[1, 1, 1, 1, 1, 1, 1, 1, 1, 1, 1, 1, 1, 1, 1, 1, 1, 1, 1, 1, 1, 1, 1, 1, 0, 0, 0, 0, 0, 0, 0, 0]\n",
      "[(0, 0), (0, 3), (4, 16), (17, 23), (23, 29), (30, 32), (32, 35), (35, 37), (37, 38), (0, 0), (0, 1), (2, 7), (7, 9), (9, 11), (11, 16), (17, 19), (19, 26), (26, 27), (28, 34), (34, 40), (41, 43), (43, 46), (46, 48), (49, 60), (61, 64), (64, 68), (69, 73), (73, 74), (75, 78), (79, 80), (81, 83), (0, 0)]\n"
     ]
    },
    {
     "data": {
      "text/plain": "'[CLS] чем представлены органические остатки? [SEP]е продукты жизнедеятельности бактерий. [SEP] [PAD] [PAD] [PAD] [PAD] [PAD] [PAD] [PAD] [PAD]'"
     },
     "execution_count": 15,
     "metadata": {},
     "output_type": "execute_result"
    }
   ],
   "source": [
    "tokenized_samples = tokenizer(\n",
    "    train_set[0][\"question\"],\n",
    "    train_set[0][\"context\"],\n",
    "    truncation=\"only_second\",\n",
    "    max_length=32,\n",
    "    stride=8,\n",
    "    return_overflowing_tokens=True,\n",
    "    return_offsets_mapping=True,\n",
    "    padding=\"max_length\",\n",
    ")\n",
    "print(tokenized_samples[\"attention_mask\"][-1])\n",
    "print(tokenized_samples[\"offset_mapping\"][0])\n",
    "tokenizer.decode(tokenized_samples[\"input_ids\"][-1])"
   ],
   "metadata": {
    "collapsed": false,
    "ExecuteTime": {
     "end_time": "2024-09-29T15:04:09.295755Z",
     "start_time": "2024-09-29T15:04:09.287310Z"
    }
   },
   "id": "cc01c8b64ad0ba69",
   "execution_count": 15
  },
  {
   "cell_type": "code",
   "outputs": [
    {
     "data": {
      "text/plain": "(45328, 6, 62033, 62033)"
     },
     "execution_count": 16,
     "metadata": {},
     "output_type": "execute_result"
    }
   ],
   "source": [
    "def prepare_train_data(examples: dict):  # в словарь маппится целый батч\n",
    "    examples[\"question\"] = [q.lstrip() for q in examples[\"question\"]]\n",
    "\n",
    "    tokenized_samples = tokenizer(\n",
    "        examples[\"question\"],\n",
    "        examples[\"context\"],\n",
    "        truncation=\"only_second\",\n",
    "        max_length=MAX_LENGTH,\n",
    "        stride=DOC_STRIDE,\n",
    "        return_overflowing_tokens=True,\n",
    "        return_offsets_mapping=True,\n",
    "        padding=\"max_length\",\n",
    "    )  # получает список текстов, возвращает список списков токенов\n",
    "    # все передаваемые на вход списки склеивает, получая один список вопрос _+ ответ\n",
    "    offset_mapping = tokenized_samples.pop(\"offset_mapping\") # токен - [l, r) позиция его в начальном тексте\n",
    "    overflow_to_sample_mapping = tokenized_samples.pop(\"overflow_to_sample_mapping\")  # в случае переполнения поймем, к какому начальному тексту относится кусок \n",
    "\n",
    "    answer_start_positions = [] # Индексы токенов начала ответа\n",
    "    answer_end_positions = [] # индексы токенов конца ответ\n",
    "    masked_offset_mapping = []\n",
    "    \n",
    "    # examples[\"answers\"][i][\"answer_start\"] - начало ответа для i-того текста\n",
    "    # examples[\"answers\"][i][\"answer_start\"] + len(examples[\"answers\"][i][\"text\"]) - конец i-того текста не включительно\n",
    "    # Если ответ поместился полностью, ставим\n",
    "    for i, offsets in enumerate(offset_mapping):\n",
    "        sample_index = overflow_to_sample_mapping[i]\n",
    "        answer_start_index = examples[\"answers\"][sample_index][\"answer_start\"][0]\n",
    "        answer_end_index = answer_start_index + len(examples[\"answers\"][sample_index][\"text\"][0])\n",
    "        # ответ в [answer_start_index, answer_end_index]\n",
    "        cls_token_index = tokenized_samples[\"input_ids\"][sample_index].index(tokenizer.cls_token_id)  # на cls сгружаем все ненайденные ответы\n",
    "\n",
    "        pointer = 0\n",
    "        sequence_ids = tokenized_samples.sequence_ids(i) # так получаем список, который маппит склеенный текст в индексы переданных тексто\n",
    "        masked_offset_mapping.append([offset if sequence_ids[i] == 1 else None for i, offset in enumerate(offsets)])\n",
    "        \n",
    "        while pointer < len(sequence_ids) and sequence_ids[pointer] != 1: \n",
    "            pointer += 1\n",
    "        context_start = pointer\n",
    "        \n",
    "        while pointer < len(sequence_ids) and sequence_ids[pointer] == 1:\n",
    "            pointer += 1\n",
    "        context_end = pointer - 1\n",
    "        \n",
    "        if answer_end_index - 1 > offsets[context_end][1]: # ответ разорван и не входит в текст\n",
    "            answer_start_positions.append(cls_token_index)\n",
    "            answer_end_positions.append(cls_token_index)\n",
    "        else:\n",
    "            # ответ полностью входит в наш кусок\n",
    "            # индексы в offsets стоят по каждому тексту отдельно. Нам нужно стартовать с позиции старта контекста.\n",
    "            pointer = context_start\n",
    "            while pointer <= context_end and offsets[pointer][0] <= answer_start_index: # берем последний токен, начало которого <= индекс старта\n",
    "                # pointer-тый токен стоит в тексте на позиции [left_ind, right_ind)\n",
    "                pointer += 1\n",
    "            answer_start_positions.append(pointer - 1) # пушим индекс в склеенной последовательности токенов (в одном контексте это j - context_start + 1)\n",
    "            \n",
    "            pointer = context_end\n",
    "            while pointer >= context_start and offsets[pointer][1] >= answer_end_index: # берем с запасом, чтобы токен точно вошел\n",
    "                # pointer-тый токен стоит в тексте на позиции [left_ind, right_ind)\n",
    "                pointer -= 1\n",
    "            answer_end_positions.append(pointer + 1) # пушим индекс в склеенной последовательности токенов (в одном контексте это j - context_start + 1)\n",
    "            \n",
    "    tokenized_samples[\"start_positions\"] = answer_start_positions\n",
    "    tokenized_samples[\"end_positions\"] = answer_end_positions\n",
    "    tokenized_samples[\"offset_mapping\"] = masked_offset_mapping\n",
    "    \n",
    "    return tokenized_samples\n",
    "\n",
    "res = prepare_train_data(train_set[0:-1]) \n",
    "answer_start = res[\"start_positions\"]\n",
    "answer_end = res[\"end_positions\"]\n",
    "len(train_set), len(res), len(answer_start), len(answer_end)"
   ],
   "metadata": {
    "collapsed": false,
    "ExecuteTime": {
     "end_time": "2024-09-29T15:04:23.145158Z",
     "start_time": "2024-09-29T15:04:09.478014Z"
    }
   },
   "id": "c8f0526509200ab1",
   "execution_count": 16
  },
  {
   "cell_type": "markdown",
   "source": [
    "remove_columns - удаляет колонки после выхода из функции"
   ],
   "metadata": {
    "collapsed": false
   },
   "id": "631db81ac04e5b2"
  },
  {
   "cell_type": "code",
   "outputs": [],
   "source": [
    "tokenized_train = train_set.map(prepare_train_data, batched=True, remove_columns=train_set.column_names)"
   ],
   "metadata": {
    "collapsed": false,
    "ExecuteTime": {
     "end_time": "2024-09-29T15:04:28.154043Z",
     "start_time": "2024-09-29T15:04:28.120082Z"
    }
   },
   "id": "41c7b311156711ce",
   "execution_count": 17
  },
  {
   "cell_type": "code",
   "outputs": [],
   "source": [
    "tokenized_valid = valid_set.map(prepare_train_data, batched=True, remove_columns=valid_set.column_names)"
   ],
   "metadata": {
    "collapsed": false,
    "ExecuteTime": {
     "end_time": "2024-09-29T15:04:28.170871Z",
     "start_time": "2024-09-29T15:04:28.156048Z"
    }
   },
   "id": "f8b444cc8f0d8d30",
   "execution_count": 18
  },
  {
   "cell_type": "code",
   "outputs": [],
   "source": [
    "def prepare_test_data(examples: dict):\n",
    "    examples[\"question\"] = [q.lstrip() for q in examples[\"question\"]]\n",
    "\n",
    "    tokenized_samples = tokenizer(\n",
    "        examples[\"question\"],\n",
    "        examples[\"context\"],\n",
    "        truncation=\"only_second\",\n",
    "        max_length=MAX_LENGTH,\n",
    "        stride=DOC_STRIDE,\n",
    "        return_overflowing_tokens=True,\n",
    "        return_offsets_mapping=True,\n",
    "        padding=\"max_length\",\n",
    "    )\n",
    "\n",
    "    id_list = []\n",
    "    masked_offset_mapping = []\n",
    "    overflow_to_sample_mapping = tokenized_samples.pop(\"overflow_to_sample_mapping\")  # в случае переполнения поймем, к какому начальному тексту относится кусок \n",
    "    \n",
    "    for i in range(len(tokenized_samples[\"input_ids\"])):\n",
    "        sample_index = overflow_to_sample_mapping[i]  # добавляем поле айдишника\n",
    "        id_list.append(examples[\"id\"][sample_index])\n",
    "        \n",
    "        sequence_ids = tokenized_samples.sequence_ids(i)\n",
    "        offsets = tokenized_samples[\"offset_mapping\"][i]\n",
    "        masked_offset_mapping.append([offset if sequence_ids[index] == 1 else None for index, offset in enumerate(offsets)])  # Маскируем все оффсеты не из контекста\n",
    "    \n",
    "    tokenized_samples[\"id\"] = id_list\n",
    "    tokenized_samples[\"offset_mapping\"] = masked_offset_mapping\n",
    "    return tokenized_samples"
   ],
   "metadata": {
    "collapsed": false,
    "ExecuteTime": {
     "end_time": "2024-09-29T15:04:28.180917Z",
     "start_time": "2024-09-29T15:04:28.172876Z"
    }
   },
   "id": "261ba5c9a040e22",
   "execution_count": 19
  },
  {
   "cell_type": "code",
   "outputs": [],
   "source": [
    "tokenized_test = test_set.map(prepare_test_data, batched=True, remove_columns=test_set.column_names)"
   ],
   "metadata": {
    "collapsed": false,
    "ExecuteTime": {
     "end_time": "2024-09-29T15:04:28.216952Z",
     "start_time": "2024-09-29T15:04:28.181924Z"
    }
   },
   "id": "c3f4996820521e53",
   "execution_count": 20
  },
  {
   "cell_type": "markdown",
   "source": [
    "Из колонок остаются поля с таргетом и сами данные"
   ],
   "metadata": {
    "collapsed": false
   },
   "id": "17569e0446363ca9"
  },
  {
   "cell_type": "code",
   "outputs": [],
   "source": [
    "from transformers import AutoModelForQuestionAnswering, TrainingArguments, Trainer"
   ],
   "metadata": {
    "collapsed": false,
    "ExecuteTime": {
     "end_time": "2024-09-29T15:04:28.880316Z",
     "start_time": "2024-09-29T15:04:28.217958Z"
    }
   },
   "id": "a0297cf3e6ccf655",
   "execution_count": 21
  },
  {
   "cell_type": "code",
   "outputs": [
    {
     "name": "stderr",
     "output_type": "stream",
     "text": [
      "Some weights of BertForQuestionAnswering were not initialized from the model checkpoint at cointegrated/rubert-tiny and are newly initialized: ['qa_outputs.bias', 'qa_outputs.weight']\n",
      "You should probably TRAIN this model on a down-stream task to be able to use it for predictions and inference.\n"
     ]
    }
   ],
   "source": [
    "baseline = AutoModelForQuestionAnswering.from_pretrained(MODEL_CHECKPOINT)"
   ],
   "metadata": {
    "collapsed": false,
    "ExecuteTime": {
     "end_time": "2024-09-29T15:04:29.246671Z",
     "start_time": "2024-09-29T15:04:28.882322Z"
    }
   },
   "id": "9c563c071a5718e4",
   "execution_count": 22
  },
  {
   "cell_type": "markdown",
   "source": [
    "Ну пусть класс AutoModelForQuestionAnswering знает, как проводить обучение\n",
    "Но откуда она знает, в каких полях датасета у меня лежит таргет, например?"
   ],
   "metadata": {
    "collapsed": false
   },
   "id": "7d2edaf3e28b460c"
  },
  {
   "cell_type": "code",
   "outputs": [],
   "source": [
    "model_name = MODEL_CHECKPOINT.split(\"/\")[-1]\n",
    "args = TrainingArguments(\n",
    "    f\"{model_name}\",\n",
    "    eval_strategy=\"epoch\",\n",
    "    learning_rate=2e-5,\n",
    "    per_device_train_batch_size=BATCH_SIZE,\n",
    "    per_device_eval_batch_size=BATCH_SIZE,\n",
    "    num_train_epochs=NUM_EPOCHS,\n",
    "    weight_decay=0.01\n",
    ")"
   ],
   "metadata": {
    "collapsed": false,
    "ExecuteTime": {
     "end_time": "2024-09-29T15:04:33.259410Z",
     "start_time": "2024-09-29T15:04:33.238152Z"
    }
   },
   "id": "6fa45d18ac335b7f",
   "execution_count": 23
  },
  {
   "cell_type": "code",
   "outputs": [],
   "source": [
    "from transformers import default_data_collator\n",
    "\n",
    "data_collator = default_data_collator"
   ],
   "metadata": {
    "collapsed": false,
    "ExecuteTime": {
     "end_time": "2024-09-29T15:04:33.263800Z",
     "start_time": "2024-09-29T15:04:33.260419Z"
    }
   },
   "id": "1adfa85bb0be7037",
   "execution_count": 24
  },
  {
   "cell_type": "code",
   "outputs": [],
   "source": [
    "trainer = Trainer(\n",
    "    baseline,\n",
    "    args,\n",
    "    train_dataset=tokenized_train,\n",
    "    eval_dataset=tokenized_valid,\n",
    "    data_collator=data_collator,\n",
    "    tokenizer=tokenizer\n",
    ")"
   ],
   "metadata": {
    "collapsed": false,
    "ExecuteTime": {
     "end_time": "2024-09-29T15:04:33.281349Z",
     "start_time": "2024-09-29T15:04:33.265809Z"
    }
   },
   "id": "938a9f364b446c25",
   "execution_count": 25
  },
  {
   "cell_type": "code",
   "outputs": [
    {
     "data": {
      "text/plain": "Dataset({\n    features: ['input_ids', 'token_type_ids', 'attention_mask', 'start_positions', 'end_positions', 'offset_mapping'],\n    num_rows: 62035\n})"
     },
     "execution_count": 26,
     "metadata": {},
     "output_type": "execute_result"
    }
   ],
   "source": [
    "tokenized_train"
   ],
   "metadata": {
    "collapsed": false,
    "ExecuteTime": {
     "end_time": "2024-09-29T15:04:37.877471Z",
     "start_time": "2024-09-29T15:04:37.873955Z"
    }
   },
   "id": "67b0998757e89763",
   "execution_count": 26
  },
  {
   "cell_type": "markdown",
   "source": [
    "Класс Trainer определяет поле для таргета по модели.\n",
    "В датасете может быть записано что угодно, но главное, чтобы был весь набор ожидаемых ключей.\n",
    "В нашем случае это таргет в start_positions и end_positions"
   ],
   "metadata": {
    "collapsed": false
   },
   "id": "f99a7e18516dbd9d"
  },
  {
   "cell_type": "markdown",
   "source": [
    "Обучим / определим модель"
   ],
   "metadata": {
    "collapsed": false
   },
   "id": "2e46133bbc7f033"
  },
  {
   "cell_type": "code",
   "outputs": [],
   "source": [
    "from pathlib import Path"
   ],
   "metadata": {
    "collapsed": false,
    "ExecuteTime": {
     "end_time": "2024-09-29T15:04:42.643428Z",
     "start_time": "2024-09-29T15:04:42.640167Z"
    }
   },
   "id": "f511ac6fe9f51be3",
   "execution_count": 27
  },
  {
   "cell_type": "code",
   "outputs": [],
   "source": [
    "model_path = Path(f\"./{model_name}\")\n",
    "if not model_path.exists():\n",
    "    trainer.train()\n",
    "    trainer.save_model(str(model_path))\n",
    "    model = trainer.model\n",
    "else:\n",
    "    model = AutoModelForQuestionAnswering.from_pretrained(str(model_path))\n",
    "    trainer.model = model"
   ],
   "metadata": {
    "collapsed": false,
    "ExecuteTime": {
     "end_time": "2024-09-29T15:04:42.668666Z",
     "start_time": "2024-09-29T15:04:42.643428Z"
    }
   },
   "id": "313eb4db9b3a5b64",
   "execution_count": 28
  },
  {
   "cell_type": "code",
   "outputs": [
    {
     "name": "stdout",
     "output_type": "stream",
     "text": [
      "batch keys: dict_keys(['input_ids', 'token_type_ids', 'attention_mask', 'start_positions', 'end_positions'])\n",
      "output keys:  odict_keys(['loss', 'start_logits', 'end_logits'])\n"
     ]
    }
   ],
   "source": [
    "import torch\n",
    "\n",
    "for batch in trainer.get_eval_dataloader():\n",
    "    print(\"batch keys:\", batch.keys())\n",
    "    break\n",
    "batch = {key: value.to(trainer.args.device) for key, value in batch.items()}\n",
    "with torch.no_grad():\n",
    "    output = model(**batch)  # Ждет те же данные, что и для обучения\n",
    "print(\"output keys: \", output.keys())"
   ],
   "metadata": {
    "collapsed": false,
    "ExecuteTime": {
     "end_time": "2024-09-29T15:04:47.852224Z",
     "start_time": "2024-09-29T15:04:46.984484Z"
    }
   },
   "id": "c0b55988b48252b3",
   "execution_count": 29
  },
  {
   "cell_type": "code",
   "outputs": [
    {
     "name": "stderr",
     "output_type": "stream",
     "text": [
      "100%|██████████| 3/3 [00:00<00:00, 374.35it/s]\n"
     ]
    },
    {
     "data": {
      "text/plain": "[[{'score': 5.860038161277771, 'text': 'ние'},\n  {'score': 1.9342454671859741,\n   'text': 'Многоклеточный организм — внесистематическая категория живых организмов, тело которых состоит из многих клеток, большая часть которых (кроме стволовых, например, клеток камбия у растений) дифференцированы, то есть различаются по строению и выполняемым функциям'},\n  {'score': 1.8518097400665283,\n   'text': 'внесистематическая категория живых организмов, тело которых состоит из многих клеток, большая часть которых (кроме стволовых, например, клеток камбия у растений) дифференцированы, то есть различаются по строению и выполняемым функциям'},\n  {'score': 1.6291027665138245,\n   'text': 'У колониальных организмов отсутствуют настоящие дифференцированные клетки, а следовательно, и разделение тела на ткани. Граница между многоклеточностью и колониальностью нечёткая'},\n  {'score': 1.5599794536828995,\n   'text': 'из многих клеток, большая часть которых (кроме стволовых, например, клеток камбия у растений) дифференцированы, то есть различаются по строению и выполняемым функциям'},\n  {'score': 1.3752858638763428,\n   'text': 'Многоклеточный организм — внесистематическая категория живых организмов, тело которых состоит из многих клеток, большая часть которых (кроме стволовых, например, клеток камбия у растений) дифференцированы, то есть различаются по строению и выполняемым функциям. Следует отличать многоклеточность и колониальность. У колониальных организмов отсутствуют настоящие дифференцированные клетки, а следовательно, и разделение тела на ткани. Граница между многоклеточностью и колониальностью нечёткая'},\n  {'score': 1.3389885127544403,\n   'text': 'Многоклеточные животные, возможно, появились на Земле 2,1 миллиарда лет назад'},\n  {'score': 1.3181586861610413,\n   'text': 'кани. Граница между многоклеточностью и колониальностью нечёткая'},\n  {'score': 1.3165960013866425,\n   'text': '. Многоклеточные животные, возможно, появились на Земле 2,1 миллиарда лет назад'},\n  {'score': 1.3111755549907684,\n   'text': 'Кроме дифференциации клеток, для многоклеточных характерен и более высокий уровень интеграции, чем для колониальных форм. Многоклеточные животные, возможно, появились на Земле 2,1 миллиарда лет назад'},\n  {'score': 1.3036278784275055,\n   'text': 'Многоклеточные животные, возможно, появились на Земле 2,1 миллиарда лет назад, вскоре после кислородной революции'},\n  {'score': 1.292850136756897,\n   'text': 'внесистематическая категория живых организмов, тело которых состоит из многих клеток, большая часть которых (кроме стволовых, например, клеток камбия у растений) дифференцированы, то есть различаются по строению и выполняемым функциям. Следует отличать многоклеточность и колониальность. У колониальных организмов отсутствуют настоящие дифференцированные клетки, а следовательно, и разделение тела на ткани. Граница между многоклеточностью и колониальностью нечёткая'},\n  {'score': 1.2812353670597076,\n   'text': '. Многоклеточные животные, возможно, появились на Земле 2,1 миллиарда лет назад, вскоре после кислородной революции'},\n  {'score': 1.2758149206638336,\n   'text': 'Кроме дифференциации клеток, для многоклеточных характерен и более высокий уровень интеграции, чем для колониальных форм. Многоклеточные животные, возможно, появились на Земле 2,1 миллиарда лет назад, вскоре после кислородной революции'},\n  {'score': 1.2726337909698486,\n   'text': 'ние клеток на генеративные и соматические.'},\n  {'score': 1.1968469023704529,\n   'text': 'ние клеток на генеративные и соматические'},\n  {'score': 1.1786779165267944,\n   'text': 'Многоклеточный организм — внесистематическая категория живых организмов, тело которых состоит из многих клеток, большая часть которых (кроме стволовых, например, клеток камбия у растений) дифференцированы, то есть различаются по строению и выполняемым функциям. Следует отличать многоклеточность и колониальность'},\n  {'score': 1.1145371198654175, 'text': '.'},\n  {'score': 1.0962421894073486,\n   'text': 'внесистематическая категория живых организмов, тело которых состоит из многих клеток, большая часть которых (кроме стволовых, например, клеток камбия у растений) дифференцированы, то есть различаются по строению и выполняемым функциям. Следует отличать многоклеточность и колониальность'},\n  {'score': 1.0469704866409302, 'text': 'по строению и выполняемым функциям'},\n  {'score': 1.04216867685318, 'text': 'м'},\n  {'score': 1.0295279175043106,\n   'text': 'Кроме дифференциации клеток, для многоклеточных характерен и более высокий уровень интеграции, чем для колониальных форм'},\n  {'score': 1.025627076625824,\n   'text': 'Граница между многоклеточностью и колониальностью нечёткая'},\n  {'score': 1.0086904466152191, 'text': 'на Земле 2,1 миллиарда лет назад'},\n  {'score': 1.0010198503732681,\n   'text': 'из многих клеток, большая часть которых (кроме стволовых, например, клеток камбия у растений) дифференцированы, то есть различаются по строению и выполняемым функциям. Следует отличать многоклеточность и колониальность. У колониальных организмов отсутствуют настоящие дифференцированные клетки, а следовательно, и разделение тела на ткани. Граница между многоклеточностью и колониальностью нечёткая'},\n  {'score': 0.9733298122882843,\n   'text': 'на Земле 2,1 миллиарда лет назад, вскоре после кислородной революции'},\n  {'score': 0.9323967397212982,\n   'text': 'ние клеток на генеративные и соматические. Кроме дифференциации клеток, для многоклеточных характерен и более высокий уровень интеграции, чем для колониальных форм. Многоклеточные животные, возможно, появились на Земле 2,1 миллиарда лет назад'},\n  {'score': 0.9137643799185753,\n   'text': 'Многоклеточные животные, возможно, появились на Земле 2,1 миллиарда лет назад, вскоре после кислородной революции .'},\n  {'score': 0.8970361053943634,\n   'text': 'ние клеток на генеративные и соматические. Кроме дифференциации клеток, для многоклеточных характерен и более высокий уровень интеграции, чем для колониальных форм. Многоклеточные животные, возможно, появились на Земле 2,1 миллиарда лет назад, вскоре после кислородной революции'},\n  {'score': 0.8913718685507774,\n   'text': '. Многоклеточные животные, возможно, появились на Земле 2,1 миллиарда лет назад, вскоре после кислородной революции .'},\n  {'score': 0.8859514221549034,\n   'text': 'Кроме дифференциации клеток, для многоклеточных характерен и более высокий уровень интеграции, чем для колониальных форм. Многоклеточные животные, возможно, появились на Земле 2,1 миллиарда лет назад, вскоре после кислородной революции .'},\n  {'score': 0.8660756945610046,\n   'text': 'кроме стволовых, например, клеток камбия у растений) дифференцированы, то есть различаются по строению и выполняемым функциям'},\n  {'score': 0.8105658739805222,\n   'text': 'У колониальных организмов отсутствуют настоящие дифференцированные клетки, а следовательно, и разделение тела на ткани. Граница между многоклеточностью и колониальностью нечёткая. Например, вольвокс часто относят к колониальным организмам'},\n  {'score': 0.8044119030237198,\n   'text': 'из многих клеток, большая часть которых (кроме стволовых, например, клеток камбия у растений) дифференцированы, то есть различаются по строению и выполняемым функциям. Следует отличать многоклеточность и колониальность'},\n  {'score': 0.8039161711931229,\n   'text': 'Многоклеточный организм — внесистематическая категория живых организмов'},\n  {'score': 0.7743000686168671,\n   'text': '. Кроме дифференциации клеток, для многоклеточных характерен и более высокий уровень интеграции, чем для колониальных форм. Многоклеточные животные, возможно, появились на Земле 2,1 миллиарда лет назад'},\n  {'score': 0.7389394342899323,\n   'text': '. Кроме дифференциации клеток, для многоклеточных характерен и более высокий уровень интеграции, чем для колониальных форм. Многоклеточные животные, возможно, появились на Земле 2,1 миллиарда лет назад, вскоре после кислородной революции'},\n  {'score': 0.7299363613128662,\n   'text': 'У колониальных организмов отсутствуют настоящие дифференцированные клетки, а следовательно, и разделение тела на ткани'},\n  {'score': 0.7214804440736771,\n   'text': 'внесистематическая категория живых организмов'},\n  {'score': 0.6684288382530212,\n   'text': '. У колониальных организмов отсутствуют настоящие дифференцированные клетки, а следовательно, и разделение тела на ткани. Граница между многоклеточностью и колониальностью нечёткая'},\n  {'score': 0.6606107801198959, 'text': '.'},\n  {'score': 0.6551903337240219,\n   'text': 'Кроме дифференциации клеток, для многоклеточных характерен и более высокий уровень интеграции, чем для колониальных форм.'},\n  {'score': 0.6507491022348404,\n   'text': 'ние клеток на генеративные и соматические. Кроме дифференциации клеток, для многоклеточных характерен и более высокий уровень интеграции, чем для колониальных форм'},\n  {'score': 0.599359005689621, 'text': 'Многоклеточные животные'},\n  {'score': 0.5834663137793541,\n   'text': 'на Земле 2,1 миллиарда лет назад, вскоре после кислородной революции .'},\n  {'score': 0.5769664943218231, 'text': '. Многоклеточные животные'},\n  {'score': 0.5715460479259491,\n   'text': 'Кроме дифференциации клеток, для многоклеточных характерен и более высокий уровень интеграции, чем для колониальных форм. Многоклеточные животные'},\n  {'score': 0.5567489713430405,\n   'text': 'Многоклеточный организм — внесистематическая категория живых организмов, тело которых состоит из многих клеток, большая часть которых (кроме стволовых, например, клеток камбия у растений) дифференцированы, то есть различаются по строению и выполняемым функциям. Следует отличать многоклеточность и колониальность. У колониальных организмов отсутствуют настоящие дифференцированные клетки, а следовательно, и разделение тела на ткани. Граница между многоклеточностью и колониальностью нечёткая. Например, вольвокс часто относят к колониальным организмам'},\n  {'score': 0.5275037884712219, 'text': '2,1 миллиарда лет назад'},\n  {'score': 0.5087540745735168, 'text': 'У колониальных организмов'},\n  {'score': 0.5071726068854332,\n   'text': 'ние клеток на генеративные и соматические. Кроме дифференциации клеток, для многоклеточных характерен и более высокий уровень интеграции, чем для колониальных форм. Многоклеточные животные, возможно, появились на Земле 2,1 миллиарда лет назад, вскоре после кислородной революции .'},\n  {'score': 0.49962179362773895,\n   'text': 'кани. Граница между многоклеточностью и колониальностью нечёткая. Например, вольвокс часто относят к колониальным организмам'},\n  {'score': 0.4967062473297119,\n   'text': 'У колониальных организмов отсутствуют настоящие дифференцированные клетки, а следовательно, и разделение тела на ткани.'},\n  {'score': 0.4927360713481903,\n   'text': 'сть. У колониальных организмов отсутствуют настоящие дифференцированные клетки, а следовательно, и разделение тела на ткани. Граница между многоклеточностью и колониальностью нечёткая'},\n  {'score': 0.49265243113040924,\n   'text': '. Кроме дифференциации клеток, для многоклеточных характерен и более высокий уровень интеграции, чем для колониальных форм'},\n  {'score': 0.4921431541442871,\n   'text': '2,1 миллиарда лет назад, вскоре после кислородной революции'},\n  {'score': 0.48801088333129883,\n   'text': 'по строению и выполняемым функциям. Следует отличать многоклеточность и колониальность. У колониальных организмов отсутствуют настоящие дифференцированные клетки, а следовательно, и разделение тела на ткани. Граница между многоклеточностью и колониальностью нечёткая'},\n  {'score': 0.4832090735435486,\n   'text': 'м. Следует отличать многоклеточность и колониальность. У колониальных организмов отсутствуют настоящие дифференцированные клетки, а следовательно, и разделение тела на ткани. Граница между многоклеточностью и колониальностью нечёткая'},\n  {'score': 0.4761194586753845,\n   'text': 'Многоклеточный организм — внесистематическая категория живых организмов, тело которых состоит из многих клеток, большая часть которых (кроме стволовых, например, клеток камбия у растений) дифференцированы, то есть различаются по строению и выполняемым функциям. Следует отличать многоклеточность и колониальность. У колониальных организмов отсутствуют настоящие дифференцированные клетки, а следовательно, и разделение тела на ткани'},\n  {'score': 0.47431324422359467,\n   'text': 'внесистематическая категория живых организмов, тело которых состоит из многих клеток, большая часть которых (кроме стволовых, например, клеток камбия у растений) дифференцированы, то есть различаются по строению и выполняемым функциям. Следует отличать многоклеточность и колониальность. У колониальных организмов отсутствуют настоящие дифференцированные клетки, а следовательно, и разделение тела на ткани. Граница между многоклеточностью и колониальностью нечёткая. Например, вольвокс часто относят к колониальным организмам'},\n  {'score': 0.46484339237213135,\n   'text': 'Многоклеточный организм — внесистематическая категория живых организмов, тело которых состоит из многих клеток, большая часть которых (кроме стволовых, например, клеток камбия у растений) дифференцированы'},\n  {'score': 0.43144914507865906, 'text': 'Кроме дифференциации клеток'},\n  {'score': 0.418992280960083, 'text': 'кани'},\n  {'score': 0.3936837315559387,\n   'text': 'внесистематическая категория живых организмов, тело которых состоит из многих клеток, большая часть которых (кроме стволовых, например, клеток камбия у растений) дифференцированы, то есть различаются по строению и выполняемым функциям. Следует отличать многоклеточность и колониальность. У колониальных организмов отсутствуют настоящие дифференцированные клетки, а следовательно, и разделение тела на ткани'},\n  {'score': 0.38240766525268555,\n   'text': 'внесистематическая категория живых организмов, тело которых состоит из многих клеток, большая часть которых (кроме стволовых, например, клеток камбия у растений) дифференцированы'},\n  {'score': 0.34907593578100204,\n   'text': '. Кроме дифференциации клеток, для многоклеточных характерен и более высокий уровень интеграции, чем для колониальных форм. Многоклеточные животные, возможно, появились на Земле 2,1 миллиарда лет назад, вскоре после кислородной революции .'},\n  {'score': 0.33858656883239746, 'text': 'Многоклеточный организм'},\n  {'score': 0.31230631470680237,\n   'text': 'отличать многоклеточность и колониальность. У колониальных организмов отсутствуют настоящие дифференцированные клетки, а следовательно, и разделение тела на ткани. Граница между многоклеточностью и колониальностью нечёткая'},\n  {'score': 0.3071160912513733,\n   'text': 'кроме стволовых, например, клеток камбия у растений) дифференцированы, то есть различаются по строению и выполняемым функциям. Следует отличать многоклеточность и колониальность. У колониальных организмов отсутствуют настоящие дифференцированные клетки, а следовательно, и разделение тела на ткани. Граница между многоклеточностью и колониальностью нечёткая'},\n  {'score': 0.29612812399864197, 'text': 'сть'},\n  {'score': 0.2914029359817505,\n   'text': 'по строению и выполняемым функциям. Следует отличать многоклеточность и колониальность'},\n  {'score': 0.28660112619400024,\n   'text': 'м. Следует отличать многоклеточность и колониальность'},\n  {'score': 0.2864510118961334,\n   'text': 'Многоклеточный организм — внесистематическая категория живых организмов, тело которых состоит из многих клеток'},\n  {'score': 0.2849057912826538,\n   'text': 'У колониальных организмов отсутствуют настоящие дифференцированные клетки, а следовательно, и разделение тела на ткани. Граница между многоклеточностью и колониальностью нечёткая. Например, вольвокс часто относят к колониальным организмам, хотя в его колониях есть чёткое деление клеток на генеративные и соматические.'},\n  {'score': 0.2827867865562439,\n   'text': 'Кроме дифференциации клеток, для многоклеточных характерен и более высокий уровень интеграции'},\n  {'score': 0.2764115184545517,\n   'text': 'ние клеток на генеративные и соматические. Кроме дифференциации клеток, для многоклеточных характерен и более высокий уровень интеграции, чем для колониальных форм.'},\n  {'score': 0.27226048707962036,\n   'text': 'У колониальных организмов отсутствуют настоящие дифференцированные клетки, а следовательно, и разделение тела на ткани. Граница между многоклеточностью и колониальностью нечёткая.'},\n  {'score': 0.25493717193603516,\n   'text': 'Многоклеточный организм — внесистематическая категория живых организмов, тело которых состоит из многих клеток, большая часть которых (кроме стволовых, например, клеток камбия у растений) дифференцированы, то есть различаются по строению и выполняемым функциям. Следует отличать многоклеточность и колониальность. У колониальных организмов'},\n  {'score': 0.25190627574920654,\n   'text': 'Многоклеточные животные, возможно, появились на Земле 2,1 миллиарда лет'},\n  {'score': 0.24288934469223022,\n   'text': 'Многоклеточный организм — внесистематическая категория живых организмов, тело которых состоит из многих клеток, большая часть которых (кроме стволовых, например, клеток камбия у растений) дифференцированы, то есть различаются по строению и выполняемым функциям. Следует отличать многоклеточность и колониальность. У колониальных организмов отсутствуют настоящие дифференцированные клетки, а следовательно, и разделение тела на ткани.'},\n  {'score': 0.23967993259429932, 'text': 'ческие.'},\n  {'score': 0.23436981439590454,\n   'text': 'Кроме дифференциации клеток, для многоклеточных характерен'},\n  {'score': 0.2295137643814087,\n   'text': '. Многоклеточные животные, возможно, появились на Земле 2,1 миллиарда лет'},\n  {'score': 0.22409331798553467,\n   'text': 'Кроме дифференциации клеток, для многоклеточных характерен и более высокий уровень интеграции, чем для колониальных форм. Многоклеточные животные, возможно, появились на Земле 2,1 миллиарда лет'},\n  {'score': 0.20709018409252167,\n   'text': 'Граница между многоклеточностью и колониальностью нечёткая. Например, вольвокс часто относят к колониальным организмам'},\n  {'score': 0.20401528477668762,\n   'text': 'внесистематическая категория живых организмов, тело которых состоит из многих клеток'},\n  {'score': 0.20137712359428406, 'text': '1 миллиарда лет назад'},\n  {'score': 0.19276723265647888,\n   'text': 'ние клеток на генеративные и соматические. Кроме дифференциации клеток, для многоклеточных характерен и более высокий уровень интеграции, чем для колониальных форм. Многоклеточные животные'},\n  {'score': 0.1857621669769287, 'text': 'кани.'},\n  {'score': 0.18248295783996582,\n   'text': 'из многих клеток, большая часть которых (кроме стволовых, например, клеток камбия у растений) дифференцированы, то есть различаются по строению и выполняемым функциям. Следует отличать многоклеточность и колониальность. У колониальных организмов отсутствуют настоящие дифференцированные клетки, а следовательно, и разделение тела на ткани. Граница между многоклеточностью и колониальностью нечёткая. Например, вольвокс часто относят к колониальным организмам'},\n  {'score': 0.17250144481658936,\n   'text': 'внесистематическая категория живых организмов, тело которых состоит из многих клеток, большая часть которых (кроме стволовых, например, клеток камбия у растений) дифференцированы, то есть различаются по строению и выполняемым функциям. Следует отличать многоклеточность и колониальность. У колониальных организмов'},\n  {'score': 0.16927078366279602, 'text': 'после кислородной революции'},\n  {'score': 0.16601648926734924,\n   'text': '1 миллиарда лет назад, вскоре после кислородной революции'},\n  {'score': 0.16389304399490356, 'text': 'ческие'},\n  {'score': 0.16045361757278442,\n   'text': 'внесистематическая категория живых организмов, тело которых состоит из многих клеток, большая часть которых (кроме стволовых, например, клеток камбия у растений) дифференцированы, то есть различаются по строению и выполняемым функциям. Следует отличать многоклеточность и колониальность. У колониальных организмов отсутствуют настоящие дифференцированные клетки, а следовательно, и разделение тела на ткани.'},\n  {'score': 0.1514626145362854,\n   'text': 'У колониальных организмов отсутствуют настоящие дифференцированные клетки, а следовательно, и разделение тела на ткани. Граница между многоклеточностью и колониальностью нечёткая. Например'},\n  {'score': 0.14572042226791382, 'text': 'кая'},\n  {'score': 0.14455550909042358,\n   'text': 'У колониальных организмов отсутствуют настоящие дифференцированные клетки'},\n  {'score': 0.12632060050964355,\n   'text': 'У колониальных организмов отсутствуют настоящие дифференцированные клетки, а следовательно, и разделение тела на ткани. Граница'},\n  {'score': 0.12353281676769257,\n   'text': 'Например, вольвокс часто относят к колониальным организмам'},\n  {'score': 0.11831484735012054,\n   'text': '. Кроме дифференциации клеток, для многоклеточных характерен и более высокий уровень интеграции, чем для колониальных форм.'},\n  {'score': 0.11569836735725403,\n   'text': 'отличать многоклеточность и колониальность'},\n  {'score': 0.11050814390182495,\n   'text': 'кроме стволовых, например, клеток камбия у растений) дифференцированы, то есть различаются по строению и выполняемым функциям. Следует отличать многоклеточность и колониальность'},\n  {'score': 0.1022796556353569,\n   'text': '2,1 миллиарда лет назад, вскоре после кислородной революции .'},\n  {'score': 0.10185344517230988,\n   'text': 'из многих клеток, большая часть которых (кроме стволовых, например, клеток камбия у растений) дифференцированы, то есть различаются по строению и выполняемым функциям. Следует отличать многоклеточность и колониальность. У колониальных организмов отсутствуют настоящие дифференцированные клетки, а следовательно, и разделение тела на ткани'},\n  {'score': 0.0905773788690567,\n   'text': 'из многих клеток, большая часть которых (кроме стволовых, например, клеток камбия у растений) дифференцированы'},\n  {'score': 0.08060306310653687,\n   'text': 'для многоклеточных характерен и более высокий уровень интеграции, чем для колониальных форм. Многоклеточные животные, возможно, появились на Земле 2,1 миллиарда лет назад'},\n  {'score': 0.06493750214576721,\n   'text': 'для колониальных форм. Многоклеточные животные, возможно, появились на Земле 2,1 миллиарда лет назад'},\n  {'score': 0.06330162286758423,\n   'text': '. Следует отличать многоклеточность и колониальность. У колониальных организмов отсутствуют настоящие дифференцированные клетки, а следовательно, и разделение тела на ткани. Граница между многоклеточностью и колониальностью нечёткая'},\n  {'score': 0.05267032980918884,\n   'text': 'ние клеток на генеративные и соматические. Кроме дифференциации клеток'},\n  {'score': 0.04524242877960205,\n   'text': 'для многоклеточных характерен и более высокий уровень интеграции, чем для колониальных форм. Многоклеточные животные, возможно, появились на Земле 2,1 миллиарда лет назад, вскоре после кислородной революции'},\n  {'score': 0.03467056155204773,\n   'text': '. Кроме дифференциации клеток, для многоклеточных характерен и более высокий уровень интеграции, чем для колониальных форм. Многоклеточные животные'},\n  {'score': 0.03443419933319092,\n   'text': '. Граница между многоклеточностью и колониальностью нечёткая'},\n  {'score': 0.03108888864517212,\n   'text': 'Многоклеточный организм — внесистематическая категория живых организмов, тело которых состоит из многих клеток, большая часть которых (кроме стволовых, например, клеток камбия у растений) дифференцированы, то есть различаются по строению и выполняемым функциям. Следует отличать многоклеточность и колониальность. У колониальных организмов отсутствуют настоящие дифференцированные клетки, а следовательно, и разделение тела на ткани. Граница между многоклеточностью и колониальностью нечёткая. Например, вольвокс часто относят к колониальным организмам, хотя в его колониях есть чёткое деление клеток на генеративные и соматические.'},\n  {'score': 0.029576867818832397,\n   'text': 'для колониальных форм. Многоклеточные животные, возможно, появились на Земле 2,1 миллиарда лет назад, вскоре после кислородной революции'},\n  {'score': 0.018443584442138672,\n   'text': 'Многоклеточный организм — внесистематическая категория живых организмов, тело которых состоит из многих клеток, большая часть которых (кроме стволовых, например, клеток камбия у растений) дифференцированы, то есть различаются по строению и выполняемым функциям. Следует отличать многоклеточность и колониальность. У колониальных организмов отсутствуют настоящие дифференцированные клетки, а следовательно, и разделение тела на ткани. Граница между многоклеточностью и колониальностью нечёткая.'},\n  {'score': -0.026038289070129395,\n   'text': 'кани. Граница между многоклеточностью и колониальностью нечёткая. Например, вольвокс часто относят к колониальным организмам, хотя в его колониях есть чёткое деление клеток на генеративные и соматические.'},\n  {'score': -0.03868359327316284,\n   'text': 'кани. Граница между многоклеточностью и колониальностью нечёткая.'},\n  {'score': -0.05134683847427368,\n   'text': 'внесистематическая категория живых организмов, тело которых состоит из многих клеток, большая часть которых (кроме стволовых, например, клеток камбия у растений) дифференцированы, то есть различаются по строению и выполняемым функциям. Следует отличать многоклеточность и колониальность. У колониальных организмов отсутствуют настоящие дифференцированные клетки, а следовательно, и разделение тела на ткани. Граница между многоклеточностью и колониальностью нечёткая. Например, вольвокс часто относят к колониальным организмам, хотя в его колониях есть чёткое деление клеток на генеративные и соматические.'},\n  {'score': -0.0627598762512207,\n   'text': 'Многоклеточный организм — внесистематическая категория живых организмов, тело которых состоит из многих клеток, большая часть которых (кроме стволовых, например, клеток камбия у растений'},\n  {'score': -0.06399214267730713,\n   'text': 'внесистематическая категория живых организмов, тело которых состоит из многих клеток, большая часть которых (кроме стволовых, например, клеток камбия у растений) дифференцированы, то есть различаются по строению и выполняемым функциям. Следует отличать многоклеточность и колониальность. У колониальных организмов отсутствуют настоящие дифференцированные клетки, а следовательно, и разделение тела на ткани. Граница между многоклеточностью и колониальностью нечёткая.'},\n  {'score': -0.0674169659614563,\n   'text': 'Многоклеточный организм — внесистематическая категория живых организмов, тело которых состоит из многих клеток, большая часть которых (кроме стволовых, например, клеток камбия у растений) дифференцированы, то есть различаются по строению и выполняемым функциям.'},\n  {'score': -0.07839179039001465, 'text': 'на Земле 2,1 миллиарда лет'},\n  {'score': -0.08781500160694122, 'text': 'из многих клеток'},\n  {'score': -0.09599202871322632,\n   'text': 'ние клеток на генеративные и соматические. Кроме дифференциации клеток, для многоклеточных характерен и более высокий уровень интеграции'},\n  {'score': -0.1005571186542511,\n   'text': 'ческие. Кроме дифференциации клеток, для многоклеточных характерен и более высокий уровень интеграции, чем для колониальных форм. Многоклеточные животные, возможно, появились на Земле 2,1 миллиарда лет назад'},\n  {'score': -0.10235428810119629,\n   'text': 'Многоклеточный организм — внесистематическая категория живых организмов, тело которых состоит из многих клеток, большая часть которых (кроме стволовых, например, клеток камбия у растений) дифференцированы, то есть различаются по строению и выполняемым функциям. Следует отличать многоклеточность и колониальность. У колониальных организмов отсутствуют настоящие дифференцированные клетки, а следовательно, и разделение тела на ткани. Граница между многоклеточностью и колониальностью нечёткая. Например'},\n  {'score': -0.10542634129524231, 'text': '. Кроме дифференциации клеток'},\n  {'score': -0.1092613935470581,\n   'text': 'Многоклеточный организм — внесистематическая категория живых организмов, тело которых состоит из многих клеток, большая часть которых (кроме стволовых, например, клеток камбия у растений) дифференцированы, то есть различаются по строению и выполняемым функциям. Следует отличать многоклеточность и колониальность. У колониальных организмов отсутствуют настоящие дифференцированные клетки'},\n  {'score': -0.11932884156703949,\n   'text': 'из многих клеток, большая часть которых (кроме стволовых, например, клеток камбия у растений) дифференцированы, то есть различаются по строению и выполняемым функциям. Следует отличать многоклеточность и колониальность. У колониальных организмов'},\n  {'score': -0.12749630212783813,\n   'text': 'Многоклеточный организм — внесистематическая категория живых организмов, тело которых состоит из многих клеток, большая часть которых (кроме стволовых, например, клеток камбия у растений) дифференцированы, то есть различаются по строению и выполняемым функциям. Следует отличать многоклеточность и колониальность. У колониальных организмов отсутствуют настоящие дифференцированные клетки, а следовательно, и разделение тела на ткани. Граница'},\n  {'score': -0.13137666881084442,\n   'text': 'из многих клеток, большая часть которых (кроме стволовых, например, клеток камбия у растений) дифференцированы, то есть различаются по строению и выполняемым функциям. Следует отличать многоклеточность и колониальность. У колониальных организмов отсутствуют настоящие дифференцированные клетки, а следовательно, и разделение тела на ткани.'},\n  {'score': -0.1333063244819641,\n   'text': '. Следует отличать многоклеточность и колониальность'},\n  {'score': -0.1359177529811859,\n   'text': 'ческие. Кроме дифференциации клеток, для многоклеточных характерен и более высокий уровень интеграции, чем для колониальных форм. Многоклеточные животные, возможно, появились на Земле 2,1 миллиарда лет назад, вскоре после кислородной революции'},\n  {'score': -0.14440900087356567,\n   'text': 'ние клеток на генеративные и соматические. Кроме дифференциации клеток, для многоклеточных характерен'},\n  {'score': -0.1451956033706665,\n   'text': 'внесистематическая категория живых организмов, тело которых состоит из многих клеток, большая часть которых (кроме стволовых, например, клеток камбия у растений'},\n  {'score': -0.1498526930809021,\n   'text': 'внесистематическая категория живых организмов, тело которых состоит из многих клеток, большая часть которых (кроме стволовых, например, клеток камбия у растений) дифференцированы, то есть различаются по строению и выполняемым функциям.'},\n  {'score': -0.15010805428028107,\n   'text': '. У колониальных организмов отсутствуют настоящие дифференцированные клетки, а следовательно, и разделение тела на ткани. Граница между многоклеточностью и колониальностью нечёткая. Например, вольвокс часто относят к колониальным организмам'},\n  {'score': -0.15468549728393555,\n   'text': 'ние клеток на генеративные и соматические. Кроме дифференциации клеток, для многоклеточных характерен и более высокий уровень интеграции, чем для колониальных форм. Многоклеточные животные, возможно, появились на Земле 2,1 миллиарда лет'},\n  {'score': -0.1594814658164978,\n   'text': 'кани. Граница между многоклеточностью и колониальностью нечёткая. Например'},\n  {'score': -0.16280719637870789,\n   'text': 'форм. Многоклеточные животные, возможно, появились на Земле 2,1 миллиарда лет назад'},\n  {'score': -0.18462347984313965, 'text': 'кани. Граница'},\n  {'score': -0.1847900152206421,\n   'text': 'внесистематическая категория живых организмов, тело которых состоит из многих клеток, большая часть которых (кроме стволовых, например, клеток камбия у растений) дифференцированы, то есть различаются по строению и выполняемым функциям. Следует отличать многоклеточность и колониальность. У колониальных организмов отсутствуют настоящие дифференцированные клетки, а следовательно, и разделение тела на ткани. Граница между многоклеточностью и колониальностью нечёткая. Например'},\n  {'score': -0.1916971206665039,\n   'text': 'внесистематическая категория живых организмов, тело которых состоит из многих клеток, большая часть которых (кроме стволовых, например, клеток камбия у растений) дифференцированы, то есть различаются по строению и выполняемым функциям. Следует отличать многоклеточность и колониальность. У колониальных организмов отсутствуют настоящие дифференцированные клетки'},\n  {'score': -0.1981678307056427,\n   'text': 'форм. Многоклеточные животные, возможно, появились на Земле 2,1 миллиарда лет назад, вскоре после кислородной революции'},\n  {'score': -0.20104457437992096,\n   'text': 'для многоклеточных характерен и более высокий уровень интеграции, чем для колониальных форм'},\n  {'score': -0.20993202924728394,\n   'text': 'внесистематическая категория живых организмов, тело которых состоит из многих клеток, большая часть которых (кроме стволовых, например, клеток камбия у растений) дифференцированы, то есть различаются по строению и выполняемым функциям. Следует отличать многоклеточность и колониальность. У колониальных организмов отсутствуют настоящие дифференцированные клетки, а следовательно, и разделение тела на ткани. Граница'},\n  {'score': -0.2167101353406906, 'text': 'для колониальных форм'},\n  {'score': -0.22059271484613419, 'text': 'после кислородной революции .'},\n  {'score': -0.22384700924158096,\n   'text': '1 миллиарда лет назад, вскоре после кислородной революции .'},\n  {'score': -0.230737566947937,\n   'text': '. У колониальных организмов отсутствуют настоящие дифференцированные клетки, а следовательно, и разделение тела на ткани'},\n  {'score': -0.25408869981765747,\n   'text': '. Кроме дифференциации клеток, для многоклеточных характерен и более высокий уровень интеграции'},\n  {'score': -0.3025056719779968,\n   'text': '. Кроме дифференциации клеток, для многоклеточных характерен'},\n  {'score': -0.3127821683883667,\n   'text': '. Кроме дифференциации клеток, для многоклеточных характерен и более высокий уровень интеграции, чем для колониальных форм. Многоклеточные животные, возможно, появились на Земле 2,1 миллиарда лет'},\n  {'score': -0.3185698986053467,\n   'text': 'Граница между многоклеточностью и колониальностью нечёткая. Например, вольвокс часто относят к колониальным организмам, хотя в его колониях есть чёткое деление клеток на генеративные и соматические.'},\n  {'score': -0.325800821185112,\n   'text': 'сть. У колониальных организмов отсутствуют настоящие дифференцированные клетки, а следовательно, и разделение тела на ткани. Граница между многоклеточностью и колониальностью нечёткая. Например, вольвокс часто относят к колониальным организмам'},\n  {'score': -0.3305260092020035,\n   'text': 'по строению и выполняемым функциям. Следует отличать многоклеточность и колониальность. У колониальных организмов отсутствуют настоящие дифференцированные клетки, а следовательно, и разделение тела на ткани. Граница между многоклеточностью и колониальностью нечёткая. Например, вольвокс часто относят к колониальным организмам'},\n  {'score': -0.3312152028083801,\n   'text': 'Граница между многоклеточностью и колониальностью нечёткая.'},\n  {'score': -0.3353278189897537,\n   'text': 'м. Следует отличать многоклеточность и колониальность. У колониальных организмов отсутствуют настоящие дифференцированные клетки, а следовательно, и разделение тела на ткани. Граница между многоклеточностью и колониальностью нечёткая. Например, вольвокс часто относят к колониальным организмам'},\n  {'score': -0.3431771248579025,\n   'text': 'из многих клеток, большая часть которых (кроме стволовых, например, клеток камбия у растений) дифференцированы, то есть различаются по строению и выполняемым функциям. Следует отличать многоклеточность и колониальность. У колониальных организмов отсутствуют настоящие дифференцированные клетки, а следовательно, и разделение тела на ткани. Граница между многоклеточностью и колониальностью нечёткая. Например, вольвокс часто относят к колониальным организмам, хотя в его колониях есть чёткое деление клеток на генеративные и соматические.'},\n  {'score': -0.34462106972932816,\n   'text': 'для многоклеточных характерен и более высокий уровень интеграции, чем для колониальных форм. Многоклеточные животные, возможно, появились на Земле 2,1 миллиарда лет назад, вскоре после кислородной революции .'},\n  {'score': -0.355822429060936,\n   'text': 'из многих клеток, большая часть которых (кроме стволовых, например, клеток камбия у растений) дифференцированы, то есть различаются по строению и выполняемым функциям. Следует отличать многоклеточность и колониальность. У колониальных организмов отсутствуют настоящие дифференцированные клетки, а следовательно, и разделение тела на ткани. Граница между многоклеточностью и колониальностью нечёткая.'},\n  {'score': -0.3602866306900978,\n   'text': 'для колониальных форм. Многоклеточные животные, возможно, появились на Земле 2,1 миллиарда лет назад, вскоре после кислородной революции .'},\n  {'score': -0.3822047561407089,\n   'text': 'ческие. Кроме дифференциации клеток, для многоклеточных характерен и более высокий уровень интеграции, чем для колониальных форм'},\n  {'score': -0.4021272659301758,\n   'text': 'Например, вольвокс часто относят к колониальным организмам, хотя в его колониях есть чёткое деление клеток на генеративные и соматические.'},\n  {'score': -0.40643033385276794,\n   'text': 'сть. У колониальных организмов отсутствуют настоящие дифференцированные клетки, а следовательно, и разделение тела на ткани'},\n  {'score': -0.4111555218696594,\n   'text': 'по строению и выполняемым функциям. Следует отличать многоклеточность и колониальность. У колониальных организмов отсутствуют настоящие дифференцированные клетки, а следовательно, и разделение тела на ткани'},\n  {'score': -0.41595733165740967,\n   'text': 'м. Следует отличать многоклеточность и колониальность. У колониальных организмов отсутствуют настоящие дифференцированные клетки, а следовательно, и разделение тела на ткани'},\n  {'score': -0.43702588975429535,\n   'text': 'из многих клеток, большая часть которых (кроме стволовых, например, клеток камбия у растений'},\n  {'score': -0.44168297946453094,\n   'text': 'из многих клеток, большая часть которых (кроме стволовых, например, клеток камбия у растений) дифференцированы, то есть различаются по строению и выполняемым функциям.'},\n  {'score': -0.4444548338651657, 'text': 'форм'},\n  {'score': -0.4519198536872864, 'text': '. У колониальных организмов'},\n  {'score': -0.4520130753517151,\n   'text': 'Граница между многоклеточностью и колониальностью нечёткая. Например'},\n  {'score': -0.4639676809310913,\n   'text': '. У колониальных организмов отсутствуют настоящие дифференцированные клетки, а следовательно, и разделение тела на ткани.'},\n  {'score': -0.47662030160427094,\n   'text': 'из многих клеток, большая часть которых (кроме стволовых, например, клеток камбия у растений) дифференцированы, то есть различаются по строению и выполняемым функциям. Следует отличать многоклеточность и колониальность. У колониальных организмов отсутствуют настоящие дифференцированные клетки, а следовательно, и разделение тела на ткани. Граница между многоклеточностью и колониальностью нечёткая. Например'},\n  {'score': -0.47715508937835693, 'text': 'Граница'},\n  {'score': -0.48352740705013275,\n   'text': 'из многих клеток, большая часть которых (кроме стволовых, например, клеток камбия у растений) дифференцированы, то есть различаются по строению и выполняемым функциям. Следует отличать многоклеточность и колониальность. У колониальных организмов отсутствуют настоящие дифференцированные клетки'},\n  {'score': -0.5017623156309128,\n   'text': 'из многих клеток, большая часть которых (кроме стволовых, например, клеток камбия у растений) дифференцированы, то есть различаются по строению и выполняемым функциям. Следует отличать многоклеточность и колониальность. У колониальных организмов отсутствуют настоящие дифференцированные клетки, а следовательно, и разделение тела на ткани. Граница'},\n  {'score': -0.5062305778264999,\n   'text': 'отличать многоклеточность и колониальность. У колониальных организмов отсутствуют настоящие дифференцированные клетки, а следовательно, и разделение тела на ткани. Граница между многоклеточностью и колониальностью нечёткая. Например, вольвокс часто относят к колониальным организмам'},\n  {'score': -0.511420801281929,\n   'text': 'кроме стволовых, например, клеток камбия у растений) дифференцированы, то есть различаются по строению и выполняемым функциям. Следует отличать многоклеточность и колониальность. У колониальных организмов отсутствуют настоящие дифференцированные клетки, а следовательно, и разделение тела на ткани. Граница между многоклеточностью и колониальностью нечёткая. Например, вольвокс часто относят к колониальным организмам'},\n  {'score': -0.5257812514901161,\n   'text': 'ческие. Кроме дифференциации клеток, для многоклеточных характерен и более высокий уровень интеграции, чем для колониальных форм. Многоклеточные животные, возможно, появились на Земле 2,1 миллиарда лет назад, вскоре после кислородной революции .'},\n  {'score': -0.5355704426765442, 'text': 'Например'},\n  {'score': -0.5595784485340118, 'text': '2,1 миллиарда лет'},\n  {'score': -0.5753821581602097,\n   'text': 'для многоклеточных характерен и более высокий уровень интеграции, чем для колониальных форм.'},\n  {'score': -0.5868600904941559,\n   'text': 'отличать многоклеточность и колониальность. У колониальных организмов отсутствуют настоящие дифференцированные клетки, а следовательно, и разделение тела на ткани'},\n  {'score': -0.5880313292145729,\n   'text': 'форм. Многоклеточные животные, возможно, появились на Земле 2,1 миллиарда лет назад, вскоре после кислородной революции .'},\n  {'score': -0.5910477191209793, 'text': 'для колониальных форм.'},\n  {'score': -0.592050313949585,\n   'text': 'кроме стволовых, например, клеток камбия у растений) дифференцированы, то есть различаются по строению и выполняемым функциям. Следует отличать многоклеточность и колониальность. У колониальных организмов отсутствуют настоящие дифференцированные клетки, а следовательно, и разделение тела на ткани'},\n  {'score': -0.6033263802528381,\n   'text': 'кроме стволовых, например, клеток камбия у растений) дифференцированы'},\n  {'score': -0.6276126205921173, 'text': 'сть. У колониальных организмов'},\n  {'score': -0.6323378086090088,\n   'text': 'по строению и выполняемым функциям. Следует отличать многоклеточность и колониальность. У колониальных организмов'},\n  {'score': -0.637139618396759,\n   'text': 'м. Следует отличать многоклеточность и колониальность. У колониальных организмов'},\n  {'score': -0.6396604478359222,\n   'text': 'сть. У колониальных организмов отсутствуют настоящие дифференцированные клетки, а следовательно, и разделение тела на ткани.'},\n  {'score': -0.6443856358528137,\n   'text': 'по строению и выполняемым функциям. Следует отличать многоклеточность и колониальность. У колониальных организмов отсутствуют настоящие дифференцированные клетки, а следовательно, и разделение тела на ткани.'},\n  {'score': -0.649187445640564,\n   'text': 'м. Следует отличать многоклеточность и колониальность. У колониальных организмов отсутствуют настоящие дифференцированные клетки, а следовательно, и разделение тела на ткани.'},\n  {'score': -0.6590264439582825,\n   'text': 'для многоклеточных характерен и более высокий уровень интеграции, чем для колониальных форм. Многоклеточные животные'},\n  {'score': -0.6728164702653885,\n   'text': 'кая. Например, вольвокс часто относят к колониальным организмам'},\n  {'score': -0.6746920049190521,\n   'text': 'для колониальных форм. Многоклеточные животные'},\n  {'score': -0.6757681369781494,\n   'text': '. У колониальных организмов отсутствуют настоящие дифференцированные клетки, а следовательно, и разделение тела на ткани. Граница между многоклеточностью и колониальностью нечёткая. Например, вольвокс часто относят к колониальным организмам, хотя в его колониях есть чёткое деление клеток на генеративные и соматические.'},\n  {'score': -0.6884134411811829,\n   'text': '. У колониальных организмов отсутствуют настоящие дифференцированные клетки, а следовательно, и разделение тела на ткани. Граница между многоклеточностью и колониальностью нечёткая.'},\n  {'score': -0.7552352696657181,\n   'text': '. Следует отличать многоклеточность и колониальность. У колониальных организмов отсутствуют настоящие дифференцированные клетки, а следовательно, и разделение тела на ткани. Граница между многоклеточностью и колониальностью нечёткая. Например, вольвокс часто относят к колониальным организмам'},\n  {'score': -0.7565423399209976,\n   'text': 'ческие. Кроме дифференциации клеток, для многоклеточных характерен и более высокий уровень интеграции, чем для колониальных форм.'},\n  {'score': -0.7719353809952736, 'text': '.'},\n  {'score': -0.7830144912004471, 'text': 'к колониальным организмам'},\n  {'score': -0.7841026932001114,\n   'text': '. Граница между многоклеточностью и колониальностью нечёткая. Например, вольвокс часто относят к колониальным организмам'},\n  {'score': -0.8080423772335052,\n   'text': 'отличать многоклеточность и колониальность. У колониальных организмов'},\n  {'score': -0.8092113137245178,\n   'text': '. У колониальных организмов отсутствуют настоящие дифференцированные клетки, а следовательно, и разделение тела на ткани. Граница между многоклеточностью и колониальностью нечёткая. Например'},\n  {'score': -0.8132326006889343,\n   'text': 'кроме стволовых, например, клеток камбия у растений) дифференцированы, то есть различаются по строению и выполняемым функциям. Следует отличать многоклеточность и колониальность. У колониальных организмов'},\n  {'score': -0.8161184191703796,\n   'text': '. У колониальных организмов отсутствуют настоящие дифференцированные клетки'},\n  {'score': -0.8187924176454544, 'text': 'форм.'},\n  {'score': -0.8200902044773102,\n   'text': 'отличать многоклеточность и колониальность. У колониальных организмов отсутствуют настоящие дифференцированные клетки, а следовательно, и разделение тела на ткани.'},\n  {'score': -0.8252804279327393,\n   'text': 'кроме стволовых, например, клеток камбия у растений) дифференцированы, то есть различаются по строению и выполняемым функциям. Следует отличать многоклеточность и колониальность. У колониальных организмов отсутствуют настоящие дифференцированные клетки, а следовательно, и разделение тела на ткани.'},\n  {'score': -0.8343533277511597,\n   'text': '. У колониальных организмов отсутствуют настоящие дифференцированные клетки, а следовательно, и разделение тела на ткани. Граница'},\n  {'score': -0.835864782333374,\n   'text': '. Следует отличать многоклеточность и колониальность. У колониальных организмов отсутствуют настоящие дифференцированные клетки, а следовательно, и разделение тела на ткани'},\n  {'score': -0.8401866257190704,\n   'text': 'ческие. Кроме дифференциации клеток, для многоклеточных характерен и более высокий уровень интеграции, чем для колониальных форм. Многоклеточные животные'},\n  {'score': -0.8514609038829803,\n   'text': 'сть. У колониальных организмов отсутствуют настоящие дифференцированные клетки, а следовательно, и разделение тела на ткани. Граница между многоклеточностью и колониальностью нечёткая. Например, вольвокс часто относят к колониальным организмам, хотя в его колониях есть чёткое деление клеток на генеративные и соматические.'},\n  {'score': -0.8561860918998718,\n   'text': 'по строению и выполняемым функциям. Следует отличать многоклеточность и колониальность. У колониальных организмов отсутствуют настоящие дифференцированные клетки, а следовательно, и разделение тела на ткани. Граница между многоклеточностью и колониальностью нечёткая. Например, вольвокс часто относят к колониальным организмам, хотя в его колониях есть чёткое деление клеток на генеративные и соматические.'},\n  {'score': -0.8609879016876221,\n   'text': 'м. Следует отличать многоклеточность и колониальность. У колониальных организмов отсутствуют настоящие дифференцированные клетки, а следовательно, и разделение тела на ткани. Граница между многоклеточностью и колониальностью нечёткая. Например, вольвокс часто относят к колониальным организмам, хотя в его колониях есть чёткое деление клеток на генеративные и соматические.'},\n  {'score': -0.8641062080860138,\n   'text': 'сть. У колониальных организмов отсутствуют настоящие дифференцированные клетки, а следовательно, и разделение тела на ткани. Граница между многоклеточностью и колониальностью нечёткая.'},\n  {'score': -0.8688313961029053,\n   'text': 'по строению и выполняемым функциям. Следует отличать многоклеточность и колониальность. У колониальных организмов отсутствуют настоящие дифференцированные клетки, а следовательно, и разделение тела на ткани. Граница между многоклеточностью и колониальностью нечёткая.'},\n  {'score': -0.8736332058906555,\n   'text': 'м. Следует отличать многоклеточность и колониальность. У колониальных организмов отсутствуют настоящие дифференцированные клетки, а следовательно, и разделение тела на ткани. Граница между многоклеточностью и колониальностью нечёткая.'},\n  {'score': -0.8857051134109497, 'text': '1 миллиарда лет'},\n  {'score': -0.9024367034435272, 'text': 'форм. Многоклеточные животные'},\n  {'score': -0.9477857053279877,\n   'text': 'для многоклеточных характерен и более высокий уровень интеграции'},\n  {'score': -0.9546919465065002,\n   'text': 'по строению и выполняемым функциям.'},\n  {'score': -0.9594937562942505, 'text': 'м.'},\n  {'score': -0.9802835285663605,\n   'text': 'ческие. Кроме дифференциации клеток'},\n  {'score': -0.9849040806293488,\n   'text': 'сть. У колониальных организмов отсутствуют настоящие дифференцированные клетки, а следовательно, и разделение тела на ткани. Граница между многоклеточностью и колониальностью нечёткая. Например'},\n  {'score': -0.9896292686462402,\n   'text': 'по строению и выполняемым функциям. Следует отличать многоклеточность и колониальность. У колониальных организмов отсутствуют настоящие дифференцированные клетки, а следовательно, и разделение тела на ткани. Граница между многоклеточностью и колониальностью нечёткая. Например'},\n  {'score': -0.9918111860752106,\n   'text': 'сть. У колониальных организмов отсутствуют настоящие дифференцированные клетки'},\n  {'score': -0.9944310784339905,\n   'text': 'м. Следует отличать многоклеточность и колониальность. У колониальных организмов отсутствуют настоящие дифференцированные клетки, а следовательно, и разделение тела на ткани. Граница между многоклеточностью и колониальностью нечёткая. Например'},\n  {'score': -0.996202677488327, 'text': 'для многоклеточных характерен'},\n  {'score': -0.996536374092102,\n   'text': 'по строению и выполняемым функциям. Следует отличать многоклеточность и колониальность. У колониальных организмов отсутствуют настоящие дифференцированные клетки'},\n  {'score': -1.0013381838798523,\n   'text': 'м. Следует отличать многоклеточность и колониальность. У колониальных организмов отсутствуют настоящие дифференцированные клетки'},\n  {'score': -1.006479173898697,\n   'text': 'для многоклеточных характерен и более высокий уровень интеграции, чем для колониальных форм. Многоклеточные животные, возможно, появились на Земле 2,1 миллиарда лет'},\n  {'score': -1.0100460946559906,\n   'text': 'сть. У колониальных организмов отсутствуют настоящие дифференцированные клетки, а следовательно, и разделение тела на ткани. Граница'},\n  {'score': -1.014771282672882,\n   'text': 'по строению и выполняемым функциям. Следует отличать многоклеточность и колониальность. У колониальных организмов отсутствуют настоящие дифференцированные клетки, а следовательно, и разделение тела на ткани. Граница'},\n  {'score': -1.0195730924606323,\n   'text': 'м. Следует отличать многоклеточность и колониальность. У колониальных организмов отсутствуют настоящие дифференцированные клетки, а следовательно, и разделение тела на ткани. Граница'},\n  {'score': -1.0221447348594666,\n   'text': 'для колониальных форм. Многоклеточные животные, возможно, появились на Земле 2,1 миллиарда лет'},\n  {'score': -1.0318906605243683,\n   'text': 'отличать многоклеточность и колониальность. У колониальных организмов отсутствуют настоящие дифференцированные клетки, а следовательно, и разделение тела на ткани. Граница между многоклеточностью и колониальностью нечёткая. Например, вольвокс часто относят к колониальным организмам, хотя в его колониях есть чёткое деление клеток на генеративные и соматические.'},\n  {'score': -1.0370808839797974,\n   'text': 'кроме стволовых, например, клеток камбия у растений) дифференцированы, то есть различаются по строению и выполняемым функциям. Следует отличать многоклеточность и колониальность. У колониальных организмов отсутствуют настоящие дифференцированные клетки, а следовательно, и разделение тела на ткани. Граница между многоклеточностью и колониальностью нечёткая. Например, вольвокс часто относят к колониальным организмам, хотя в его колониях есть чёткое деление клеток на генеративные и соматические.'},\n  {'score': -1.0445359647274017,\n   'text': 'отличать многоклеточность и колониальность. У колониальных организмов отсутствуют настоящие дифференцированные клетки, а следовательно, и разделение тела на ткани. Граница между многоклеточностью и колониальностью нечёткая.'},\n  {'score': -1.0497261881828308,\n   'text': 'кроме стволовых, например, клеток камбия у растений) дифференцированы, то есть различаются по строению и выполняемым функциям. Следует отличать многоклеточность и колониальность. У колониальных организмов отсутствуют настоящие дифференцированные клетки, а следовательно, и разделение тела на ткани. Граница между многоклеточностью и колониальностью нечёткая.'},\n  {'score': -1.0570470690727234,\n   'text': '. Следует отличать многоклеточность и колониальность. У колониальных организмов'},\n  {'score': -1.0690948963165283,\n   'text': '. Следует отличать многоклеточность и колониальность. У колониальных организмов отсутствуют настоящие дифференцированные клетки, а следовательно, и разделение тела на ткани.'},\n  {'score': -1.0979623198509216, 'text': '.'},\n  {'score': -1.1289458870887756,\n   'text': 'ческие. Кроме дифференциации клеток, для многоклеточных характерен и более высокий уровень интеграции'},\n  {'score': -1.1309296488761902,\n   'text': 'кроме стволовых, например, клеток камбия у растений'},\n  {'score': -1.1355867385864258,\n   'text': 'кроме стволовых, например, клеток камбия у растений) дифференцированы, то есть различаются по строению и выполняемым функциям.'},\n  {'score': -1.1653338372707367,\n   'text': 'отличать многоклеточность и колониальность. У колониальных организмов отсутствуют настоящие дифференцированные клетки, а следовательно, и разделение тела на ткани. Граница между многоклеточностью и колониальностью нечёткая. Например'},\n  {'score': -1.1705240607261658,\n   'text': 'кроме стволовых, например, клеток камбия у растений) дифференцированы, то есть различаются по строению и выполняемым функциям. Следует отличать многоклеточность и колониальность. У колониальных организмов отсутствуют настоящие дифференцированные клетки, а следовательно, и разделение тела на ткани. Граница между многоклеточностью и колониальностью нечёткая. Например'},\n  {'score': -1.1722409427165985,\n   'text': 'отличать многоклеточность и колониальность. У колониальных организмов отсутствуют настоящие дифференцированные клетки'},\n  {'score': -1.177362859249115,\n   'text': 'ческие. Кроме дифференциации клеток, для многоклеточных характерен'},\n  {'score': -1.1774311661720276,\n   'text': 'кроме стволовых, например, клеток камбия у растений) дифференцированы, то есть различаются по строению и выполняемым функциям. Следует отличать многоклеточность и колониальность. У колониальных организмов отсутствуют настоящие дифференцированные клетки'},\n  {'score': -1.1876393556594849,\n   'text': 'ческие. Кроме дифференциации клеток, для многоклеточных характерен и более высокий уровень интеграции, чем для колониальных форм. Многоклеточные животные, возможно, появились на Земле 2,1 миллиарда лет'},\n  {'score': -1.1904758512973785,\n   'text': 'отличать многоклеточность и колониальность. У колониальных организмов отсутствуют настоящие дифференцированные клетки, а следовательно, и разделение тела на ткани. Граница'},\n  {'score': -1.1956660747528076,\n   'text': 'кроме стволовых, например, клеток камбия у растений) дифференцированы, то есть различаются по строению и выполняемым функциям. Следует отличать многоклеточность и колониальность. У колониальных организмов отсутствуют настоящие дифференцированные клетки, а следовательно, и разделение тела на ткани. Граница'},\n  {'score': -1.1984765529632568,\n   'text': 'кая. Например, вольвокс часто относят к колониальным организмам, хотя в его колониях есть чёткое деление клеток на генеративные и соматические.'},\n  {'score': -1.2111218571662903, 'text': 'кая.'},\n  {'score': -1.2498894333839417,\n   'text': 'форм. Многоклеточные животные, возможно, появились на Земле 2,1 миллиарда лет'},\n  {'score': -1.2808953523635864,\n   'text': '. Следует отличать многоклеточность и колониальность. У колониальных организмов отсутствуют настоящие дифференцированные клетки, а следовательно, и разделение тела на ткани. Граница между многоклеточностью и колониальностью нечёткая. Например, вольвокс часто относят к колониальным организмам, хотя в его колониях есть чёткое деление клеток на генеративные и соматические.'},\n  {'score': -1.2935406565666199,\n   'text': '. Следует отличать многоклеточность и колониальность. У колониальных организмов отсутствуют настоящие дифференцированные клетки, а следовательно, и разделение тела на ткани. Граница между многоклеточностью и колониальностью нечёткая.'},\n  {'score': -1.3086745738983154,\n   'text': 'к колониальным организмам, хотя в его колониях есть чёткое деление клеток на генеративные и соматические.'},\n  {'score': -1.3097627758979797,\n   'text': '. Граница между многоклеточностью и колониальностью нечёткая. Например, вольвокс часто относят к колониальным организмам, хотя в его колониях есть чёткое деление клеток на генеративные и соматические.'},\n  {'score': -1.3224080801010132,\n   'text': '. Граница между многоклеточностью и колониальностью нечёткая.'},\n  {'score': -1.3319197297096252, 'text': 'кая. Например'},\n  {'score': -1.3794012069702148, 'text': '.'},\n  {'score': -1.4143385291099548,\n   'text': '. Следует отличать многоклеточность и колониальность. У колониальных организмов отсутствуют настоящие дифференцированные клетки, а следовательно, и разделение тела на ткани. Граница между многоклеточностью и колониальностью нечёткая. Например'},\n  {'score': -1.4212456345558167,\n   'text': '. Следует отличать многоклеточность и колониальность. У колониальных организмов отсутствуют настоящие дифференцированные клетки'},\n  {'score': -1.4394805431365967,\n   'text': '. Следует отличать многоклеточность и колониальность. У колониальных организмов отсутствуют настоящие дифференцированные клетки, а следовательно, и разделение тела на ткани. Граница'},\n  {'score': -1.4432059526443481,\n   'text': '. Граница между многоклеточностью и колониальностью нечёткая. Например'},\n  {'score': -1.46834796667099, 'text': '. Граница'}],\n [{'score': 6.299153089523315, 'text': 'на'},\n  {'score': 3.1041817665100098, 'text': 'на генеративные и соматические.'},\n  {'score': 2.0512195229530334, 'text': '.'},\n  {'score': 2.0394906997680664,\n   'text': 'У колониальных организмов отсутствуют настоящие дифференцированные клетки, а следовательно, и разделение тела на ткани. Граница между многоклеточностью и колониальностью нечёткая'},\n  {'score': 1.8815467953681946,\n   'text': 'на генеративные и соматические. Кроме дифференциации клеток, для многоклеточных характерен и более высокий уровень интеграции, чем для колониальных форм. Многоклеточные животные, возможно, появились на Земле 2,1 миллиарда лет назад'},\n  {'score': 1.8572542071342468, 'text': 'на генеративные и соматические'},\n  {'score': 1.7788503766059875,\n   'text': 'Многоклеточный организм — внесистематическая категория живых организмов, тело которых состоит из многих клеток, большая часть которых (кроме стволовых, например, клеток камбия у растений) дифференцированы, то есть различаются по строению и выполняемым функциям'},\n  {'score': 1.7144407629966736,\n   'text': 'Многоклеточный организм — внесистематическая категория живых организмов, тело которых состоит из многих клеток, большая часть которых (кроме стволовых, например, клеток камбия у растений) дифференцированы, то есть различаются по строению и выполняемым функциям. Следует отличать многоклеточность и колониальность. У колониальных организмов отсутствуют настоящие дифференцированные клетки, а следовательно, и разделение тела на ткани. Граница между многоклеточностью и колониальностью нечёткая'},\n  {'score': 1.6964794397354126,\n   'text': 'внесистематическая категория живых организмов, тело которых состоит из многих клеток, большая часть которых (кроме стволовых, например, клеток камбия у растений) дифференцированы, то есть различаются по строению и выполняемым функциям'},\n  {'score': 1.6320698261260986,\n   'text': 'внесистематическая категория живых организмов, тело которых состоит из многих клеток, большая часть которых (кроме стволовых, например, клеток камбия у растений) дифференцированы, то есть различаются по строению и выполняемым функциям. Следует отличать многоклеточность и колониальность. У колониальных организмов отсутствуют настоящие дифференцированные клетки, а следовательно, и разделение тела на ткани. Граница между многоклеточностью и колониальностью нечёткая'},\n  {'score': 1.4143421351909637,\n   'text': 'на генеративные и соматические. Кроме дифференциации клеток, для многоклеточных характерен и более высокий уровень интеграции, чем для колониальных форм'},\n  {'score': 1.3746153712272644,\n   'text': 'Многоклеточные животные, возможно, появились на Земле 2,1 миллиарда лет назад'},\n  {'score': 1.3741743564605713,\n   'text': 'кани. Граница между многоклеточностью и колониальностью нечёткая'},\n  {'score': 1.3316789269447327,\n   'text': 'на генеративные и соматические. Кроме дифференциации клеток, для многоклеточных характерен и более высокий уровень интеграции, чем для колониальных форм. Многоклеточные животные, возможно, появились на Земле 2,1 миллиарда лет назад, вскоре после кислородной революции'},\n  {'score': 1.3029441833496094,\n   'text': 'из многих клеток, большая часть которых (кроме стволовых, например, клеток камбия у растений) дифференцированы, то есть различаются по строению и выполняемым функциям'},\n  {'score': 1.3026079796254635,\n   'text': 'на генеративные и соматические. Кроме дифференциации клеток, для многоклеточных характерен и более высокий уровень интеграции, чем для колониальных форм. Многоклеточные животные, возможно, появились на Земле 2,1 миллиарда лет назад, вскоре после кислородной революции .'},\n  {'score': 1.2385345697402954,\n   'text': 'из многих клеток, большая часть которых (кроме стволовых, например, клеток камбия у растений) дифференцированы, то есть различаются по строению и выполняемым функциям. Следует отличать многоклеточность и колониальность. У колониальных организмов отсутствуют настоящие дифференцированные клетки, а следовательно, и разделение тела на ткани. Граница между многоклеточностью и колониальностью нечёткая'},\n  {'score': 1.2241371721029282,\n   'text': 'на генеративные и соматические. Кроме дифференциации клеток, для многоклеточных характерен и более высокий уровень интеграции, чем для колониальных форм.'},\n  {'score': 1.2134165167808533,\n   'text': 'Кроме дифференциации клеток, для многоклеточных характерен и более высокий уровень интеграции, чем для колониальных форм. Многоклеточные животные, возможно, появились на Земле 2,1 миллиарда лет назад'},\n  {'score': 1.1880359649658203,\n   'text': '. Многоклеточные животные, возможно, появились на Земле 2,1 миллиарда лет назад'},\n  {'score': 1.1565927863121033,\n   'text': 'Многоклеточный организм — внесистематическая категория живых организмов, тело которых состоит из многих клеток, большая часть которых (кроме стволовых, например, клеток камбия у растений) дифференцированы, то есть различаются по строению и выполняемым функциям. Следует отличать многоклеточность и колониальность'},\n  {'score': 1.0742218494415283,\n   'text': 'внесистематическая категория живых организмов, тело которых состоит из многих клеток, большая часть которых (кроме стволовых, например, клеток камбия у растений) дифференцированы, то есть различаются по строению и выполняемым функциям. Следует отличать многоклеточность и колониальность'},\n  {'score': 1.0478090345859528,\n   'text': 'на генеративные и соматические. Кроме дифференциации клеток, для многоклеточных характерен и более высокий уровень интеграции, чем для колониальных форм. Многоклеточные животные'},\n  {'score': 1.041373461484909,\n   'text': 'У колониальных организмов отсутствуют настоящие дифференцированные клетки, а следовательно, и разделение тела на ткани. Граница между многоклеточностью и колониальностью нечёткая.'},\n  {'score': 0.9718222618103027,\n   'text': 'Граница между многоклеточностью и колониальностью нечёткая'},\n  {'score': 0.9336353838443756,\n   'text': 'У колониальных организмов отсутствуют настоящие дифференцированные клетки, а следовательно, и разделение тела на ткани. Граница между многоклеточностью и колониальностью нечёткая. Например, вольвокс часто относят к колониальным организмам'},\n  {'score': 0.904693990945816,\n   'text': 'на генеративные и соматические. Кроме дифференциации клеток'},\n  {'score': 0.9018649309873581,\n   'text': 'У колониальных организмов отсутствуют настоящие дифференцированные клетки, а следовательно, и разделение тела на ткани. Граница между многоклеточностью и колониальностью нечёткая. Например, вольвокс часто относят к колониальным организмам, хотя в его колониях есть чёткое деление клеток на генеративные и соматические'},\n  {'score': 0.8972644507884979, 'text': 'м'},\n  {'score': 0.8620321452617645,\n   'text': 'сть. У колониальных организмов отсутствуют настоящие дифференцированные клетки, а следовательно, и разделение тела на ткани. Граница между многоклеточностью и колониальностью нечёткая'},\n  {'score': 0.8426533937454224, 'text': 'на Земле 2,1 миллиарда лет назад'},\n  {'score': 0.832854837179184,\n   'text': 'м. Следует отличать многоклеточность и колониальность. У колониальных организмов отсутствуют настоящие дифференцированные клетки, а следовательно, и разделение тела на ткани. Граница между многоклеточностью и колониальностью нечёткая'},\n  {'score': 0.8285845518112183,\n   'text': '. Кроме дифференциации клеток, для многоклеточных характерен и более высокий уровень интеграции, чем для колониальных форм. Многоклеточные животные, возможно, появились на Земле 2,1 миллиарда лет назад'},\n  {'score': 0.8259264230728149, 'text': 'кая'},\n  {'score': 0.8247475028038025,\n   'text': 'Многоклеточные животные, возможно, появились на Земле 2,1 миллиарда лет назад, вскоре после кислородной революции'},\n  {'score': 0.8210980296134949, 'text': 'по строению и выполняемым функциям'},\n  {'score': 0.8153826296329498,\n   'text': '. У колониальных организмов отсутствуют настоящие дифференцированные клетки, а следовательно, и разделение тела на ткани. Граница между многоклеточностью и колониальностью нечёткая'},\n  {'score': 0.7956765554845333,\n   'text': 'Многоклеточные животные, возможно, появились на Земле 2,1 миллиарда лет назад, вскоре после кислородной революции .'},\n  {'score': 0.7566884160041809,\n   'text': 'по строению и выполняемым функциям. Следует отличать многоклеточность и колониальность. У колониальных организмов отсутствуют настоящие дифференцированные клетки, а следовательно, и разделение тела на ткани. Граница между многоклеточностью и колониальностью нечёткая'},\n  {'score': 0.7462118566036224,\n   'text': 'Кроме дифференциации клеток, для многоклеточных характерен и более высокий уровень интеграции, чем для колониальных форм'},\n  {'score': 0.7355074882507324, 'text': 'ческие.'},\n  {'score': 0.7163235247135162,\n   'text': 'Многоклеточный организм — внесистематическая категория живых организмов, тело которых состоит из многих клеток, большая часть которых (кроме стволовых, например, клеток камбия у растений) дифференцированы, то есть различаются по строению и выполняемым функциям. Следует отличать многоклеточность и колониальность. У колониальных организмов отсутствуют настоящие дифференцированные клетки, а следовательно, и разделение тела на ткани. Граница между многоклеточностью и колониальностью нечёткая.'},\n  {'score': 0.6835968345403671,\n   'text': 'У колониальных организмов отсутствуют настоящие дифференцированные клетки, а следовательно, и разделение тела на ткани'},\n  {'score': 0.6806865930557251,\n   'text': 'из многих клеток, большая часть которых (кроме стволовых, например, клеток камбия у растений) дифференцированы, то есть различаются по строению и выполняемым функциям. Следует отличать многоклеточность и колониальность'},\n  {'score': 0.6635486483573914,\n   'text': 'Кроме дифференциации клеток, для многоклеточных характерен и более высокий уровень интеграции, чем для колониальных форм. Многоклеточные животные, возможно, появились на Земле 2,1 миллиарда лет назад, вскоре после кислородной революции'},\n  {'score': 0.6381680965423584,\n   'text': '. Многоклеточные животные, возможно, появились на Земле 2,1 миллиарда лет назад, вскоре после кислородной революции'},\n  {'score': 0.6368324607610703, 'text': 'Многоклеточный организм'},\n  {'score': 0.6344777010381222,\n   'text': 'Кроме дифференциации клеток, для многоклеточных характерен и более высокий уровень интеграции, чем для колониальных форм. Многоклеточные животные, возможно, появились на Земле 2,1 миллиарда лет назад, вскоре после кислородной революции .'},\n  {'score': 0.6339525878429413,\n   'text': 'внесистематическая категория живых организмов, тело которых состоит из многих клеток, большая часть которых (кроме стволовых, например, клеток камбия у растений) дифференцированы, то есть различаются по строению и выполняемым функциям. Следует отличать многоклеточность и колониальность. У колониальных организмов отсутствуют настоящие дифференцированные клетки, а следовательно, и разделение тела на ткани. Граница между многоклеточностью и колониальностью нечёткая.'},\n  {'score': 0.6190939098596573,\n   'text': 'Многоклеточный организм — внесистематическая категория живых организмов'},\n  {'score': 0.6090971492230892,\n   'text': '. Многоклеточные животные, возможно, появились на Земле 2,1 миллиарда лет назад, вскоре после кислородной революции .'},\n  {'score': 0.6085854470729828,\n   'text': 'Многоклеточный организм — внесистематическая категория живых организмов, тело которых состоит из многих клеток, большая часть которых (кроме стволовых, например, клеток камбия у растений) дифференцированы, то есть различаются по строению и выполняемым функциям. Следует отличать многоклеточность и колониальность. У колониальных организмов отсутствуют настоящие дифференцированные клетки, а следовательно, и разделение тела на ткани. Граница между многоклеточностью и колониальностью нечёткая. Например, вольвокс часто относят к колониальным организмам'},\n  {'score': 0.5768149942159653,\n   'text': 'Многоклеточный организм — внесистематическая категория живых организмов, тело которых состоит из многих клеток, большая часть которых (кроме стволовых, например, клеток камбия у растений) дифференцированы, то есть различаются по строению и выполняемым функциям. Следует отличать многоклеточность и колониальность. У колониальных организмов отсутствуют настоящие дифференцированные клетки, а следовательно, и разделение тела на ткани. Граница между многоклеточностью и колониальностью нечёткая. Например, вольвокс часто относят к колониальным организмам, хотя в его колониях есть чёткое деление клеток на генеративные и соматические'},\n  {'score': 0.5685545206069946,\n   'text': 'многоклеточность и колониальность. У колониальных организмов отсутствуют настоящие дифференцированные клетки, а следовательно, и разделение тела на ткани. Граница между многоклеточностью и колониальностью нечёткая'},\n  {'score': 0.5560068935155869,\n   'text': 'Кроме дифференциации клеток, для многоклеточных характерен и более высокий уровень интеграции, чем для колониальных форм.'},\n  {'score': 0.5408776104450226, 'text': 'Многоклеточные животные'},\n  {'score': 0.5367229729890823,\n   'text': 'внесистематическая категория живых организмов'},\n  {'score': 0.5306263417005539, 'text': '.'},\n  {'score': 0.5262145102024078,\n   'text': 'внесистематическая категория живых организмов, тело которых состоит из многих клеток, большая часть которых (кроме стволовых, например, клеток камбия у растений) дифференцированы, то есть различаются по строению и выполняемым функциям. Следует отличать многоклеточность и колониальность. У колониальных организмов отсутствуют настоящие дифференцированные клетки, а следовательно, и разделение тела на ткани. Граница между многоклеточностью и колониальностью нечёткая. Например, вольвокс часто относят к колониальным организмам'},\n  {'score': 0.5239263772964478,\n   'text': 'на генеративные и соматические. Кроме дифференциации клеток, для многоклеточных характерен и более высокий уровень интеграции'},\n  {'score': 0.5202375054359436,\n   'text': 'У колониальных организмов отсутствуют настоящие дифференцированные клетки, а следовательно, и разделение тела на ткани.'},\n  {'score': 0.505486786365509,\n   'text': 'кроме стволовых, например, клеток камбия у растений) дифференцированы, то есть различаются по строению и выполняемым функциям'},\n  {'score': 0.4944440573453903,\n   'text': 'внесистематическая категория живых организмов, тело которых состоит из многих клеток, большая часть которых (кроме стволовых, например, клеток камбия у растений) дифференцированы, то есть различаются по строению и выполняемым функциям. Следует отличать многоклеточность и колониальность. У колониальных организмов отсутствуют настоящие дифференцированные клетки, а следовательно, и разделение тела на ткани. Граница между многоклеточностью и колониальностью нечёткая. Например, вольвокс часто относят к колониальным организмам, хотя в его колониях есть чёткое деление клеток на генеративные и соматические'},\n  {'score': 0.491330623626709, 'text': 'У колониальных организмов'},\n  {'score': 0.44107717275619507,\n   'text': 'кроме стволовых, например, клеток камбия у растений) дифференцированы, то есть различаются по строению и выполняемым функциям. Следует отличать многоклеточность и колониальность. У колониальных организмов отсутствуют настоящие дифференцированные клетки, а следовательно, и разделение тела на ткани. Граница между многоклеточностью и колониальностью нечёткая'},\n  {'score': 0.3957831859588623,\n   'text': 'на генеративные и соматические. Кроме дифференциации клеток, для многоклеточных характерен'},\n  {'score': 0.37967875599861145,\n   'text': 'Кроме дифференциации клеток, для многоклеточных характерен и более высокий уровень интеграции, чем для колониальных форм. Многоклеточные животные'},\n  {'score': 0.37605711817741394,\n   'text': 'кани. Граница между многоклеточностью и колониальностью нечёткая.'},\n  {'score': 0.3613798916339874,\n   'text': '. Кроме дифференциации клеток, для многоклеточных характерен и более высокий уровень интеграции, чем для колониальных форм'},\n  {'score': 0.3585468977689743,\n   'text': 'Многоклеточный организм — внесистематическая категория живых организмов, тело которых состоит из многих клеток, большая часть которых (кроме стволовых, например, клеток камбия у растений) дифференцированы, то есть различаются по строению и выполняемым функциям. Следует отличать многоклеточность и колониальность. У колониальных организмов отсутствуют настоящие дифференцированные клетки, а следовательно, и разделение тела на ткани'},\n  {'score': 0.3542982041835785, 'text': '. Многоклеточные животные'},\n  {'score': 0.34068943560123444, 'text': '1 миллиарда лет назад'},\n  {'score': 0.30874693393707275,\n   'text': 'на генеративные и соматические. Кроме дифференциации клеток, для многоклеточных характерен и более высокий уровень интеграции, чем для колониальных форм. Многоклеточные животные, возможно, появились на Земле 2,1 миллиарда лет'},\n  {'score': 0.3041841685771942, 'text': 'сть'},\n  {'score': 0.29278552532196045,\n   'text': 'на Земле 2,1 миллиарда лет назад, вскоре после кислородной революции'},\n  {'score': 0.27871668338775635,\n   'text': '. Кроме дифференциации клеток, для многоклеточных характерен и более высокий уровень интеграции, чем для колониальных форм. Многоклеточные животные, возможно, появились на Земле 2,1 миллиарда лет назад, вскоре после кислородной революции'},\n  {'score': 0.2769831418991089, 'text': '2,1 миллиарда лет назад'},\n  {'score': 0.27617596089839935,\n   'text': 'внесистематическая категория живых организмов, тело которых состоит из многих клеток, большая часть которых (кроме стволовых, например, клеток камбия у растений) дифференцированы, то есть различаются по строению и выполняемым функциям. Следует отличать многоклеточность и колониальность. У колониальных организмов отсутствуют настоящие дифференцированные клетки, а следовательно, и разделение тела на ткани'},\n  {'score': 0.27500686049461365,\n   'text': 'м. Следует отличать многоклеточность и колониальность'},\n  {'score': 0.2683190405368805,\n   'text': 'кани. Граница между многоклеточностью и колониальностью нечёткая. Например, вольвокс часто относят к колониальным организмам'},\n  {'score': 0.26371457800269127,\n   'text': 'на Земле 2,1 миллиарда лет назад, вскоре после кислородной революции .'},\n  {'score': 0.24964573606848717,\n   'text': '. Кроме дифференциации клеток, для многоклеточных характерен и более высокий уровень интеграции, чем для колониальных форм. Многоклеточные животные, возможно, появились на Земле 2,1 миллиарда лет назад, вскоре после кислородной революции .'},\n  {'score': 0.24041733145713806,\n   'text': 'из многих клеток, большая часть которых (кроме стволовых, например, клеток камбия у растений) дифференцированы, то есть различаются по строению и выполняемым функциям. Следует отличать многоклеточность и колониальность. У колониальных организмов отсутствуют настоящие дифференцированные клетки, а следовательно, и разделение тела на ткани. Граница между многоклеточностью и колониальностью нечёткая.'},\n  {'score': 0.23656371235847473, 'text': 'Кроме дифференциации клеток'},\n  {'score': 0.23654858767986298,\n   'text': 'кани. Граница между многоклеточностью и колониальностью нечёткая. Например, вольвокс часто относят к колониальным организмам, хотя в его колониях есть чёткое деление клеток на генеративные и соматические'},\n  {'score': 0.1988404393196106,\n   'text': 'по строению и выполняемым функциям. Следует отличать многоклеточность и колониальность'},\n  {'score': 0.19518756866455078,\n   'text': 'Многоклеточный организм — внесистематическая категория живых организмов, тело которых состоит из многих клеток, большая часть которых (кроме стволовых, например, клеток камбия у растений) дифференцированы, то есть различаются по строению и выполняемым функциям. Следует отличать многоклеточность и колониальность. У колониальных организмов отсутствуют настоящие дифференцированные клетки, а следовательно, и разделение тела на ткани.'},\n  {'score': 0.18230551481246948,\n   'text': 'Многоклеточный организм — внесистематическая категория живых организмов, тело которых состоит из многих клеток, большая часть которых (кроме стволовых, например, клеток камбия у растений) дифференцированы'},\n  {'score': 0.17117492854595184,\n   'text': '. Кроме дифференциации клеток, для многоклеточных характерен и более высокий уровень интеграции, чем для колониальных форм.'},\n  {'score': 0.16628068685531616,\n   'text': 'Многоклеточный организм — внесистематическая категория живых организмов, тело которых состоит из многих клеток, большая часть которых (кроме стволовых, например, клеток камбия у растений) дифференцированы, то есть различаются по строению и выполняемым функциям. Следует отличать многоклеточность и колониальность. У колониальных организмов'},\n  {'score': 0.1395236849784851,\n   'text': 'Например, вольвокс часто относят к колониальным организмам'},\n  {'score': 0.13267925381660461,\n   'text': 'из многих клеток, большая часть которых (кроме стволовых, например, клеток камбия у растений) дифференцированы, то есть различаются по строению и выполняемым функциям. Следует отличать многоклеточность и колониальность. У колониальных организмов отсутствуют настоящие дифференцированные клетки, а следовательно, и разделение тела на ткани. Граница между многоклеточностью и колониальностью нечёткая. Например, вольвокс часто относят к колониальным организмам'},\n  {'score': 0.13060444593429565,\n   'text': 'У колониальных организмов отсутствуют настоящие дифференцированные клетки, а следовательно, и разделение тела на ткани. Граница между многоклеточностью и колониальностью нечёткая. Например'},\n  {'score': 0.11281663179397583,\n   'text': 'внесистематическая категория живых организмов, тело которых состоит из многих клеток, большая часть которых (кроме стволовых, например, клеток камбия у растений) дифференцированы, то есть различаются по строению и выполняемым функциям. Следует отличать многоклеточность и колониальность. У колониальных организмов отсутствуют настоящие дифференцированные клетки, а следовательно, и разделение тела на ткани.'},\n  {'score': 0.10775323212146759,\n   'text': 'Например, вольвокс часто относят к колониальным организмам, хотя в его колониях есть чёткое деление клеток на генеративные и соматические'},\n  {'score': 0.1009088009595871,\n   'text': 'из многих клеток, большая часть которых (кроме стволовых, например, клеток камбия у растений) дифференцированы, то есть различаются по строению и выполняемым функциям. Следует отличать многоклеточность и колониальность. У колониальных организмов отсутствуют настоящие дифференцированные клетки, а следовательно, и разделение тела на ткани. Граница между многоклеточностью и колониальностью нечёткая. Например, вольвокс часто относят к колониальным организмам, хотя в его колониях есть чёткое деление клеток на генеративные и соматические'},\n  {'score': 0.09993457794189453,\n   'text': 'внесистематическая категория живых организмов, тело которых состоит из многих клеток, большая часть которых (кроме стволовых, например, клеток камбия у растений) дифференцированы'},\n  {'score': 0.09740430116653442,\n   'text': 'Многоклеточный организм — внесистематическая категория живых организмов, тело которых состоит из многих клеток'},\n  {'score': 0.09453454613685608,\n   'text': 'форм. Многоклеточные животные, возможно, появились на Земле 2,1 миллиарда лет назад'},\n  {'score': 0.08390974998474121,\n   'text': 'внесистематическая категория живых организмов, тело которых состоит из многих клеток, большая часть которых (кроме стволовых, например, клеток камбия у растений) дифференцированы, то есть различаются по строению и выполняемым функциям. Следует отличать многоклеточность и колониальность. У колониальных организмов'},\n  {'score': 0.058640122413635254,\n   'text': 'У колониальных организмов отсутствуют настоящие дифференцированные клетки, а следовательно, и разделение тела на ткани. Граница между многоклеточностью и колониальностью нечёткая. Например, вольвокс часто относят к колониальным организмам, хотя в его колониях есть чёткое деление клеток на генеративные и соматические.'},\n  {'score': 0.03173112869262695,\n   'text': 'для колониальных форм. Многоклеточные животные, возможно, появились на Земле 2,1 миллиарда лет назад'},\n  {'score': 0.01828049123287201, 'text': 'кани'},\n  {'score': 0.015033364295959473,\n   'text': 'внесистематическая категория живых организмов, тело которых состоит из многих клеток'},\n  {'score': 0.010706543922424316, 'text': 'многоклеточность и колониальность'},\n  {'score': -0.0007112026214599609,\n   'text': 'У колониальных организмов отсутствуют настоящие дифференцированные клетки'},\n  {'score': -0.0027260184288024902,\n   'text': 'Многоклеточный организм — внесистематическая категория живых организмов, тело которых состоит из многих клеток, большая часть которых (кроме стволовых, например, клеток камбия у растений'},\n  {'score': -0.00515320897102356,\n   'text': '. Кроме дифференциации клеток, для многоклеточных характерен и более высокий уровень интеграции, чем для колониальных форм. Многоклеточные животные'},\n  {'score': -0.026294976472854614,\n   'text': 'Граница между многоклеточностью и колониальностью нечёткая.'},\n  {'score': -0.08509695529937744,\n   'text': 'внесистематическая категория живых организмов, тело которых состоит из многих клеток, большая часть которых (кроме стволовых, например, клеток камбия у растений'},\n  {'score': -0.10167700052261353,\n   'text': 'для многоклеточных характерен и более высокий уровень интеграции, чем для колониальных форм. Многоклеточные животные, возможно, появились на Земле 2,1 миллиарда лет назад'},\n  {'score': -0.11677080392837524,\n   'text': 'кроме стволовых, например, клеток камбия у растений) дифференцированы, то есть различаются по строению и выполняемым функциям. Следует отличать многоклеточность и колониальность'},\n  {'score': -0.11735929548740387,\n   'text': 'из многих клеток, большая часть которых (кроме стволовых, например, клеток камбия у растений) дифференцированы, то есть различаются по строению и выполняемым функциям. Следует отличать многоклеточность и колониальность. У колониальных организмов отсутствуют настоящие дифференцированные клетки, а следовательно, и разделение тела на ткани'},\n  {'score': -0.13403305411338806,\n   'text': 'Граница между многоклеточностью и колониальностью нечёткая. Например, вольвокс часто относят к колониальным организмам'},\n  {'score': -0.13608509302139282,\n   'text': 'сть. У колониальных организмов отсутствуют настоящие дифференцированные клетки, а следовательно, и разделение тела на ткани. Граница между многоклеточностью и колониальностью нечёткая.'},\n  {'score': -0.14420390129089355,\n   'text': 'Кроме дифференциации клеток, для многоклеточных характерен и более высокий уровень интеграции'},\n  {'score': -0.1450788378715515, 'text': 'кани.'},\n  {'score': -0.14826825261116028, 'text': '. Кроме дифференциации клеток'},\n  {'score': -0.1652624011039734,\n   'text': 'м. Следует отличать многоклеточность и колониальность. У колониальных организмов отсутствуют настоящие дифференцированные клетки, а следовательно, и разделение тела на ткани. Граница между многоклеточностью и колониальностью нечёткая.'},\n  {'score': -0.16580350697040558,\n   'text': 'Граница между многоклеточностью и колониальностью нечёткая. Например, вольвокс часто относят к колониальным организмам, хотя в его колониях есть чёткое деление клеток на генеративные и соматические'},\n  {'score': -0.1709025502204895,\n   'text': 'Многоклеточный организм — внесистематическая категория живых организмов, тело которых состоит из многих клеток, большая часть которых (кроме стволовых, например, клеток камбия у растений) дифференцированы, то есть различаются по строению и выполняемым функциям.'},\n  {'score': -0.1721908152103424, 'text': 'кая.'},\n  {'score': -0.18273460865020752,\n   'text': '. У колониальных организмов отсутствуют настоящие дифференцированные клетки, а следовательно, и разделение тела на ткани. Граница между многоклеточностью и колониальностью нечёткая.'},\n  {'score': -0.19444549083709717,\n   'text': 'Многоклеточный организм — внесистематическая категория живых организмов, тело которых состоит из многих клеток, большая часть которых (кроме стволовых, например, клеток камбия у растений) дифференцированы, то есть различаются по строению и выполняемым функциям. Следует отличать многоклеточность и колониальность. У колониальных организмов отсутствуют настоящие дифференцированные клетки, а следовательно, и разделение тела на ткани. Граница между многоклеточностью и колониальностью нечёткая. Например'},\n  {'score': -0.19818449020385742,\n   'text': 'Многоклеточные животные, возможно, появились на Земле 2,1 миллиарда лет'},\n  {'score': -0.20917843282222748,\n   'text': '1 миллиарда лет назад, вскоре после кислородной революции'},\n  {'score': -0.23824938014149666,\n   'text': '1 миллиарда лет назад, вскоре после кислородной революции .'},\n  {'score': -0.24142882227897644,\n   'text': 'по строению и выполняемым функциям. Следует отличать многоклеточность и колониальность. У колониальных организмов отсутствуют настоящие дифференцированные клетки, а следовательно, и разделение тела на ткани. Граница между многоклеточностью и колониальностью нечёткая.'},\n  {'score': -0.24382317066192627,\n   'text': 'сть. У колониальных организмов отсутствуют настоящие дифференцированные клетки, а следовательно, и разделение тела на ткани. Граница между многоклеточностью и колониальностью нечёткая. Например, вольвокс часто относят к колониальным организмам'},\n  {'score': -0.25327348709106445,\n   'text': 'внесистематическая категория живых организмов, тело которых состоит из многих клеток, большая часть которых (кроме стволовых, например, клеток камбия у растений) дифференцированы, то есть различаются по строению и выполняемым функциям.'},\n  {'score': -0.26640981435775757,\n   'text': 'Многоклеточный организм — внесистематическая категория живых организмов, тело которых состоит из многих клеток, большая часть которых (кроме стволовых, например, клеток камбия у растений) дифференцированы, то есть различаются по строению и выполняемым функциям. Следует отличать многоклеточность и колониальность. У колониальных организмов отсутствуют настоящие дифференцированные клетки, а следовательно, и разделение тела на ткани. Граница между многоклеточностью и колониальностью нечёткая. Например, вольвокс часто относят к колониальным организмам, хотя в его колониях есть чёткое деление клеток на генеративные и соматические.'},\n  {'score': -0.272347092628479,\n   'text': 'Кроме дифференциации клеток, для многоклеточных характерен'},\n  {'score': -0.272884726524353,\n   'text': '2,1 миллиарда лет назад, вскоре после кислородной революции'},\n  {'score': -0.27300047874450684,\n   'text': 'м. Следует отличать многоклеточность и колониальность. У колониальных организмов отсутствуют настоящие дифференцированные клетки, а следовательно, и разделение тела на ткани. Граница между многоклеточностью и колониальностью нечёткая. Например, вольвокс часто относят к колониальным организмам'},\n  {'score': -0.2755936235189438,\n   'text': 'сть. У колониальных организмов отсутствуют настоящие дифференцированные клетки, а следовательно, и разделение тела на ткани. Граница между многоклеточностью и колониальностью нечёткая. Например, вольвокс часто относят к колониальным организмам, хотя в его колониях есть чёткое деление клеток на генеративные и соматические'},\n  {'score': -0.2768164277076721,\n   'text': 'внесистематическая категория живых организмов, тело которых состоит из многих клеток, большая часть которых (кроме стволовых, например, клеток камбия у растений) дифференцированы, то есть различаются по строению и выполняемым функциям. Следует отличать многоклеточность и колониальность. У колониальных организмов отсутствуют настоящие дифференцированные клетки, а следовательно, и разделение тела на ткани. Граница между многоклеточностью и колониальностью нечёткая. Например'},\n  {'score': -0.27992889285087585,\n   'text': 'кая. Например, вольвокс часто относят к колониальным организмам'},\n  {'score': -0.2807186245918274,\n   'text': 'из многих клеток, большая часть которых (кроме стволовых, например, клеток камбия у растений) дифференцированы, то есть различаются по строению и выполняемым функциям. Следует отличать многоклеточность и колониальность. У колониальных организмов отсутствуют настоящие дифференцированные клетки, а следовательно, и разделение тела на ткани.'},\n  {'score': -0.29047268629074097,\n   'text': '. У колониальных организмов отсутствуют настоящие дифференцированные клетки, а следовательно, и разделение тела на ткани. Граница между многоклеточностью и колониальностью нечёткая. Например, вольвокс часто относят к колониальным организмам'},\n  {'score': -0.2936006784439087,\n   'text': 'из многих клеток, большая часть которых (кроме стволовых, например, клеток камбия у растений) дифференцированы'},\n  {'score': -0.3019556738436222,\n   'text': '2,1 миллиарда лет назад, вскоре после кислородной революции .'},\n  {'score': -0.30477093160152435,\n   'text': 'м. Следует отличать многоклеточность и колониальность. У колониальных организмов отсутствуют настоящие дифференцированные клетки, а следовательно, и разделение тела на ткани. Граница между многоклеточностью и колониальностью нечёткая. Например, вольвокс часто относят к колониальным организмам, хотя в его колониях есть чёткое деление клеток на генеративные и соматические'},\n  {'score': -0.309625506401062,\n   'text': 'из многих клеток, большая часть которых (кроме стволовых, например, клеток камбия у растений) дифференцированы, то есть различаются по строению и выполняемым функциям. Следует отличать многоклеточность и колониальность. У колониальных организмов'},\n  {'score': -0.31169934570789337,\n   'text': 'кая. Например, вольвокс часто относят к колониальным организмам, хотя в его колониях есть чёткое деление клеток на генеративные и соматические'},\n  {'score': -0.3222431391477585,\n   'text': '. У колониальных организмов отсутствуют настоящие дифференцированные клетки, а следовательно, и разделение тела на ткани. Граница между многоклеточностью и колониальностью нечёткая. Например, вольвокс часто относят к колониальным организмам, хотя в его колониях есть чёткое деление клеток на генеративные и соматические'},\n  {'score': -0.3257611393928528,\n   'text': 'Многоклеточный организм — внесистематическая категория живых организмов, тело которых состоит из многих клеток, большая часть которых (кроме стволовых, например, клеток камбия у растений) дифференцированы, то есть различаются по строению и выполняемым функциям. Следует отличать многоклеточность и колониальность. У колониальных организмов отсутствуют настоящие дифференцированные клетки'},\n  {'score': -0.3487807512283325,\n   'text': 'внесистематическая категория живых организмов, тело которых состоит из многих клеток, большая часть которых (кроме стволовых, например, клеток камбия у растений) дифференцированы, то есть различаются по строению и выполняемым функциям. Следует отличать многоклеточность и колониальность. У колониальных организмов отсутствуют настоящие дифференцированные клетки, а следовательно, и разделение тела на ткани. Граница между многоклеточностью и колониальностью нечёткая. Например, вольвокс часто относят к колониальным организмам, хотя в его колониях есть чёткое деление клеток на генеративные и соматические.'},\n  {'score': -0.3491668999195099,\n   'text': 'по строению и выполняемым функциям. Следует отличать многоклеточность и колониальность. У колониальных организмов отсутствуют настоящие дифференцированные клетки, а следовательно, и разделение тела на ткани. Граница между многоклеточностью и колониальностью нечёткая. Например, вольвокс часто относят к колониальным организмам'},\n  {'score': -0.35938334465026855,\n   'text': 'Кроме дифференциации клеток, для многоклеточных характерен и более высокий уровень интеграции, чем для колониальных форм. Многоклеточные животные, возможно, появились на Земле 2,1 миллиарда лет'},\n  {'score': -0.37267011404037476, 'text': 'форм'},\n  {'score': -0.37850189208984375, 'text': 'из многих клеток'},\n  {'score': -0.3809373527765274,\n   'text': 'по строению и выполняемым функциям. Следует отличать многоклеточность и колониальность. У колониальных организмов отсутствуют настоящие дифференцированные клетки, а следовательно, и разделение тела на ткани. Граница между многоклеточностью и колониальностью нечёткая. Например, вольвокс часто относят к колониальным организмам, хотя в его колониях есть чёткое деление клеток на генеративные и соматические'},\n  {'score': -0.3847638964653015,\n   'text': '. Многоклеточные животные, возможно, появились на Земле 2,1 миллиарда лет'},\n  {'score': -0.40813207626342773,\n   'text': 'внесистематическая категория живых организмов, тело которых состоит из многих клеток, большая часть которых (кроме стволовых, например, клеток камбия у растений) дифференцированы, то есть различаются по строению и выполняемым функциям. Следует отличать многоклеточность и колониальность. У колониальных организмов отсутствуют настоящие дифференцированные клетки'},\n  {'score': -0.4295627176761627,\n   'text': 'многоклеточность и колониальность. У колониальных организмов отсутствуют настоящие дифференцированные клетки, а следовательно, и разделение тела на ткани. Граница между многоклеточностью и колониальностью нечёткая.'},\n  {'score': -0.4354735314846039, 'text': 'для колониальных форм'},\n  {'score': -0.45533332228660583,\n   'text': 'форм. Многоклеточные животные, возможно, появились на Земле 2,1 миллиарда лет назад, вскоре после кислородной революции'},\n  {'score': -0.47863221168518066,\n   'text': 'из многих клеток, большая часть которых (кроме стволовых, например, клеток камбия у растений'},\n  {'score': -0.484404269605875,\n   'text': 'форм. Многоклеточные животные, возможно, появились на Земле 2,1 миллиарда лет назад, вскоре после кислородной революции .'},\n  {'score': -0.48712748289108276,\n   'text': 'ческие. Кроме дифференциации клеток, для многоклеточных характерен и более высокий уровень интеграции, чем для колониальных форм. Многоклеточные животные, возможно, появились на Земле 2,1 миллиарда лет назад'},\n  {'score': -0.49386171996593475,\n   'text': 'сть. У колониальных организмов отсутствуют настоящие дифференцированные клетки, а следовательно, и разделение тела на ткани'},\n  {'score': -0.5114200711250305, 'text': 'ческие'},\n  {'score': -0.518136739730835,\n   'text': 'для колониальных форм. Многоклеточные животные, возможно, появились на Земле 2,1 миллиарда лет назад, вскоре после кислородной революции'},\n  {'score': -0.5230390280485153,\n   'text': 'м. Следует отличать многоклеточность и колониальность. У колониальных организмов отсутствуют настоящие дифференцированные клетки, а следовательно, и разделение тела на ткани'},\n  {'score': -0.5290358662605286,\n   'text': '. Кроме дифференциации клеток, для многоклеточных характерен и более высокий уровень интеграции'},\n  {'score': -0.5347118973731995,\n   'text': 'кани. Граница между многоклеточностью и колониальностью нечёткая. Например'},\n  {'score': -0.5373007953166962,\n   'text': 'многоклеточность и колониальность. У колониальных организмов отсутствуют настоящие дифференцированные клетки, а следовательно, и разделение тела на ткани. Граница между многоклеточностью и колониальностью нечёткая. Например, вольвокс часто относят к колониальным организмам'},\n  {'score': -0.5405112355947495,\n   'text': '. У колониальных организмов отсутствуют настоящие дифференцированные клетки, а следовательно, и разделение тела на ткани'},\n  {'score': -0.5472076870501041,\n   'text': 'для колониальных форм. Многоклеточные животные, возможно, появились на Земле 2,1 миллиарда лет назад, вскоре после кислородной революции .'},\n  {'score': -0.5570400655269623,\n   'text': 'кроме стволовых, например, клеток камбия у растений) дифференцированы, то есть различаются по строению и выполняемым функциям. Следует отличать многоклеточность и колониальность. У колониальных организмов отсутствуют настоящие дифференцированные клетки, а следовательно, и разделение тела на ткани. Граница между многоклеточностью и колониальностью нечёткая.'},\n  {'score': -0.5628750771284103, 'text': 'форм.'},\n  {'score': -0.5688816606998444,\n   'text': 'для многоклеточных характерен и более высокий уровень интеграции, чем для колониальных форм'},\n  {'score': -0.5690712481737137,\n   'text': 'многоклеточность и колониальность. У колониальных организмов отсутствуют настоящие дифференцированные клетки, а следовательно, и разделение тела на ткани. Граница между многоклеточностью и колониальностью нечёткая. Например, вольвокс часто относят к колониальным организмам, хотя в его колониях есть чёткое деление клеток на генеративные и соматические'},\n  {'score': -0.5992054492235184,\n   'text': 'по строению и выполняемым функциям. Следует отличать многоклеточность и колониальность. У колониальных организмов отсутствуют настоящие дифференцированные клетки, а следовательно, и разделение тела на ткани'},\n  {'score': -0.6066762208938599,\n   'text': 'кани. Граница между многоклеточностью и колониальностью нечёткая. Например, вольвокс часто относят к колониальным организмам, хотя в его колониях есть чёткое деление клеток на генеративные и соматические.'},\n  {'score': -0.6256784945726395, 'text': 'для колониальных форм.'},\n  {'score': -0.6468087434768677,\n   'text': 'из многих клеток, большая часть которых (кроме стволовых, например, клеток камбия у растений) дифференцированы, то есть различаются по строению и выполняемым функциям.'},\n  {'score': -0.6515448689460754,\n   'text': 'для многоклеточных характерен и более высокий уровень интеграции, чем для колониальных форм. Многоклеточные животные, возможно, появились на Земле 2,1 миллиарда лет назад, вскоре после кислородной революции'},\n  {'score': -0.657179057598114,\n   'text': '. Кроме дифференциации клеток, для многоклеточных характерен'},\n  {'score': -0.6572210490703583,\n   'text': 'сть. У колониальных организмов отсутствуют настоящие дифференцированные клетки, а следовательно, и разделение тела на ткани.'},\n  {'score': -0.659221962094307,\n   'text': 'в его колониях есть чёткое деление клеток на генеративные и соматические'},\n  {'score': -0.6633605360984802, 'text': 'после кислородной революции'},\n  {'score': -0.6635072529315948, 'text': 'Например'},\n  {'score': -0.6647781431674957,\n   'text': 'кроме стволовых, например, клеток камбия у растений) дифференцированы, то есть различаются по строению и выполняемым функциям. Следует отличать многоклеточность и колониальность. У колониальных организмов отсутствуют настоящие дифференцированные клетки, а следовательно, и разделение тела на ткани. Граница между многоклеточностью и колониальностью нечёткая. Например, вольвокс часто относят к колониальным организмам'},\n  {'score': -0.6703516840934753,\n   'text': 'из многих клеток, большая часть которых (кроме стволовых, например, клеток камбия у растений) дифференцированы, то есть различаются по строению и выполняемым функциям. Следует отличать многоклеточность и колониальность. У колониальных организмов отсутствуют настоящие дифференцированные клетки, а следовательно, и разделение тела на ткани. Граница между многоклеточностью и колониальностью нечёткая. Например'},\n  {'score': -0.6806158162653446,\n   'text': 'для многоклеточных характерен и более высокий уровень интеграции, чем для колониальных форм. Многоклеточные животные, возможно, появились на Земле 2,1 миллиарда лет назад, вскоре после кислородной революции .'},\n  {'score': -0.6861279308795929, 'text': 'сть. У колониальных организмов'},\n  {'score': -0.6863983571529388,\n   'text': 'м. Следует отличать многоклеточность и колониальность. У колониальных организмов отсутствуют настоящие дифференцированные клетки, а следовательно, и разделение тела на ткани.'},\n  {'score': -0.6924314834177494, 'text': 'после кислородной революции .'},\n  {'score': -0.6965485960245132,\n   'text': 'кроме стволовых, например, клеток камбия у растений) дифференцированы, то есть различаются по строению и выполняемым функциям. Следует отличать многоклеточность и колониальность. У колониальных организмов отсутствуют настоящие дифференцированные клетки, а следовательно, и разделение тела на ткани. Граница между многоклеточностью и колониальностью нечёткая. Например, вольвокс часто относят к колониальным организмам, хотя в его колониях есть чёткое деление клеток на генеративные и соматические'},\n  {'score': -0.703870564699173,\n   'text': '. У колониальных организмов отсутствуют настоящие дифференцированные клетки, а следовательно, и разделение тела на ткани.'},\n  {'score': -0.7153052389621735,\n   'text': 'м. Следует отличать многоклеточность и колониальность. У колониальных организмов'},\n  {'score': -0.7301464676856995, 'text': 'на Земле 2,1 миллиарда лет'},\n  {'score': -0.7327774465084076, 'text': '. У колониальных организмов'},\n  {'score': -0.7354715764522552,\n   'text': 'Например, вольвокс часто относят к колониальным организмам, хотя в его колониях есть чёткое деление клеток на генеративные и соматические.'},\n  {'score': -0.7392032146453857, 'text': 'форм. Многоклеточные животные'},\n  {'score': -0.7423160076141357,\n   'text': 'из многих клеток, большая часть которых (кроме стволовых, например, клеток камбия у растений) дифференцированы, то есть различаются по строению и выполняемым функциям. Следует отличать многоклеточность и колониальность. У колониальных организмов отсутствуют настоящие дифференцированные клетки, а следовательно, и разделение тела на ткани. Граница между многоклеточностью и колониальностью нечёткая. Например, вольвокс часто относят к колониальным организмам, хотя в его колониях есть чёткое деление клеток на генеративные и соматические.'},\n  {'score': -0.7442153096199036,\n   'text': '. Кроме дифференциации клеток, для многоклеточных характерен и более высокий уровень интеграции, чем для колониальных форм. Многоклеточные животные, возможно, появились на Земле 2,1 миллиарда лет'},\n  {'score': -0.7590866237878799,\n   'text': 'для многоклеточных характерен и более высокий уровень интеграции, чем для колониальных форм.'},\n  {'score': -0.7625647783279419,\n   'text': 'по строению и выполняемым функциям. Следует отличать многоклеточность и колониальность. У колониальных организмов отсутствуют настоящие дифференцированные клетки, а следовательно, и разделение тела на ткани.'},\n  {'score': -0.7873393446207047,\n   'text': 'многоклеточность и колониальность. У колониальных организмов отсутствуют настоящие дифференцированные клетки, а следовательно, и разделение тела на ткани'},\n  {'score': -0.7914716601371765,\n   'text': 'по строению и выполняемым функциям. Следует отличать многоклеточность и колониальность. У колониальных организмов'},\n  {'score': -0.801667332649231,\n   'text': 'из многих клеток, большая часть которых (кроме стволовых, например, клеток камбия у растений) дифференцированы, то есть различаются по строению и выполняемым функциям. Следует отличать многоклеточность и колониальность. У колониальных организмов отсутствуют настоящие дифференцированные клетки'},\n  {'score': -0.8020066320896149,\n   'text': 'для колониальных форм. Многоклеточные животные'},\n  {'score': -0.9148166924715042,\n   'text': 'кроме стволовых, например, клеток камбия у растений) дифференцированы, то есть различаются по строению и выполняемым функциям. Следует отличать многоклеточность и колониальность. У колониальных организмов отсутствуют настоящие дифференцированные клетки, а следовательно, и разделение тела на ткани'},\n  {'score': -0.9354147613048553,\n   'text': 'для многоклеточных характерен и более высокий уровень интеграции, чем для колониальных форм. Многоклеточные животные'},\n  {'score': -0.937063992023468,\n   'text': 'Граница между многоклеточностью и колониальностью нечёткая. Например'},\n  {'score': -0.9506986737251282,\n   'text': 'многоклеточность и колониальность. У колониальных организмов отсутствуют настоящие дифференцированные клетки, а следовательно, и разделение тела на ткани.'},\n  {'score': -0.9543321430683136,\n   'text': 'ческие. Кроме дифференциации клеток, для многоклеточных характерен и более высокий уровень интеграции, чем для колониальных форм'},\n  {'score': -0.9796055555343628,\n   'text': 'многоклеточность и колониальность. У колониальных организмов'},\n  {'score': -1.0090283155441284,\n   'text': 'Граница между многоклеточностью и колониальностью нечёткая. Например, вольвокс часто относят к колониальным организмам, хотя в его колониях есть чёткое деление клеток на генеративные и соматические.'},\n  {'score': -1.0369953513145447,\n   'text': 'ческие. Кроме дифференциации клеток, для многоклеточных характерен и более высокий уровень интеграции, чем для колониальных форм. Многоклеточные животные, возможно, появились на Земле 2,1 миллиарда лет назад, вскоре после кислородной революции'},\n  {'score': -1.0468541085720062,\n   'text': 'сть. У колониальных организмов отсутствуют настоящие дифференцированные клетки, а следовательно, и разделение тела на ткани. Граница между многоклеточностью и колониальностью нечёткая. Например'},\n  {'score': -1.0524884760379791, 'text': 'м.'},\n  {'score': -1.0660662986338139,\n   'text': 'ческие. Кроме дифференциации клеток, для многоклеточных характерен и более высокий уровень интеграции, чем для колониальных форм. Многоклеточные животные, возможно, появились на Земле 2,1 миллиарда лет назад, вскоре после кислородной революции .'},\n  {'score': -1.0760314166545868,\n   'text': 'м. Следует отличать многоклеточность и колониальность. У колониальных организмов отсутствуют настоящие дифференцированные клетки, а следовательно, и разделение тела на ткани. Граница между многоклеточностью и колониальностью нечёткая. Например'},\n  {'score': -1.0781760215759277,\n   'text': 'кроме стволовых, например, клеток камбия у растений) дифференцированы, то есть различаются по строению и выполняемым функциям. Следует отличать многоклеточность и колониальность. У колониальных организмов отсутствуют настоящие дифференцированные клетки, а следовательно, и разделение тела на ткани.'},\n  {'score': -1.0829598307609558, 'text': 'кая. Например'},\n  {'score': -1.091058075428009,\n   'text': 'кроме стволовых, например, клеток камбия у растений) дифференцированы'},\n  {'score': -1.093503624200821,\n   'text': '. У колониальных организмов отсутствуют настоящие дифференцированные клетки, а следовательно, и разделение тела на ткани. Граница между многоклеточностью и колониальностью нечёткая. Например'},\n  {'score': -1.1070829033851624,\n   'text': 'кроме стволовых, например, клеток камбия у растений) дифференцированы, то есть различаются по строению и выполняемым функциям. Следует отличать многоклеточность и колониальность. У колониальных организмов'},\n  {'score': -1.1188184320926666,\n   'text': 'сть. У колониальных организмов отсутствуют настоящие дифференцированные клетки, а следовательно, и разделение тела на ткани. Граница между многоклеточностью и колониальностью нечёткая. Например, вольвокс часто относят к колониальным организмам, хотя в его колониях есть чёткое деление клеток на генеративные и соматические.'},\n  {'score': -1.1286548972129822,\n   'text': 'по строению и выполняемым функциям.'},\n  {'score': -1.1445371061563492,\n   'text': 'ческие. Кроме дифференциации клеток, для многоклеточных характерен и более высокий уровень интеграции, чем для колониальных форм.'},\n  {'score': -1.1479957401752472,\n   'text': 'м. Следует отличать многоклеточность и колониальность. У колониальных организмов отсутствуют настоящие дифференцированные клетки, а следовательно, и разделение тела на ткани. Граница между многоклеточностью и колониальностью нечёткая. Например, вольвокс часто относят к колониальным организмам, хотя в его колониях есть чёткое деление клеток на генеративные и соматические.'},\n  {'score': -1.1521978378295898,\n   'text': 'по строению и выполняемым функциям. Следует отличать многоклеточность и колониальность. У колониальных организмов отсутствуют настоящие дифференцированные клетки, а следовательно, и разделение тела на ткани. Граница между многоклеточностью и колониальностью нечёткая. Например'},\n  {'score': -1.1549241542816162,\n   'text': 'кая. Например, вольвокс часто относят к колониальным организмам, хотя в его колониях есть чёткое деление клеток на генеративные и соматические.'},\n  {'score': -1.1654679477214813,\n   'text': '. У колониальных организмов отсутствуют настоящие дифференцированные клетки, а следовательно, и разделение тела на ткани. Граница между многоклеточностью и колониальностью нечёткая. Например, вольвокс часто относят к колониальным организмам, хотя в его колониях есть чёткое деление клеток на генеративные и соматические.'},\n  {'score': -1.1781697571277618,\n   'text': 'сть. У колониальных организмов отсутствуют настоящие дифференцированные клетки'},\n  {'score': -1.2073470652103424,\n   'text': 'м. Следует отличать многоклеточность и колониальность. У колониальных организмов отсутствуют настоящие дифференцированные клетки'},\n  {'score': -1.2241621613502502,\n   'text': 'по строению и выполняемым функциям. Следует отличать многоклеточность и колониальность. У колониальных организмов отсутствуют настоящие дифференцированные клетки, а следовательно, и разделение тела на ткани. Граница между многоклеточностью и колониальностью нечёткая. Например, вольвокс часто относят к колониальным организмам, хотя в его колониях есть чёткое деление клеток на генеративные и соматические.'},\n  {'score': -1.2248192727565765,\n   'text': '. У колониальных организмов отсутствуют настоящие дифференцированные клетки'},\n  {'score': -1.2321104258298874, 'text': '1 миллиарда лет'},\n  {'score': -1.276089608669281,\n   'text': 'кроме стволовых, например, клеток камбия у растений'},\n  {'score': -1.2835134863853455,\n   'text': 'по строению и выполняемым функциям. Следует отличать многоклеточность и колониальность. У колониальных организмов отсутствуют настоящие дифференцированные клетки'},\n  {'score': -1.295816719532013, 'text': '2,1 миллиарда лет'},\n  {'score': -1.3208652436733246,\n   'text': 'ческие. Кроме дифференциации клеток, для многоклеточных характерен и более высокий уровень интеграции, чем для колониальных форм. Многоклеточные животные'},\n  {'score': -1.3403317332267761,\n   'text': 'многоклеточность и колониальность. У колониальных организмов отсутствуют настоящие дифференцированные клетки, а следовательно, и разделение тела на ткани. Граница между многоклеточностью и колониальностью нечёткая. Например'},\n  {'score': -1.4122960567474365,\n   'text': 'многоклеточность и колониальность. У колониальных организмов отсутствуют настоящие дифференцированные клетки, а следовательно, и разделение тела на ткани. Граница между многоклеточностью и колониальностью нечёткая. Например, вольвокс часто относят к колониальным организмам, хотя в его колониях есть чёткое деление клеток на генеративные и соматические.'},\n  {'score': -1.444266140460968,\n   'text': 'кроме стволовых, например, клеток камбия у растений) дифференцированы, то есть различаются по строению и выполняемым функциям.'},\n  {'score': -1.4592974185943604,\n   'text': 'для многоклеточных характерен и более высокий уровень интеграции'},\n  {'score': -1.4639802873134613,\n   'text': 'ческие. Кроме дифференциации клеток'},\n  {'score': -1.4678090810775757,\n   'text': 'кроме стволовых, например, клеток камбия у растений) дифференцированы, то есть различаются по строению и выполняемым функциям. Следует отличать многоклеточность и колониальность. У колониальных организмов отсутствуют настоящие дифференцированные клетки, а следовательно, и разделение тела на ткани. Граница между многоклеточностью и колониальностью нечёткая. Например'},\n  {'score': -1.4716473817825317,\n   'text': 'многоклеточность и колониальность. У колониальных организмов отсутствуют настоящие дифференцированные клетки'},\n  {'score': -1.4782653152942657,\n   'text': 'форм. Многоклеточные животные, возможно, появились на Земле 2,1 миллиарда лет'},\n  {'score': -1.5024467706680298,\n   'text': 'в его колониях есть чёткое деление клеток на генеративные и соматические.'},\n  {'score': -1.539773404598236,\n   'text': 'кроме стволовых, например, клеток камбия у растений) дифференцированы, то есть различаются по строению и выполняемым функциям. Следует отличать многоклеточность и колониальность. У колониальных организмов отсутствуют настоящие дифференцированные клетки, а следовательно, и разделение тела на ткани. Граница между многоклеточностью и колониальностью нечёткая. Например, вольвокс часто относят к колониальным организмам, хотя в его колониях есть чёткое деление клеток на генеративные и соматические.'},\n  {'score': -1.5410687327384949,\n   'text': 'для колониальных форм. Многоклеточные животные, возможно, появились на Земле 2,1 миллиарда лет'},\n  {'score': -1.5874406099319458, 'text': 'для многоклеточных характерен'},\n  {'score': -1.5991247296333313,\n   'text': 'кроме стволовых, например, клеток камбия у растений) дифференцированы, то есть различаются по строению и выполняемым функциям. Следует отличать многоклеточность и колониальность. У колониальных организмов отсутствуют настоящие дифференцированные клетки'},\n  {'score': -1.6744768619537354,\n   'text': 'для многоклеточных характерен и более высокий уровень интеграции, чем для колониальных форм. Многоклеточные животные, возможно, появились на Земле 2,1 миллиарда лет'},\n  {'score': -1.8447479009628296,\n   'text': 'ческие. Кроме дифференциации клеток, для многоклеточных характерен и более высокий уровень интеграции'},\n  {'score': -1.972891092300415,\n   'text': 'ческие. Кроме дифференциации клеток, для многоклеточных характерен'},\n  {'score': -2.0599273443222046,\n   'text': 'ческие. Кроме дифференциации клеток, для многоклеточных характерен и более высокий уровень интеграции, чем для колониальных форм. Многоклеточные животные, возможно, появились на Земле 2,1 миллиарда лет'}],\n [{'score': 6.293945789337158, 'text': 'со'},\n  {'score': 2.3413610458374023, 'text': 'соматические'},\n  {'score': 2.31712007522583, 'text': 'соматические.'},\n  {'score': 1.9638392925262451,\n   'text': 'Многоклеточный организм — внесистематическая категория живых организмов, тело которых состоит из многих клеток, большая часть которых (кроме стволовых, например, клеток камбия у растений) дифференцированы, то есть различаются по строению и выполняемым функциям'},\n  {'score': 1.9336025714874268,\n   'text': 'Многоклеточный организм — внесистематическая категория живых организмов, тело которых состоит из многих клеток, большая часть которых (кроме стволовых, например, клеток камбия у растений) дифференцированы, то есть различаются по строению и выполняемым функциям. Следует отличать многоклеточность и колониальность. У колониальных организмов отсутствуют настоящие дифференцированные клетки, а следовательно, и разделение тела на ткани. Граница между многоклеточностью и колониальностью нечёткая'},\n  {'score': 1.6026014983654022,\n   'text': 'внесистематическая категория живых организмов, тело которых состоит из многих клеток, большая часть которых (кроме стволовых, например, клеток камбия у растений) дифференцированы, то есть различаются по строению и выполняемым функциям'},\n  {'score': 1.5768799185752869, 'text': '.'},\n  {'score': 1.5723647773265839,\n   'text': 'внесистематическая категория живых организмов, тело которых состоит из многих клеток, большая часть которых (кроме стволовых, например, клеток камбия у растений) дифференцированы, то есть различаются по строению и выполняемым функциям. Следует отличать многоклеточность и колониальность. У колониальных организмов отсутствуют настоящие дифференцированные клетки, а следовательно, и разделение тела на ткани. Граница между многоклеточностью и колониальностью нечёткая'},\n  {'score': 1.514048010110855,\n   'text': 'соматические. Кроме дифференциации клеток, для многоклеточных характерен и более высокий уровень интеграции, чем для колониальных форм. Многоклеточные животные, возможно, появились на Земле 2,1 миллиарда лет назад'},\n  {'score': 1.457804650068283,\n   'text': 'соматические. Кроме дифференциации клеток, для многоклеточных характерен и более высокий уровень интеграции, чем для колониальных форм. Многоклеточные животные, возможно, появились на Земле 2,1 миллиарда лет назад, вскоре после кислородной революции .'},\n  {'score': 1.416763722896576,\n   'text': 'У колониальных организмов отсутствуют настоящие дифференцированные клетки, а следовательно, и разделение тела на ткани. Граница между многоклеточностью и колониальностью нечёткая'},\n  {'score': 1.415458470582962,\n   'text': 'кани. Граница между многоклеточностью и колониальностью нечёткая'},\n  {'score': 1.3433947563171387,\n   'text': 'Многоклеточный организм — внесистематическая категория живых организмов, тело которых состоит из многих клеток, большая часть которых (кроме стволовых, например, клеток камбия у растений) дифференцированы, то есть различаются по строению и выполняемым функциям. Следует отличать многоклеточность и колониальность'},\n  {'score': 1.2481217682361603,\n   'text': '. Многоклеточные животные, возможно, появились на Земле 2,1 миллиарда лет назад'},\n  {'score': 1.2425302565097809, 'text': 'кая'},\n  {'score': 1.1918784081935883,\n   'text': '. Многоклеточные животные, возможно, появились на Земле 2,1 миллиарда лет назад, вскоре после кислородной революции .'},\n  {'score': 1.1887551918625832,\n   'text': 'соматические. Кроме дифференциации клеток, для многоклеточных характерен и более высокий уровень интеграции, чем для колониальных форм. Многоклеточные животные, возможно, появились на Земле 2,1 миллиарда лет назад, вскоре после кислородной революции'},\n  {'score': 1.176171001046896,\n   'text': 'соматические. Кроме дифференциации клеток, для многоклеточных характерен и более высокий уровень интеграции, чем для колониальных форм'},\n  {'score': 1.0644067227840424,\n   'text': 'из многих клеток, большая часть которых (кроме стволовых, например, клеток камбия у растений) дифференцированы, то есть различаются по строению и выполняемым функциям'},\n  {'score': 1.034170001745224,\n   'text': 'из многих клеток, большая часть которых (кроме стволовых, например, клеток камбия у растений) дифференцированы, то есть различаются по строению и выполняемым функциям. Следует отличать многоклеточность и колониальность. У колониальных организмов отсутствуют настоящие дифференцированные клетки, а следовательно, и разделение тела на ткани. Граница между многоклеточностью и колониальностью нечёткая'},\n  {'score': 1.0246796905994415,\n   'text': 'Многоклеточный организм — внесистематическая категория живых организмов'},\n  {'score': 0.9821569621562958,\n   'text': 'внесистематическая категория живых организмов, тело которых состоит из многих клеток, большая часть которых (кроме стволовых, например, клеток камбия у растений) дифференцированы, то есть различаются по строению и выполняемым функциям. Следует отличать многоклеточность и колониальность'},\n  {'score': 0.9657632410526276,\n   'text': 'Многоклеточные животные, возможно, появились на Земле 2,1 миллиарда лет назад'},\n  {'score': 0.9258110672235489, 'text': 'ческие'},\n  {'score': 0.9228289499878883,\n   'text': '. Многоклеточные животные, возможно, появились на Земле 2,1 миллиарда лет назад, вскоре после кислородной революции'},\n  {'score': 0.9095198810100555,\n   'text': 'Многоклеточные животные, возможно, появились на Земле 2,1 миллиарда лет назад, вскоре после кислородной революции .'},\n  {'score': 0.9043155014514923, 'text': 'м'},\n  {'score': 0.9015700966119766, 'text': 'ческие.'},\n  {'score': 0.8830427527427673,\n   'text': 'соматические. Кроме дифференциации клеток'},\n  {'score': 0.874078780412674,\n   'text': 'м. Следует отличать многоклеточность и колониальность. У колониальных организмов отсутствуют настоящие дифференцированные клетки, а следовательно, и разделение тела на ткани. Граница между многоклеточностью и колониальностью нечёткая'},\n  {'score': 0.7978315949440002,\n   'text': 'соматические. Кроме дифференциации клеток, для многоклеточных характерен'},\n  {'score': 0.794003814458847,\n   'text': 'соматические. Кроме дифференциации клеток, для многоклеточных характерен и более высокий уровень интеграции, чем для колониальных форм.'},\n  {'score': 0.7738078534603119,\n   'text': '. Кроме дифференциации клеток, для многоклеточных характерен и более высокий уровень интеграции, чем для колониальных форм. Многоклеточные животные, возможно, появились на Земле 2,1 миллиарда лет назад'},\n  {'score': 0.7460132241249084,\n   'text': 'многоклеточность и колониальность. У колониальных организмов отсутствуют настоящие дифференцированные клетки, а следовательно, и разделение тела на ткани. Граница между многоклеточностью и колониальностью нечёткая'},\n  {'score': 0.7272299826145172,\n   'text': 'тело которых состоит из многих клеток, большая часть которых (кроме стволовых, например, клеток камбия у растений) дифференцированы, то есть различаются по строению и выполняемым функциям'},\n  {'score': 0.7210607938468456,\n   'text': 'Многоклеточный организм — внесистематическая категория живых организмов, тело которых состоит из многих клеток, большая часть которых (кроме стволовых, например, клеток камбия у растений) дифференцированы, то есть различаются по строению и выполняемым функциям. Следует отличать многоклеточность и колониальность. У колониальных организмов'},\n  {'score': 0.7175644934177399,\n   'text': '. Кроме дифференциации клеток, для многоклеточных характерен и более высокий уровень интеграции, чем для колониальных форм. Многоклеточные животные, возможно, появились на Земле 2,1 миллиарда лет назад, вскоре после кислородной революции .'},\n  {'score': 0.7150627970695496,\n   'text': 'Многоклеточный организм — внесистематическая категория живых организмов, тело которых состоит из многих клеток, большая часть которых (кроме стволовых, например, клеток камбия у растений) дифференцированы, то есть различаются по строению и выполняемым функциям. Следует отличать многоклеточность и колониальность. У колониальных организмов отсутствуют настоящие дифференцированные клетки, а следовательно, и разделение тела на ткани. Граница между многоклеточностью и колониальностью нечёткая. Например, вольвокс часто относят к колониальным организмам'},\n  {'score': 0.7110160291194916,\n   'text': 'Граница между многоклеточностью и колониальностью нечёткая'},\n  {'score': 0.6969932615756989,\n   'text': 'тело которых состоит из многих клеток, большая часть которых (кроме стволовых, например, клеток камбия у растений) дифференцированы, то есть различаются по строению и выполняемым функциям. Следует отличать многоклеточность и колониальность. У колониальных организмов отсутствуют настоящие дифференцированные клетки, а следовательно, и разделение тела на ткани. Граница между многоклеточностью и колониальностью нечёткая'},\n  {'score': 0.6756113171577454,\n   'text': 'соматические. Кроме дифференциации клеток, для многоклеточных характерен и более высокий уровень интеграции, чем для колониальных форм. Многоклеточные животные'},\n  {'score': 0.6745705604553223,\n   'text': 'Кроме дифференциации клеток, для многоклеточных характерен и более высокий уровень интеграции, чем для колониальных форм. Многоклеточные животные, возможно, появились на Земле 2,1 миллиарда лет назад'},\n  {'score': 0.6634418964385986,\n   'text': 'внесистематическая категория живых организмов'},\n  {'score': 0.6404704228043556,\n   'text': 'Многоклеточные животные, возможно, появились на Земле 2,1 миллиарда лет назад, вскоре после кислородной революции'},\n  {'score': 0.6183272004127502,\n   'text': 'Кроме дифференциации клеток, для многоклеточных характерен и более высокий уровень интеграции, чем для колониальных форм. Многоклеточные животные, возможно, появились на Земле 2,1 миллиарда лет назад, вскоре после кислородной революции .'},\n  {'score': 0.6108523905277252, 'text': 'Многоклеточный организм'},\n  {'score': 0.5790134072303772, 'text': 'по строению и выполняемым функциям'},\n  {'score': 0.567924365401268,\n   'text': 'Многоклеточный организм — внесистематическая категория живых организмов, тело которых состоит из многих клеток'},\n  {'score': 0.5487766861915588,\n   'text': 'по строению и выполняемым функциям. Следует отличать многоклеточность и колониальность. У колониальных организмов отсутствуют настоящие дифференцированные клетки, а следовательно, и разделение тела на ткани. Граница между многоклеточностью и колониальностью нечёткая'},\n  {'score': 0.5307542830705643,\n   'text': 'Многоклеточный организм — внесистематическая категория живых организмов, тело которых состоит из многих клеток, большая часть которых (кроме стволовых, например, клеток камбия у растений) дифференцированы, то есть различаются по строению и выполняемым функциям. Следует отличать многоклеточность и колониальность. У колониальных организмов отсутствуют настоящие дифференцированные клетки, а следовательно, и разделение тела на ткани'},\n  {'score': 0.5280775725841522, 'text': '.'},\n  {'score': 0.5222572684288025, 'text': 'на Земле 2,1 миллиарда лет назад'},\n  {'score': 0.5096046626567841,\n   'text': 'Многоклеточный организм — внесистематическая категория живых организмов, тело которых состоит из многих клеток, большая часть которых (кроме стволовых, например, клеток камбия у растений) дифференцированы, то есть различаются по строению и выполняемым функциям. Следует отличать многоклеточность и колониальность. У колониальных организмов отсутствуют настоящие дифференцированные клетки'},\n  {'score': 0.4992373585700989,\n   'text': 'сть. У колониальных организмов отсутствуют настоящие дифференцированные клетки, а следовательно, и разделение тела на ткани. Граница между многоклеточностью и колониальностью нечёткая'},\n  {'score': 0.46601390838623047,\n   'text': 'на Земле 2,1 миллиарда лет назад, вскоре после кислородной революции .'},\n  {'score': 0.4510074555873871,\n   'text': 'Многоклеточный организм — внесистематическая категория живых организмов, тело которых состоит из многих клеток, большая часть которых (кроме стволовых, например, клеток камбия у растений) дифференцированы, то есть различаются по строению и выполняемым функциям. Следует отличать многоклеточность и колониальность. У колониальных организмов отсутствуют настоящие дифференцированные клетки, а следовательно, и разделение тела на ткани. Граница между многоклеточностью и колониальностью нечёткая. Например, вольвокс часто относят к колониальным организмам, хотя в его колониях есть чёткое деление клеток на генеративные и соматические'},\n  {'score': 0.44851503521203995,\n   'text': '. Кроме дифференциации клеток, для многоклеточных характерен и более высокий уровень интеграции, чем для колониальных форм. Многоклеточные животные, возможно, появились на Земле 2,1 миллиарда лет назад, вскоре после кислородной революции'},\n  {'score': 0.4439621865749359,\n   'text': 'из многих клеток, большая часть которых (кроме стволовых, например, клеток камбия у растений) дифференцированы, то есть различаются по строению и выполняемым функциям. Следует отличать многоклеточность и колониальность'},\n  {'score': 0.43593084439635277,\n   'text': '. Кроме дифференциации клеток, для многоклеточных характерен и более высокий уровень интеграции, чем для колониальных форм'},\n  {'score': 0.42782753705978394,\n   'text': 'отличать многоклеточность и колониальность. У колониальных организмов отсутствуют настоящие дифференцированные клетки, а следовательно, и разделение тела на ткани. Граница между многоклеточностью и колониальностью нечёткая'},\n  {'score': 0.40968507528305054, 'text': '. Многоклеточные животные'},\n  {'score': 0.36072301864624023,\n   'text': '. У колониальных организмов отсутствуют настоящие дифференцированные клетки, а следовательно, и разделение тела на ткани. Граница между многоклеточностью и колониальностью нечёткая'},\n  {'score': 0.35982299968600273,\n   'text': 'внесистематическая категория живых организмов, тело которых состоит из многих клеток, большая часть которых (кроме стволовых, например, клеток камбия у растений) дифференцированы, то есть различаются по строению и выполняемым функциям. Следует отличать многоклеточность и колониальность. У колониальных организмов'},\n  {'score': 0.35382500290870667,\n   'text': 'внесистематическая категория живых организмов, тело которых состоит из многих клеток, большая часть которых (кроме стволовых, например, клеток камбия у растений) дифференцированы, то есть различаются по строению и выполняемым функциям. Следует отличать многоклеточность и колониальность. У колониальных организмов отсутствуют настоящие дифференцированные клетки, а следовательно, и разделение тела на ткани. Граница между многоклеточностью и колониальностью нечёткая. Например, вольвокс часто относят к колониальным организмам'},\n  {'score': 0.35169902443885803,\n   'text': 'Многоклеточный организм — внесистематическая категория живых организмов, тело которых состоит из многих клеток, большая часть которых (кроме стволовых, например, клеток камбия у растений) дифференцированы'},\n  {'score': 0.3492777422070503,\n   'text': 'Кроме дифференциации клеток, для многоклеточных характерен и более высокий уровень интеграции, чем для колониальных форм. Многоклеточные животные, возможно, появились на Земле 2,1 миллиарда лет назад, вскоре после кислородной революции'},\n  {'score': 0.33669355139136314,\n   'text': 'Кроме дифференциации клеток, для многоклеточных характерен и более высокий уровень интеграции, чем для колониальных форм'},\n  {'score': 0.3092721998691559,\n   'text': 'Многоклеточный организм — внесистематическая категория живых организмов, тело которых состоит из многих клеток, большая часть которых (кроме стволовых, например, клеток камбия у растений) дифференцированы, то есть различаются по строению и выполняемым функциям. Следует отличать многоклеточность и колониальность. У колониальных организмов отсутствуют настоящие дифференцированные клетки, а следовательно, и разделение тела на ткани.'},\n  {'score': 0.2894573509693146, 'text': '2,1 миллиарда лет назад'},\n  {'score': 0.28387096524238586,\n   'text': 'м. Следует отличать многоклеточность и колониальность'},\n  {'score': 0.26921629905700684,\n   'text': 'Многоклеточный организм — внесистематическая категория живых организмов, тело которых состоит из многих клеток, большая часть которых (кроме стволовых, например, клеток камбия у растений'},\n  {'score': 0.2593727111816406,\n   'text': 'соматические. Кроме дифференциации клеток, для многоклеточных характерен и более высокий уровень интеграции'},\n  {'score': 0.23321399092674255,\n   'text': '2,1 миллиарда лет назад, вскоре после кислородной революции .'},\n  {'score': 0.2318347841501236, 'text': '1 миллиарда лет назад'},\n  {'score': 0.2066865712404251,\n   'text': 'внесистематическая категория живых организмов, тело которых состоит из многих клеток'},\n  {'score': 0.2042219452559948, 'text': 'У колониальных организмов'},\n  {'score': 0.2030896246433258,\n   'text': 'Например, вольвокс часто относят к колониальным организмам'},\n  {'score': 0.19822394847869873,\n   'text': 'У колониальных организмов отсутствуют настоящие дифференцированные клетки, а следовательно, и разделение тела на ткани. Граница между многоклеточностью и колониальностью нечёткая. Например, вольвокс часто относят к колониальным организмам'},\n  {'score': 0.19696445018053055,\n   'text': 'на Земле 2,1 миллиарда лет назад, вскоре после кислородной революции'},\n  {'score': 0.19691869616508484,\n   'text': 'кани. Граница между многоклеточностью и колониальностью нечёткая. Например, вольвокс часто относят к колониальным организмам'},\n  {'score': 0.17559142410755157,\n   'text': '1 миллиарда лет назад, вскоре после кислородной революции .'},\n  {'score': 0.16951648890972137,\n   'text': 'внесистематическая категория живых организмов, тело которых состоит из многих клеток, большая часть которых (кроме стволовых, например, клеток камбия у растений) дифференцированы, то есть различаются по строению и выполняемым функциям. Следует отличать многоклеточность и колониальность. У колониальных организмов отсутствуют настоящие дифференцированные клетки, а следовательно, и разделение тела на ткани'},\n  {'score': 0.15580540895462036, 'text': 'многоклеточность и колониальность'},\n  {'score': 0.14836686849594116,\n   'text': 'внесистематическая категория живых организмов, тело которых состоит из многих клеток, большая часть которых (кроме стволовых, например, клеток камбия у растений) дифференцированы, то есть различаются по строению и выполняемым функциям. Следует отличать многоклеточность и колониальность. У колониальных организмов отсутствуют настоящие дифференцированные клетки'},\n  {'score': 0.14280259609222412, 'text': '. Кроме дифференциации клеток'},\n  {'score': 0.12765055894851685,\n   'text': 'Многоклеточный организм — внесистематическая категория живых организмов, тело которых состоит из многих клеток, большая часть которых (кроме стволовых, например, клеток камбия у растений) дифференцированы, то есть различаются по строению и выполняемым функциям. Следует отличать многоклеточность и колониальность. У колониальных организмов отсутствуют настоящие дифференцированные клетки, а следовательно, и разделение тела на ткани. Граница между многоклеточностью и колониальностью нечёткая. Например, вольвокс часто относят к колониальным организмам, хотя в его колониях есть чёткое деление клеток на генеративные и соматические. Кроме дифференциации клеток, для многоклеточных характерен и более высокий уровень интеграции, чем для колониальных форм.'},\n  {'score': 0.12732654809951782, 'text': 'Многоклеточные животные'},\n  {'score': 0.10678544640541077,\n   'text': 'тело которых состоит из многих клеток, большая часть которых (кроме стволовых, например, клеток камбия у растений) дифференцированы, то есть различаются по строению и выполняемым функциям. Следует отличать многоклеточность и колониальность'},\n  {'score': 0.09849803149700165,\n   'text': 'ческие. Кроме дифференциации клеток, для многоклеточных характерен и более высокий уровень интеграции, чем для колониальных форм. Многоклеточные животные, возможно, появились на Земле 2,1 миллиарда лет назад'},\n  {'score': 0.08976966142654419,\n   'text': 'внесистематическая категория живых организмов, тело которых состоит из многих клеток, большая часть которых (кроме стволовых, например, клеток камбия у растений) дифференцированы, то есть различаются по строению и выполняемым функциям. Следует отличать многоклеточность и колониальность. У колониальных организмов отсутствуют настоящие дифференцированные клетки, а следовательно, и разделение тела на ткани. Граница между многоклеточностью и колониальностью нечёткая. Например, вольвокс часто относят к колониальным организмам, хотя в его колониях есть чёткое деление клеток на генеративные и соматические'},\n  {'score': 0.05759143829345703,\n   'text': '. Кроме дифференциации клеток, для многоклеточных характерен'},\n  {'score': 0.05376365780830383,\n   'text': '. Кроме дифференциации клеток, для многоклеточных характерен и более высокий уровень интеграции, чем для колониальных форм.'},\n  {'score': 0.0435653030872345, 'text': 'Кроме дифференциации клеток'},\n  {'score': 0.042254671454429626,\n   'text': 'ческие. Кроме дифференциации клеток, для многоклеточных характерен и более высокий уровень интеграции, чем для колониальных форм. Многоклеточные животные, возможно, появились на Земле 2,1 миллиарда лет назад, вскоре после кислородной революции .'},\n  {'score': 0.023990482091903687,\n   'text': 'кая. Например, вольвокс часто относят к колониальным организмам'},\n  {'score': 0.01391543447971344,\n   'text': 'У колониальных организмов отсутствуют настоящие дифференцированные клетки, а следовательно, и разделение тела на ткани'},\n  {'score': 0.012610182166099548, 'text': 'кани'},\n  {'score': -0.0072341859340667725,\n   'text': 'У колониальных организмов отсутствуют настоящие дифференцированные клетки'},\n  {'score': -0.009538769721984863,\n   'text': 'внесистематическая категория живых организмов, тело которых состоит из многих клеток, большая часть которых (кроме стволовых, например, клеток камбия у растений) дифференцированы'},\n  {'score': -0.018021881580352783,\n   'text': 'Многоклеточный организм — внесистематическая категория живых организмов, тело которых состоит из многих клеток, большая часть которых (кроме стволовых, например, клеток камбия у растений) дифференцированы, то есть различаются по строению и выполняемым функциям.'},\n  {'score': -0.024182558059692383,\n   'text': 'соматические. Кроме дифференциации клеток, для многоклеточных характерен и более высокий уровень интеграции, чем для колониальных форм. Многоклеточные животные, возможно, появились на Земле 2,'},\n  {'score': -0.025853633880615234,\n   'text': 'соматические. Кроме дифференциации клеток,'},\n  {'score': -0.03583546727895737,\n   'text': '2,1 миллиарда лет назад, вскоре после кислородной революции'},\n  {'score': -0.03784787654876709,\n   'text': 'Многоклеточный организм — внесистематическая категория живых организмов, тело которых состоит из многих клеток, большая часть которых (кроме стволовых, например, клеток камбия у растений) дифференцированы, то есть различаются по строению и выполняемым функциям. Следует отличать многоклеточность и колониальность. У колониальных организмов отсутствуют настоящие дифференцированные клетки, а следовательно, и разделение тела на ткани. Граница'},\n  {'score': -0.04143112897872925,\n   'text': 'по строению и выполняемым функциям. Следует отличать многоклеточность и колониальность'},\n  {'score': -0.04143804311752319,\n   'text': 'Многоклеточный организм — внесистематическая категория живых организмов, тело которых состоит из многих клеток, большая часть которых (кроме стволовых, например, клеток камбия у растений) дифференцированы, то есть различаются по строению и выполняемым функциям. Следует отличать многоклеточность и колониальность. У колониальных организмов отсутствуют настоящие дифференцированные клетки, а следовательно, и разделение тела на ткани. Граница между многоклеточностью и колониальностью нечёткая. Например'},\n  {'score': -0.04164585471153259,\n   'text': 'Кроме дифференциации клеток, для многоклеточных характерен'},\n  {'score': -0.04547363519668579,\n   'text': 'Кроме дифференциации клеток, для многоклеточных характерен и более высокий уровень интеграции, чем для колониальных форм.'},\n  {'score': -0.05196559429168701,\n   'text': 'внесистематическая категория живых организмов, тело которых состоит из многих клеток, большая часть которых (кроме стволовых, например, клеток камбия у растений) дифференцированы, то есть различаются по строению и выполняемым функциям. Следует отличать многоклеточность и колониальность. У колониальных организмов отсутствуют настоящие дифференцированные клетки, а следовательно, и разделение тела на ткани.'},\n  {'score': -0.05446910858154297,\n   'text': 'Многоклеточный организм — внесистематическая категория живых организмов, тело которых состоит из многих клеток, большая часть которых (кроме стволовых'},\n  {'score': -0.06096571683883667,\n   'text': 'Например, вольвокс часто относят к колониальным организмам, хотя в его колониях есть чёткое деление клеток на генеративные и соматические'},\n  {'score': -0.06462883949279785,\n   'text': '. Кроме дифференциации клеток, для многоклеточных характерен и более высокий уровень интеграции, чем для колониальных форм. Многоклеточные животные'},\n  {'score': -0.06583139300346375,\n   'text': 'У колониальных организмов отсутствуют настоящие дифференцированные клетки, а следовательно, и разделение тела на ткани. Граница между многоклеточностью и колониальностью нечёткая. Например, вольвокс часто относят к колониальным организмам, хотя в его колониях есть чёткое деление клеток на генеративные и соматические'},\n  {'score': -0.06713664531707764,\n   'text': 'кани. Граница между многоклеточностью и колониальностью нечёткая. Например, вольвокс часто относят к колониальным организмам, хотя в его колониях есть чёткое деление клеток на генеративные и соматические'},\n  {'score': -0.09097045660018921, 'text': 'сть'},\n  {'score': -0.09202149510383606,\n   'text': 'внесистематическая категория живых организмов, тело которых состоит из многих клеток, большая часть которых (кроме стволовых, например, клеток камбия у растений'},\n  {'score': -0.09345803409814835,\n   'text': '1 миллиарда лет назад, вскоре после кислородной революции'},\n  {'score': -0.16238027811050415,\n   'text': 'отличать многоклеточность и колониальность'},\n  {'score': -0.16386613249778748,\n   'text': 'Кроме дифференциации клеток, для многоклеточных характерен и более высокий уровень интеграции, чем для колониальных форм. Многоклеточные животные'},\n  {'score': -0.17654505372047424,\n   'text': 'для колониальных форм. Многоклеточные животные, возможно, появились на Земле 2,1 миллиарда лет назад'},\n  {'score': -0.17837177589535713,\n   'text': 'из многих клеток, большая часть которых (кроме стволовых, например, клеток камбия у растений) дифференцированы, то есть различаются по строению и выполняемым функциям. Следует отличать многоклеточность и колониальность. У колониальных организмов'},\n  {'score': -0.1843697726726532,\n   'text': 'из многих клеток, большая часть которых (кроме стволовых, например, клеток камбия у растений) дифференцированы, то есть различаются по строению и выполняемым функциям. Следует отличать многоклеточность и колониальность. У колониальных организмов отсутствуют настоящие дифференцированные клетки, а следовательно, и разделение тела на ткани. Граница между многоклеточностью и колониальностью нечёткая. Например, вольвокс часто относят к колониальным организмам'},\n  {'score': -0.20756664872169495,\n   'text': 'У колониальных организмов отсутствуют настоящие дифференцированные клетки, а следовательно, и разделение тела на ткани.'},\n  {'score': -0.20887190103530884, 'text': 'кани.'},\n  {'score': -0.2267947867512703,\n   'text': 'ческие. Кроме дифференциации клеток, для многоклеточных характерен и более высокий уровень интеграции, чем для колониальных форм. Многоклеточные животные, возможно, появились на Земле 2,1 миллиарда лет назад, вскоре после кислородной революции'},\n  {'score': -0.23278841376304626,\n   'text': 'для колониальных форм. Многоклеточные животные, возможно, появились на Земле 2,1 миллиарда лет назад, вскоре после кислородной революции .'},\n  {'score': -0.23358723521232605,\n   'text': 'внесистематическая категория живых организмов, тело которых состоит из многих клеток, большая часть которых (кроме стволовых, например, клеток камбия у растений) дифференцированы, то есть различаются по строению и выполняемым функциям. Следует отличать многоклеточность и колониальность. У колониальных организмов отсутствуют настоящие дифференцированные клетки, а следовательно, и разделение тела на ткани. Граница между многоклеточностью и колониальностью нечёткая. Например, вольвокс часто относят к колониальным организмам, хотя в его колониях есть чёткое деление клеток на генеративные и соматические. Кроме дифференциации клеток, для многоклеточных характерен и более высокий уровень интеграции, чем для колониальных форм.'},\n  {'score': -0.23937897756695747,\n   'text': 'ческие. Кроме дифференциации клеток, для многоклеточных характерен и более высокий уровень интеграции, чем для колониальных форм'},\n  {'score': -0.2400648593902588,\n   'text': 'кая. Например, вольвокс часто относят к колониальным организмам, хотя в его колониях есть чёткое деление клеток на генеративные и соматические'},\n  {'score': -0.2901087999343872,\n   'text': '. Многоклеточные животные, возможно, появились на Земле 2,'},\n  {'score': -0.3166498839855194,\n   'text': 'форм. Многоклеточные животные, возможно, появились на Земле 2,1 миллиарда лет назад'},\n  {'score': -0.33150820434093475, 'text': 'из многих клеток'},\n  {'score': -0.3384629972279072,\n   'text': 'м. Следует отличать многоклеточность и колониальность. У колониальных организмов'},\n  {'score': -0.34446099400520325,\n   'text': 'м. Следует отличать многоклеточность и колониальность. У колониальных организмов отсутствуют настоящие дифференцированные клетки, а следовательно, и разделение тела на ткани. Граница между многоклеточностью и колониальностью нечёткая. Например, вольвокс часто относят к колониальным организмам'},\n  {'score': -0.3686782866716385,\n   'text': 'из многих клеток, большая часть которых (кроме стволовых, например, клеток камбия у растений) дифференцированы, то есть различаются по строению и выполняемым функциям. Следует отличать многоклеточность и колониальность. У колониальных организмов отсутствуют настоящие дифференцированные клетки, а следовательно, и разделение тела на ткани'},\n  {'score': -0.37289324402809143,\n   'text': 'форм. Многоклеточные животные, возможно, появились на Земле 2,1 миллиарда лет назад, вскоре после кислородной революции .'},\n  {'score': -0.3792596757411957,\n   'text': 'внесистематическая категория живых организмов, тело которых состоит из многих клеток, большая часть которых (кроме стволовых, например, клеток камбия у растений) дифференцированы, то есть различаются по строению и выполняемым функциям.'},\n  {'score': -0.3843226134777069,\n   'text': 'Например, вольвокс часто относят к колониальным организмам, хотя в его колониях есть чёткое деление клеток на генеративные и соматические. Кроме дифференциации клеток, для многоклеточных характерен и более высокий уровень интеграции, чем для колониальных форм.'},\n  {'score': -0.389188289642334,\n   'text': 'У колониальных организмов отсутствуют настоящие дифференцированные клетки, а следовательно, и разделение тела на ткани. Граница между многоклеточностью и колониальностью нечёткая. Например, вольвокс часто относят к колониальным организмам, хотя в его колониях есть чёткое деление клеток на генеративные и соматические. Кроме дифференциации клеток, для многоклеточных характерен и более высокий уровень интеграции, чем для колониальных форм.'},\n  {'score': -0.3898279070854187,\n   'text': 'из многих клеток, большая часть которых (кроме стволовых, например, клеток камбия у растений) дифференцированы, то есть различаются по строению и выполняемым функциям. Следует отличать многоклеточность и колониальность. У колониальных организмов отсутствуют настоящие дифференцированные клетки'},\n  {'score': -0.3904935419559479,\n   'text': 'кани. Граница между многоклеточностью и колониальностью нечёткая. Например, вольвокс часто относят к колониальным организмам, хотя в его колониях есть чёткое деление клеток на генеративные и соматические. Кроме дифференциации клеток, для многоклеточных характерен и более высокий уровень интеграции, чем для колониальных форм.'},\n  {'score': -0.39908567070961,\n   'text': 'внесистематическая категория живых организмов, тело которых состоит из многих клеток, большая часть которых (кроме стволовых, например, клеток камбия у растений) дифференцированы, то есть различаются по строению и выполняемым функциям. Следует отличать многоклеточность и колониальность. У колониальных организмов отсутствуют настоящие дифференцированные клетки, а следовательно, и разделение тела на ткани. Граница'},\n  {'score': -0.4026758372783661,\n   'text': 'внесистематическая категория живых организмов, тело которых состоит из многих клеток, большая часть которых (кроме стволовых, например, клеток камбия у растений) дифференцированы, то есть различаются по строению и выполняемым функциям. Следует отличать многоклеточность и колониальность. У колониальных организмов отсутствуют настоящие дифференцированные клетки, а следовательно, и разделение тела на ткани. Граница между многоклеточностью и колониальностью нечёткая. Например'},\n  {'score': -0.41570690274238586,\n   'text': 'внесистематическая категория живых организмов, тело которых состоит из многих клеток, большая часть которых (кроме стволовых'},\n  {'score': -0.4484251141548157,\n   'text': 'из многих клеток, большая часть которых (кроме стволовых, например, клеток камбия у растений) дифференцированы, то есть различаются по строению и выполняемым функциям. Следует отличать многоклеточность и колониальность. У колониальных организмов отсутствуют настоящие дифференцированные клетки, а следовательно, и разделение тела на ткани. Граница между многоклеточностью и колониальностью нечёткая. Например, вольвокс часто относят к колониальным организмам, хотя в его колониях есть чёткое деление клеток на генеративные и соматические'},\n  {'score': -0.45545026659965515,\n   'text': 'для многоклеточных характерен и более высокий уровень интеграции, чем для колониальных форм. Многоклеточные животные, возможно, появились на Земле 2,1 миллиарда лет назад'},\n  {'score': -0.4665285535156727,\n   'text': 'многоклеточность и колониальность. У колониальных организмов'},\n  {'score': -0.47252655029296875,\n   'text': 'многоклеточность и колониальность. У колониальных организмов отсутствуют настоящие дифференцированные клетки, а следовательно, и разделение тела на ткани. Граница между многоклеточностью и колониальностью нечёткая. Например, вольвокс часто относят к колониальным организмам'},\n  {'score': -0.4808674454689026,\n   'text': '. Кроме дифференциации клеток, для многоклеточных характерен и более высокий уровень интеграции'},\n  {'score': -0.4935794174671173, 'text': '.'},\n  {'score': -0.5018378719687462,\n   'text': 'для колониальных форм. Многоклеточные животные, возможно, появились на Земле 2,1 миллиарда лет назад, вскоре после кислородной революции'},\n  {'score': -0.5075237452983856,\n   'text': 'Граница между многоклеточностью и колониальностью нечёткая. Например, вольвокс часто относят к колониальным организмам'},\n  {'score': -0.5116936266422272,\n   'text': 'для многоклеточных характерен и более высокий уровень интеграции, чем для колониальных форм. Многоклеточные животные, возможно, появились на Земле 2,1 миллиарда лет назад, вскоре после кислородной революции .'},\n  {'score': -0.5144220627844334, 'text': 'для колониальных форм'},\n  {'score': -0.5155485160648823,\n   'text': 'тело которых состоит из многих клеток, большая часть которых (кроме стволовых, например, клеток камбия у растений) дифференцированы, то есть различаются по строению и выполняемым функциям. Следует отличать многоклеточность и колониальность. У колониальных организмов'},\n  {'score': -0.5215465128421783,\n   'text': 'тело которых состоит из многих клеток, большая часть которых (кроме стволовых, например, клеток камбия у растений) дифференцированы, то есть различаются по строению и выполняемым функциям. Следует отличать многоклеточность и колониальность. У колониальных организмов отсутствуют настоящие дифференцированные клетки, а следовательно, и разделение тела на ткани. Граница между многоклеточностью и колониальностью нечёткая. Например, вольвокс часто относят к колониальным организмам'},\n  {'score': -0.5287695080041885,\n   'text': 'м. Следует отличать многоклеточность и колониальность. У колониальных организмов отсутствуют настоящие дифференцированные клетки, а следовательно, и разделение тела на ткани'},\n  {'score': -0.5325072258710861,\n   'text': 'ческие. Кроме дифференциации клеток'},\n  {'score': -0.5477335453033447,\n   'text': 'из многих клеток, большая часть которых (кроме стволовых, например, клеток камбия у растений) дифференцированы'},\n  {'score': -0.5499191284179688,\n   'text': 'м. Следует отличать многоклеточность и колониальность. У колониальных организмов отсутствуют настоящие дифференцированные клетки'},\n  {'score': -0.553411215543747, 'text': 'Например'},\n  {'score': -0.5546867251396179,\n   'text': 'У колониальных организмов отсутствуют настоящие дифференцированные клетки, а следовательно, и разделение тела на ткани. Граница'},\n  {'score': -0.5559919774532318, 'text': 'кани. Граница'},\n  {'score': -0.558276891708374,\n   'text': 'У колониальных организмов отсутствуют настоящие дифференцированные клетки, а следовательно, и разделение тела на ткани. Граница между многоклеточностью и колониальностью нечёткая. Например'},\n  {'score': -0.5595821440219879,\n   'text': 'кани. Граница между многоклеточностью и колониальностью нечёткая. Например'},\n  {'score': -0.563421756029129,\n   'text': 'кая. Например, вольвокс часто относят к колониальным организмам, хотя в его колониях есть чёткое деление клеток на генеративные и соматические. Кроме дифференциации клеток, для многоклеточных характерен и более высокий уровень интеграции, чем для колониальных форм.'},\n  {'score': -0.5724673271179199,\n   'text': 'Многоклеточные животные, возможно, появились на Земле 2,'},\n  {'score': -0.5751810073852539, 'text': 'к колониальным организмам'},\n  {'score': -0.5801047384738922,\n   'text': 'Кроме дифференциации клеток, для многоклеточных характерен и более высокий уровень интеграции'},\n  {'score': -0.5901603698730469,\n   'text': 'из многих клеток, большая часть которых (кроме стволовых, например, клеток камбия у растений) дифференцированы, то есть различаются по строению и выполняемым функциям. Следует отличать многоклеточность и колониальность. У колониальных организмов отсутствуют настоящие дифференцированные клетки, а следовательно, и разделение тела на ткани.'},\n  {'score': -0.6085163354873657,\n   'text': 'м. Следует отличать многоклеточность и колониальность. У колониальных организмов отсутствуют настоящие дифференцированные клетки, а следовательно, и разделение тела на ткани. Граница между многоклеточностью и колониальностью нечёткая. Например, вольвокс часто относят к колониальным организмам, хотя в его колониях есть чёткое деление клеток на генеративные и соматические'},\n  {'score': -0.6177183836698532,\n   'text': 'ческие. Кроме дифференциации клеток, для многоклеточных характерен'},\n  {'score': -0.6215461641550064,\n   'text': 'ческие. Кроме дифференциации клеток, для многоклеточных характерен и более высокий уровень интеграции, чем для колониальных форм.'},\n  {'score': -0.6302162706851959,\n   'text': 'из многих клеток, большая часть которых (кроме стволовых, например, клеток камбия у растений'},\n  {'score': -0.6419427022337914,\n   'text': 'форм. Многоклеточные животные, возможно, появились на Земле 2,1 миллиарда лет назад, вскоре после кислородной революции'},\n  {'score': -0.6545268930494785, 'text': 'форм'},\n  {'score': -0.656835064291954,\n   'text': 'многоклеточность и колониальность. У колониальных организмов отсутствуют настоящие дифференцированные клетки, а следовательно, и разделение тела на ткани'},\n  {'score': -0.6637650914490223,\n   'text': 'по строению и выполняемым функциям. Следует отличать многоклеточность и колониальность. У колониальных организмов'},\n  {'score': -0.6686849445104599,\n   'text': 'тело которых состоит из многих клеток'},\n  {'score': -0.6697630882263184,\n   'text': 'по строению и выполняемым функциям. Следует отличать многоклеточность и колониальность. У колониальных организмов отсутствуют настоящие дифференцированные клетки, а следовательно, и разделение тела на ткани. Граница между многоклеточностью и колониальностью нечёткая. Например, вольвокс часто относят к колониальным организмам'},\n  {'score': -0.6779846847057343,\n   'text': 'многоклеточность и колониальность. У колониальных организмов отсутствуют настоящие дифференцированные клетки'},\n  {'score': -0.7058550268411636,\n   'text': 'тело которых состоит из многих клеток, большая часть которых (кроме стволовых, например, клеток камбия у растений) дифференцированы, то есть различаются по строению и выполняемым функциям. Следует отличать многоклеточность и колониальность. У колониальных организмов отсутствуют настоящие дифференцированные клетки, а следовательно, и разделение тела на ткани'},\n  {'score': -0.7133044190704823, 'text': 'сть. У колониальных организмов'},\n  {'score': -0.7193024158477783,\n   'text': 'сть. У колониальных организмов отсутствуют настоящие дифференцированные клетки, а следовательно, и разделение тела на ткани. Граница между многоклеточностью и колониальностью нечёткая. Например, вольвокс часто относят к колониальным организмам'},\n  {'score': -0.7270046472549438,\n   'text': 'тело которых состоит из многих клеток, большая часть которых (кроме стволовых, например, клеток камбия у растений) дифференцированы, то есть различаются по строению и выполняемым функциям. Следует отличать многоклеточность и колониальность. У колониальных организмов отсутствуют настоящие дифференцированные клетки'},\n  {'score': -0.7325103580951691, 'text': 'кая. Например'},\n  {'score': -0.7365818917751312,\n   'text': 'многоклеточность и колониальность. У колониальных организмов отсутствуют настоящие дифференцированные клетки, а следовательно, и разделение тела на ткани. Граница между многоклеточностью и колониальностью нечёткая. Например, вольвокс часто относят к колониальным организмам, хотя в его колониях есть чёткое деление клеток на генеративные и соматические'},\n  {'score': -0.7399386614561081,\n   'text': 'ческие. Кроме дифференциации клеток, для многоклеточных характерен и более высокий уровень интеграции, чем для колониальных форм. Многоклеточные животные'},\n  {'score': -0.7502515912055969,\n   'text': 'м. Следует отличать многоклеточность и колониальность. У колониальных организмов отсутствуют настоящие дифференцированные клетки, а следовательно, и разделение тела на ткани.'},\n  {'score': -0.7644227147102356,\n   'text': '. Кроме дифференциации клеток, для многоклеточных характерен и более высокий уровень интеграции, чем для колониальных форм. Многоклеточные животные, возможно, появились на Земле 2,'},\n  {'score': -0.7660937905311584, 'text': '. Кроме дифференциации клеток,'},\n  {'score': -0.7699277698993683, 'text': 'после кислородной революции .'},\n  {'score': -0.7715790867805481,\n   'text': 'Граница между многоклеточностью и колониальностью нечёткая. Например, вольвокс часто относят к колониальным организмам, хотя в его колониях есть чёткое деление клеток на генеративные и соматические'},\n  {'score': -0.7717820107936859,\n   'text': 'из многих клеток, большая часть которых (кроме стволовых, например, клеток камбия у растений) дифференцированы, то есть различаются по строению и выполняемым функциям. Следует отличать многоклеточность и колониальность. У колониальных организмов отсутствуют настоящие дифференцированные клетки, а следовательно, и разделение тела на ткани. Граница между многоклеточностью и колониальностью нечёткая. Например, вольвокс часто относят к колониальным организмам, хотя в его колониях есть чёткое деление клеток на генеративные и соматические. Кроме дифференциации клеток, для многоклеточных характерен и более высокий уровень интеграции, чем для колониальных форм.'},\n  {'score': -0.7807430848479271,\n   'text': 'для многоклеточных характерен и более высокий уровень интеграции, чем для колониальных форм. Многоклеточные животные, возможно, появились на Земле 2,1 миллиарда лет назад, вскоре после кислородной революции'},\n  {'score': -0.7847142405807972,\n   'text': 'отличать многоклеточность и колониальность. У колониальных организмов'},\n  {'score': -0.7856018543243408,\n   'text': 'тело которых состоит из многих клеток, большая часть которых (кроме стволовых, например, клеток камбия у растений) дифференцированы, то есть различаются по строению и выполняемым функциям. Следует отличать многоклеточность и колониальность. У колониальных организмов отсутствуют настоящие дифференцированные клетки, а следовательно, и разделение тела на ткани. Граница между многоклеточностью и колониальностью нечёткая. Например, вольвокс часто относят к колониальным организмам, хотя в его колониях есть чёткое деление клеток на генеративные и соматические'},\n  {'score': -0.7907122373580933,\n   'text': 'отличать многоклеточность и колониальность. У колониальных организмов отсутствуют настоящие дифференцированные клетки, а следовательно, и разделение тела на ткани. Граница между многоклеточностью и колониальностью нечёткая. Например, вольвокс часто относят к колониальным организмам'},\n  {'score': -0.7933272756636143,\n   'text': 'для многоклеточных характерен и более высокий уровень интеграции, чем для колониальных форм'},\n  {'score': -0.8392363488674164,\n   'text': 'к колониальным организмам, хотя в его колониях есть чёткое деление клеток на генеративные и соматические'},\n  {'score': -0.8518187589943409, 'text': '. У колониальных организмов'},\n  {'score': -0.8540716022253036,\n   'text': 'по строению и выполняемым функциям. Следует отличать многоклеточность и колониальность. У колониальных организмов отсутствуют настоящие дифференцированные клетки, а следовательно, и разделение тела на ткани'},\n  {'score': -0.857816755771637,\n   'text': '. У колониальных организмов отсутствуют настоящие дифференцированные клетки, а следовательно, и разделение тела на ткани. Граница между многоклеточностью и колониальностью нечёткая. Например, вольвокс часто относят к колониальным организмам'},\n  {'score': -0.8636600077152252,\n   'text': 'Кроме дифференциации клеток, для многоклеточных характерен и более высокий уровень интеграции, чем для колониальных форм. Многоклеточные животные, возможно, появились на Земле 2,'},\n  {'score': -0.8653310835361481, 'text': 'Кроме дифференциации клеток,'},\n  {'score': -0.8752212226390839,\n   'text': 'по строению и выполняемым функциям. Следует отличать многоклеточность и колониальность. У колониальных организмов отсутствуют настоящие дифференцированные клетки'},\n  {'score': -0.8783171474933624,\n   'text': 'многоклеточность и колониальность. У колониальных организмов отсутствуют настоящие дифференцированные клетки, а следовательно, и разделение тела на ткани.'},\n  {'score': -0.8849102854728699,\n   'text': 'тело которых состоит из многих клеток, большая часть которых (кроме стволовых, например, клеток камбия у растений) дифференцированы'},\n  {'score': -0.8965892493724823, 'text': 'для колониальных форм.'},\n  {'score': -0.9036109298467636,\n   'text': 'сть. У колониальных организмов отсутствуют настоящие дифференцированные клетки, а следовательно, и разделение тела на ткани'},\n  {'score': -0.9174544513225555,\n   'text': 'из многих клеток, большая часть которых (кроме стволовых, например, клеток камбия у растений) дифференцированы, то есть различаются по строению и выполняемым функциям.'},\n  {'score': -0.9247605502605438,\n   'text': 'сть. У колониальных организмов отсутствуют настоящие дифференцированные клетки'},\n  {'score': -0.927337110042572,\n   'text': 'тело которых состоит из многих клеток, большая часть которых (кроме стволовых, например, клеток камбия у растений) дифференцированы, то есть различаются по строению и выполняемым функциям. Следует отличать многоклеточность и колониальность. У колониальных организмов отсутствуют настоящие дифференцированные клетки, а следовательно, и разделение тела на ткани.'},\n  {'score': -0.931873232126236,\n   'text': 'м. Следует отличать многоклеточность и колониальность. У колониальных организмов отсутствуют настоящие дифференцированные клетки, а следовательно, и разделение тела на ткани. Граница между многоклеточностью и колониальностью нечёткая. Например, вольвокс часто относят к колониальным организмам, хотя в его колониях есть чёткое деление клеток на генеративные и соматические. Кроме дифференциации клеток, для многоклеточных характерен и более высокий уровень интеграции, чем для колониальных форм.'},\n  {'score': -0.9338184297084808,\n   'text': 'по строению и выполняемым функциям. Следует отличать многоклеточность и колониальность. У колониальных организмов отсутствуют настоящие дифференцированные клетки, а следовательно, и разделение тела на ткани. Граница между многоклеточностью и колониальностью нечёткая. Например, вольвокс часто относят к колониальным организмам, хотя в его колониях есть чёткое деление клеток на генеративные и соматические'},\n  {'score': -0.9372804462909698,\n   'text': 'из многих клеток, большая часть которых (кроме стволовых, например, клеток камбия у растений) дифференцированы, то есть различаются по строению и выполняемым функциям. Следует отличать многоклеточность и колониальность. У колониальных организмов отсутствуют настоящие дифференцированные клетки, а следовательно, и разделение тела на ткани. Граница'},\n  {'score': -0.940870612859726,\n   'text': 'из многих клеток, большая часть которых (кроме стволовых, например, клеток камбия у растений) дифференцированы, то есть различаются по строению и выполняемым функциям. Следует отличать многоклеточность и колониальность. У колониальных организмов отсутствуют настоящие дифференцированные клетки, а следовательно, и разделение тела на ткани. Граница между многоклеточностью и колониальностью нечёткая. Например'},\n  {'score': -0.9539016783237457,\n   'text': 'из многих клеток, большая часть которых (кроме стволовых'},\n  {'score': -0.9673930108547211,\n   'text': 'тело которых состоит из многих клеток, большая часть которых (кроме стволовых, например, клеток камбия у растений'},\n  {'score': -0.9750207513570786,\n   'text': 'отличать многоклеточность и колониальность. У колониальных организмов отсутствуют настоящие дифференцированные клетки, а следовательно, и разделение тела на ткани'},\n  {'score': -0.9833577573299408,\n   'text': 'сть. У колониальных организмов отсутствуют настоящие дифференцированные клетки, а следовательно, и разделение тела на ткани. Граница между многоклеточностью и колониальностью нечёткая. Например, вольвокс часто относят к колониальным организмам, хотя в его колониях есть чёткое деление клеток на генеративные и соматические'},\n  {'score': -0.9961703717708588,\n   'text': 'отличать многоклеточность и колониальность. У колониальных организмов отсутствуют настоящие дифференцированные клетки'},\n  {'score': -1.014981746673584,\n   'text': 'для колониальных форм. Многоклеточные животные'},\n  {'score': -1.015973299741745, 'text': 'на Земле 2,'},\n  {'score': -1.0366940796375275, 'text': 'форм.'},\n  {'score': -1.0389772281050682, 'text': 'после кислородной революции'},\n  {'score': -1.0421252697706223,\n   'text': '. У колониальных организмов отсутствуют настоящие дифференцированные клетки, а следовательно, и разделение тела на ткани'},\n  {'score': -1.0547675788402557,\n   'text': 'отличать многоклеточность и колониальность. У колониальных организмов отсутствуют настоящие дифференцированные клетки, а следовательно, и разделение тела на ткани. Граница между многоклеточностью и колониальностью нечёткая. Например, вольвокс часто относят к колониальным организмам, хотя в его колониях есть чёткое деление клеток на генеративные и соматические'},\n  {'score': -1.0599387884140015,\n   'text': 'многоклеточность и колониальность. У колониальных организмов отсутствуют настоящие дифференцированные клетки, а следовательно, и разделение тела на ткани. Граница между многоклеточностью и колониальностью нечёткая. Например, вольвокс часто относят к колониальным организмам, хотя в его колониях есть чёткое деление клеток на генеративные и соматические. Кроме дифференциации клеток, для многоклеточных характерен и более высокий уровень интеграции, чем для колониальных форм.'},\n  {'score': -1.0632748901844025,\n   'text': '. У колониальных организмов отсутствуют настоящие дифференцированные клетки'},\n  {'score': -1.075553685426712,\n   'text': 'по строению и выполняемым функциям. Следует отличать многоклеточность и колониальность. У колониальных организмов отсутствуют настоящие дифференцированные клетки, а следовательно, и разделение тела на ткани.'},\n  {'score': -1.0775456726551056, 'text': 'м.'},\n  {'score': -1.0949359834194183,\n   'text': 'Граница между многоклеточностью и колониальностью нечёткая. Например, вольвокс часто относят к колониальным организмам, хотя в его колониях есть чёткое деление клеток на генеративные и соматические. Кроме дифференциации клеток, для многоклеточных характерен и более высокий уровень интеграции, чем для колониальных форм.'},\n  {'score': -1.09737166762352,\n   'text': 'м. Следует отличать многоклеточность и колониальность. У колониальных организмов отсутствуют настоящие дифференцированные клетки, а следовательно, и разделение тела на ткани. Граница'},\n  {'score': -1.100961834192276,\n   'text': 'м. Следует отличать многоклеточность и колониальность. У колониальных организмов отсутствуют настоящие дифференцированные клетки, а следовательно, и разделение тела на ткани. Граница между многоклеточностью и колониальностью нечёткая. Например'},\n  {'score': -1.108958750963211,\n   'text': 'тело которых состоит из многих клеток, большая часть которых (кроме стволовых, например, клеток камбия у растений) дифференцированы, то есть различаются по строению и выполняемым функциям. Следует отличать многоклеточность и колониальность. У колониальных организмов отсутствуют настоящие дифференцированные клетки, а следовательно, и разделение тела на ткани. Граница между многоклеточностью и колониальностью нечёткая. Например, вольвокс часто относят к колониальным организмам, хотя в его колониях есть чёткое деление клеток на генеративные и соматические. Кроме дифференциации клеток, для многоклеточных характерен и более высокий уровень интеграции, чем для колониальных форм.'},\n  {'score': -1.1218720972537994,\n   'text': '. У колониальных организмов отсутствуют настоящие дифференцированные клетки, а следовательно, и разделение тела на ткани. Граница между многоклеточностью и колониальностью нечёткая. Например, вольвокс часто относят к колониальным организмам, хотя в его колониях есть чёткое деление клеток на генеративные и соматические'},\n  {'score': -1.125093013048172,\n   'text': 'сть. У колониальных организмов отсутствуют настоящие дифференцированные клетки, а следовательно, и разделение тела на ткани.'},\n  {'score': -1.1550865769386292, 'text': 'форм. Многоклеточные животные'},\n  {'score': -1.1561772674322128,\n   'text': 'ческие. Кроме дифференциации клеток, для многоклеточных характерен и более высокий уровень интеграции'},\n  {'score': -1.1625932455062866,\n   'text': 'к колониальным организмам, хотя в его колониях есть чёткое деление клеток на генеративные и соматические. Кроме дифференциации клеток, для многоклеточных характерен и более высокий уровень интеграции, чем для колониальных форм.'},\n  {'score': -1.17166668176651, 'text': 'для многоклеточных характерен'},\n  {'score': -1.1754944622516632,\n   'text': 'для многоклеточных характерен и более высокий уровень интеграции, чем для колониальных форм.'},\n  {'score': -1.196502834558487,\n   'text': 'отличать многоклеточность и колониальность. У колониальных организмов отсутствуют настоящие дифференцированные клетки, а следовательно, и разделение тела на ткани.'},\n  {'score': -1.2254372239112854,\n   'text': 'многоклеточность и колониальность. У колониальных организмов отсутствуют настоящие дифференцированные клетки, а следовательно, и разделение тела на ткани. Граница'},\n  {'score': -1.2290273904800415,\n   'text': 'многоклеточность и колониальность. У колониальных организмов отсутствуют настоящие дифференцированные клетки, а следовательно, и разделение тела на ткани. Граница между многоклеточностью и колониальностью нечёткая. Например'},\n  {'score': -1.248773217201233, 'text': '2,'},\n  {'score': -1.2546311914920807,\n   'text': 'тело которых состоит из многих клеток, большая часть которых (кроме стволовых, например, клеток камбия у растений) дифференцированы, то есть различаются по строению и выполняемым функциям.'},\n  {'score': -1.257175326347351,\n   'text': 'по строению и выполняемым функциям. Следует отличать многоклеточность и колониальность. У колониальных организмов отсутствуют настоящие дифференцированные клетки, а следовательно, и разделение тела на ткани. Граница между многоклеточностью и колониальностью нечёткая. Например, вольвокс часто относят к колониальным организмам, хотя в его колониях есть чёткое деление клеток на генеративные и соматические. Кроме дифференциации клеток, для многоклеточных характерен и более высокий уровень интеграции, чем для колониальных форм.'},\n  {'score': -1.2604344189167023, 'text': 'Граница'},\n  {'score': -1.2636073529720306,\n   'text': '. У колониальных организмов отсутствуют настоящие дифференцированные клетки, а следовательно, и разделение тела на ткани.'},\n  {'score': -1.2640245854854584,\n   'text': 'Граница между многоклеточностью и колониальностью нечёткая. Например'},\n  {'score': -1.274457186460495,\n   'text': 'тело которых состоит из многих клеток, большая часть которых (кроме стволовых, например, клеток камбия у растений) дифференцированы, то есть различаются по строению и выполняемым функциям. Следует отличать многоклеточность и колониальность. У колониальных организмов отсутствуют настоящие дифференцированные клетки, а следовательно, и разделение тела на ткани. Граница'},\n  {'score': -1.278047353029251,\n   'text': 'тело которых состоит из многих клеток, большая часть которых (кроме стволовых, например, клеток камбия у растений) дифференцированы, то есть различаются по строению и выполняемым функциям. Следует отличать многоклеточность и колониальность. У колониальных организмов отсутствуют настоящие дифференцированные клетки, а следовательно, и разделение тела на ткани. Граница между многоклеточностью и колониальностью нечёткая. Например'},\n  {'score': -1.2910784184932709,\n   'text': 'тело которых состоит из многих клеток, большая часть которых (кроме стволовых'},\n  {'score': -1.293886959552765,\n   'text': 'для многоклеточных характерен и более высокий уровень интеграции, чем для колониальных форм. Многоклеточные животные'},\n  {'score': -1.306714653968811,\n   'text': 'сть. У колониальных организмов отсутствуют настоящие дифференцированные клетки, а следовательно, и разделение тела на ткани. Граница между многоклеточностью и колониальностью нечёткая. Например, вольвокс часто относят к колониальным организмам, хотя в его колониях есть чёткое деление клеток на генеративные и соматические. Кроме дифференциации клеток, для многоклеточных характерен и более высокий уровень интеграции, чем для колониальных форм.'},\n  {'score': -1.378124475479126,\n   'text': 'отличать многоклеточность и колониальность. У колониальных организмов отсутствуют настоящие дифференцированные клетки, а следовательно, и разделение тела на ткани. Граница между многоклеточностью и колониальностью нечёткая. Например, вольвокс часто относят к колониальным организмам, хотя в его колониях есть чёткое деление клеток на генеративные и соматические. Кроме дифференциации клеток, для многоклеточных характерен и более высокий уровень интеграции, чем для колониальных форм.'},\n  {'score': -1.4028477668762207,\n   'text': 'по строению и выполняемым функциям.'},\n  {'score': -1.422673761844635,\n   'text': 'по строению и выполняемым функциям. Следует отличать многоклеточность и колониальность. У колониальных организмов отсутствуют настоящие дифференцированные клетки, а следовательно, и разделение тела на ткани. Граница'},\n  {'score': -1.4262639284133911,\n   'text': 'по строению и выполняемым функциям. Следует отличать многоклеточность и колониальность. У колониальных организмов отсутствуют настоящие дифференцированные клетки, а следовательно, и разделение тела на ткани. Граница между многоклеточностью и колониальностью нечёткая. Например'},\n  {'score': -1.4397325366735458,\n   'text': 'ческие. Кроме дифференциации клеток, для многоклеточных характерен и более высокий уровень интеграции, чем для колониальных форм. Многоклеточные животные, возможно, появились на Земле 2,'},\n  {'score': -1.4414036124944687,\n   'text': 'ческие. Кроме дифференциации клеток,'},\n  {'score': -1.4452289938926697,\n   'text': '. У колониальных организмов отсутствуют настоящие дифференцированные клетки, а следовательно, и разделение тела на ткани. Граница между многоклеточностью и колониальностью нечёткая. Например, вольвокс часто относят к колониальным организмам, хотя в его колониях есть чёткое деление клеток на генеративные и соматические. Кроме дифференциации клеток, для многоклеточных характерен и более высокий уровень интеграции, чем для колониальных форм.'},\n  {'score': -1.472213089466095,\n   'text': 'сть. У колониальных организмов отсутствуют настоящие дифференцированные клетки, а следовательно, и разделение тела на ткани. Граница'},\n  {'score': -1.475803256034851,\n   'text': 'сть. У колониальных организмов отсутствуют настоящие дифференцированные клетки, а следовательно, и разделение тела на ткани. Граница между многоклеточностью и колониальностью нечёткая. Например'},\n  {'score': -1.54362291097641,\n   'text': 'отличать многоклеточность и колониальность. У колониальных организмов отсутствуют настоящие дифференцированные клетки, а следовательно, и разделение тела на ткани. Граница'},\n  {'score': -1.547213077545166,\n   'text': 'отличать многоклеточность и колониальность. У колониальных организмов отсутствуют настоящие дифференцированные клетки, а следовательно, и разделение тела на ткани. Граница между многоклеточностью и колониальностью нечёткая. Например'},\n  {'score': -1.6107274293899536,\n   'text': '. У колониальных организмов отсутствуют настоящие дифференцированные клетки, а следовательно, и разделение тела на ткани. Граница'},\n  {'score': -1.6143175959587097,\n   'text': '. У колониальных организмов отсутствуют настоящие дифференцированные клетки, а следовательно, и разделение тела на ткани. Граница между многоклеточностью и колониальностью нечёткая. Например'},\n  {'score': -1.7101255655288696,\n   'text': 'для многоклеточных характерен и более высокий уровень интеграции'},\n  {'score': -1.7147756218910217,\n   'text': 'для колониальных форм. Многоклеточные животные, возможно, появились на Земле 2,'},\n  {'score': -1.854880452156067,\n   'text': 'форм. Многоклеточные животные, возможно, появились на Земле 2,'},\n  {'score': -1.9936808347702026,\n   'text': 'для многоклеточных характерен и более высокий уровень интеграции, чем для колониальных форм. Многоклеточные животные, возможно, появились на Земле 2,'}]]"
     },
     "execution_count": 37,
     "metadata": {},
     "output_type": "execute_result"
    }
   ],
   "source": [
    "def inference(data: dict | datasets.Dataset, n_best_size=20, max_answer_len=256, min_answer_len=0) -> str:\n",
    "    \"\"\"\n",
    "    :param data: словарь формата теста (поля question, context и id)\n",
    "    :param n_best_size: сколько лучших значений логитов используется для поиска ответа\n",
    "    :param max_answer_len: не рассматриваем ответы с большей длиной даже если у них высокий скор\n",
    "    :param min_answer_len: аналогично не рассматриваем меньшую длину\n",
    "    :return: ответ на вопрос\n",
    "    \"\"\"\n",
    "    if isinstance(data, datasets.Dataset):\n",
    "        tokenized_data = data.map(prepare_test_data, batched=True, remove_columns=data.column_names)\n",
    "    else:\n",
    "        tokenized_data = prepare_test_data(data)  # TODO в нашей функции используется поле id, чтобы показать, к какому начально тексту пределывать предсказание. Нужно ненулевое любое.\n",
    "    preds = model(\n",
    "        input_ids=torch.tensor(tokenized_data[\"input_ids\"], dtype=torch.int64),\n",
    "        attention_mask=torch.tensor(tokenized_data[\"attention_mask\"], dtype=torch.int64)\n",
    "    )\n",
    "    get_pieces_index = {} # словарь id существующего текста: индексы всех его кусков после токенизации\n",
    "    for i, sample_index in enumerate(tokenized_data[\"id\"]):\n",
    "        if sample_index not in get_pieces_index:\n",
    "            get_pieces_index[sample_index] = []\n",
    "        get_pieces_index[sample_index].append(i)\n",
    "    \n",
    "    total_answers = []\n",
    "    for sample_index, sample in enumerate(tqdm(data[\"id\"])):\n",
    "        context = data[\"context\"][sample_index] # текущий контекст\n",
    "        \n",
    "        valid_answers = []  # ответы для одного контекста\n",
    "        for piece_index in get_pieces_index[sample]: # перебираем все куски одного контекста, собираем ответы для каждого\n",
    "            start_logits = preds.start_logits[piece_index].detach().numpy() \n",
    "            end_logits = preds.end_logits[piece_index].detach().numpy()\n",
    "            offset_mapping = tokenized_data[\"offset_mapping\"][piece_index]\n",
    "            \n",
    "            best_start_tokens_ids = np.argsort(start_logits)[-1 : -n_best_size - 1 : -1].tolist()\n",
    "            best_end_tokens_ids = np.argsort(end_logits)[-1 : -n_best_size - 1 : -1].tolist()\n",
    "            \n",
    "            for start_token in best_start_tokens_ids:\n",
    "                for end_token in best_end_tokens_ids:\n",
    "                    if offset_mapping[start_token] is None or offset_mapping[end_token] is None:\n",
    "                        continue\n",
    "                    if (\n",
    "                            start_token > end_token or \n",
    "                            end_token - start_token + 1 > max_answer_len or \n",
    "                            end_token - start_token + 1 < min_answer_len\n",
    "                    ):\n",
    "                        continue\n",
    "                    valid_answers.append({\n",
    "                            \"score\": start_logits[start_token].item() + end_logits[end_token].item(),\n",
    "                            \"text\": context[offset_mapping[start_token][0] : offset_mapping[end_token][1]]\n",
    "                        })\n",
    "            if not valid_answers:\n",
    "                valid_answers.append({\"score\": 0.0, \"text\": \"\"})\n",
    "                \n",
    "        total_answers.append(sorted(valid_answers, key=lambda x: -x[\"score\"])) # для всего контекста берем лучший по всем кусочкам\n",
    "    \n",
    "    return total_answers\n",
    "    \n",
    "some_samples = test_set[list(range(3))]\n",
    "inference(some_samples)"
   ],
   "metadata": {
    "collapsed": false,
    "ExecuteTime": {
     "end_time": "2024-09-29T15:07:34.370867Z",
     "start_time": "2024-09-29T15:07:34.243709Z"
    }
   },
   "id": "b6f33c8f91e2940",
   "execution_count": 37
  },
  {
   "cell_type": "code",
   "outputs": [
    {
     "name": "stderr",
     "output_type": "stream",
     "text": [
      "100%|██████████| 1/1 [00:00<?, ?it/s]\n"
     ]
    },
    {
     "data": {
      "text/plain": "[[{'score': 3.2535845041275024, 'text': 'Никите Ляпину 20 лет'},\n  {'score': 2.3350441455841064, 'text': 'Н'},\n  {'score': 1.7073487639427185, 'text': '20 лет'},\n  {'score': 0.436442494392395, 'text': 'Ляпину 20 лет'}]]"
     },
     "execution_count": 38,
     "metadata": {},
     "output_type": "execute_result"
    }
   ],
   "source": [
    "inference({\"question\": [\"Сколько Никите Ляпину годиков?\"], \"context\": [\"Никите Ляпину 20 лет\"], \"id\": [0]})"
   ],
   "metadata": {
    "collapsed": false,
    "ExecuteTime": {
     "end_time": "2024-09-29T15:07:38.644707Z",
     "start_time": "2024-09-29T15:07:38.612336Z"
    }
   },
   "id": "d55bb5355f2a5e0a",
   "execution_count": 38
  },
  {
   "cell_type": "markdown",
   "source": [
    "Глазами видно, что модель назначает высочайшие скоры очень коротким ответам.\n",
    "Возможно я допустил багу в препроцессинге, надо посмотреть, как распределена установленная мной длина ответа в токенах.\n",
    "Возможно у нас есть проблемы с обучением."
   ],
   "metadata": {
    "collapsed": false
   },
   "id": "1516f503f574a0fb"
  },
  {
   "cell_type": "markdown",
   "source": [
    "Сначала оценим-ка метрику"
   ],
   "metadata": {
    "collapsed": false
   },
   "id": "b12edeb56fa600b0"
  },
  {
   "cell_type": "code",
   "outputs": [],
   "source": [
    "import evaluate\n",
    "\n",
    "metric = evaluate.load(\"squad\")"
   ],
   "metadata": {
    "collapsed": false,
    "ExecuteTime": {
     "end_time": "2024-09-29T15:23:36.286115Z",
     "start_time": "2024-09-29T15:23:31.456322Z"
    }
   },
   "id": "56f8b1784127c0f9",
   "execution_count": 43
  },
  {
   "cell_type": "code",
   "outputs": [],
   "source": [
    "predictions = inference(valid_set[:500])\n",
    "final_predictions = [sample[0][\"text\"] for sample in predictions]\n",
    "formatted_predictions = [{\"id\": i, \"prediction_text\": text} for i, text in final_predictions.items()]\n",
    "references = [{\"id\": i, \"answers\": sample[\"answers\"]} for i, sample in enumerate(valid_set)]"
   ],
   "metadata": {
    "collapsed": false,
    "ExecuteTime": {
     "start_time": "2024-09-29T15:23:21.235240Z"
    }
   },
   "id": "81ef45effce228eb",
   "execution_count": null
  },
  {
   "cell_type": "code",
   "outputs": [],
   "source": [
    "metric.compute(predictions=formatted_predictions, references=references)"
   ],
   "metadata": {
    "collapsed": false
   },
   "id": "57bf68c94aca59fa"
  },
  {
   "cell_type": "markdown",
   "source": [
    "Теперь напишем ручной цикл в торче\n",
    "Plot Losses + warmup\n",
    "\n",
    "Также в интерфейсе на инференсе можно выводить несколько дополнительных враиантов ответа\n",
    "Типа ответами могут быть: ...\n",
    "\n",
    "Также причесать код"
   ],
   "metadata": {
    "collapsed": false
   },
   "id": "fe9299231058836"
  },
  {
   "cell_type": "code",
   "outputs": [],
   "source": [
    "# from torch.utils.data import DataLoader\n",
    "# from transformers import default_data_collator\n",
    "# \n",
    "# train_set.set_format(\"torch\")\n",
    "# validation_set = valid_set.remove_columns([\"example_id\", \"offset_mapping\"])\n",
    "# validation_set.set_format(\"torch\")\n",
    "# \n",
    "# train_dataloader = DataLoader(\n",
    "#     train_set,\n",
    "#     shuffle=True,\n",
    "#     collate_fn=default_data_collator,\n",
    "#     batch_size=8,\n",
    "# )\n",
    "# eval_dataloader = DataLoader(\n",
    "#     validation_set, collate_fn=default_data_collator, batch_size=BATCH_SIZE\n",
    "# )"
   ],
   "metadata": {
    "collapsed": false
   },
   "id": "b4316e1a49d6ad81"
  }
 ],
 "metadata": {
  "kernelspec": {
   "display_name": "Python 3",
   "language": "python",
   "name": "python3"
  },
  "language_info": {
   "codemirror_mode": {
    "name": "ipython",
    "version": 2
   },
   "file_extension": ".py",
   "mimetype": "text/x-python",
   "name": "python",
   "nbconvert_exporter": "python",
   "pygments_lexer": "ipython2",
   "version": "2.7.6"
  }
 },
 "nbformat": 4,
 "nbformat_minor": 5
}
